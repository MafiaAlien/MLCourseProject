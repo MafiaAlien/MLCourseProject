{
 "cells": [
  {
   "cell_type": "markdown",
   "metadata": {},
   "source": [
    "# Classification and Pipeline"
   ]
  },
  {
   "cell_type": "markdown",
   "metadata": {},
   "source": [
    "We will draw couple of plots during the lecture. We activate matplotlib to show the plots inline in the notebook."
   ]
  },
  {
   "cell_type": "code",
   "execution_count": 1,
   "metadata": {},
   "outputs": [],
   "source": [
    "%matplotlib inline\n",
    "import matplotlib.pyplot as plt"
   ]
  },
  {
   "cell_type": "markdown",
   "metadata": {},
   "source": [
    "`scikit-learn` provides state-of-the-art machine learning algorithms. \n",
    "These algorithms, however, cannot be directly used on raw data. Raw data needs to be preprocessed beforehand. Thus, besides machine learning algorithms, `scikit-learn` provides a set of preprocessing methods. Furthermore, `scikit-learn` provides connectors for pipelining these estimators (i.e., transformer, regressor, classifier, clusterer, etc.).\n",
    "\n",
    "In this lecture, we will present the set of `scikit-learn` functionalities allowing for pipelining estimators, evaluating those pipelines, tuning those pipelines using hyper-parameters optimization, and creating complex preprocessing steps."
   ]
  },
  {
   "cell_type": "markdown",
   "metadata": {},
   "source": [
    "## 1. Basic use-case: train and test a classifier"
   ]
  },
  {
   "cell_type": "markdown",
   "metadata": {},
   "source": [
    "For this first example, we will train and test a classifier on a dataset. We will use this example to recall the API of `scikit-learn`."
   ]
  },
  {
   "cell_type": "markdown",
   "metadata": {},
   "source": [
    "We will use the `digits` dataset which is a dataset of hand-written digits."
   ]
  },
  {
   "cell_type": "code",
   "execution_count": 2,
   "metadata": {},
   "outputs": [],
   "source": [
    "from sklearn.datasets import load_digits\n",
    "\n",
    "X, y = load_digits(return_X_y=True)"
   ]
  },
  {
   "cell_type": "markdown",
   "metadata": {},
   "source": [
    "Each row in `X` contains the intensities of the 64 image pixels. For each sample in `X`, we get the ground-truth `y` indicating the digit written."
   ]
  },
  {
   "cell_type": "code",
   "execution_count": 3,
   "metadata": {},
   "outputs": [
    {
     "data": {
      "text/plain": [
       "array([ 0.,  0.,  5., 13.,  9.,  1.,  0.,  0.,  0.,  0., 13., 15., 10.,\n",
       "       15.,  5.,  0.,  0.,  3., 15.,  2.,  0., 11.,  8.,  0.,  0.,  4.,\n",
       "       12.,  0.,  0.,  8.,  8.,  0.,  0.,  5.,  8.,  0.,  0.,  9.,  8.,\n",
       "        0.,  0.,  4., 11.,  0.,  1., 12.,  7.,  0.,  0.,  2., 14.,  5.,\n",
       "       10., 12.,  0.,  0.,  0.,  0.,  6., 13., 10.,  0.,  0.,  0.])"
      ]
     },
     "execution_count": 3,
     "metadata": {},
     "output_type": "execute_result"
    }
   ],
   "source": [
    "X[0]"
   ]
  },
  {
   "cell_type": "code",
   "execution_count": 4,
   "metadata": {},
   "outputs": [
    {
     "name": "stdout",
     "output_type": "stream",
     "text": [
      "The digit in the image is 0\n"
     ]
    },
    {
     "data": {
      "image/png": "[encoded data removed]",
      "text/plain": [
       "<Figure size 432x288 with 1 Axes>"
      ]
     },
     "metadata": {
      "needs_background": "light"
     },
     "output_type": "display_data"
    }
   ],
   "source": [
    "plt.imshow(X[0].reshape(8, 8), cmap='gray');\n",
    "plt.axis('off')\n",
    "print('The digit in the image is {}'.format(y[0]))"
   ]
  },
  {
   "cell_type": "markdown",
   "metadata": {},
   "source": [
    "In machine learning, we should evaluate our model by training and testing it on distinct sets of data. `train_test_split` is a utility function to split the data into two independent sets. The `stratify` parameter enforces the classes distribution of the train and test datasets to be the same than the one of the entire dataset."
   ]
  },
  {
   "cell_type": "code",
   "execution_count": 5,
   "metadata": {},
   "outputs": [],
   "source": [
    "from sklearn.model_selection import train_test_split\n",
    "\n",
    "X_train, X_test, y_train, y_test = train_test_split(X, y, stratify=y, random_state=42)"
   ]
  },
  {
   "cell_type": "markdown",
   "metadata": {},
   "source": [
    "Once we have independent training and testing sets, we can learn a machine learning model using the `fit` method. We will use the `score` method to test this method, relying on the default accuracy metric."
   ]
  },
  {
   "cell_type": "code",
   "execution_count": 7,
   "metadata": {},
   "outputs": [
    {
     "name": "stdout",
     "output_type": "stream",
     "text": [
      "Accuracy score of the LogisticRegression is 0.95\n"
     ]
    },
    {
     "data": {
      "text/plain": [
       "array([[ 0.00000000e+00, -6.32659201e-03,  2.92934575e-02,\n",
       "         3.85278806e-02,  2.58367169e-02, -6.69576949e-02,\n",
       "        -1.32091899e-01, -1.82530890e-02, -1.22821205e-05,\n",
       "        -5.47362646e-02,  3.38775083e-02,  1.80830247e-01,\n",
       "         1.08818297e-02,  6.39280370e-02, -4.69634789e-02,\n",
       "        -1.90738965e-02, -3.91505833e-08,  2.79848939e-02,\n",
       "         9.34332793e-02, -5.35703218e-02, -2.75681685e-01,\n",
       "         4.60764306e-02,  6.21897335e-02, -5.62785953e-03,\n",
       "        -2.20096584e-08,  1.24935815e-01,  1.16650614e-01,\n",
       "        -1.24361097e-01, -3.85200804e-01, -1.71748220e-02,\n",
       "         1.06355754e-01, -3.67959620e-05,  0.00000000e+00,\n",
       "         1.70781738e-01,  4.68820840e-02, -1.66209459e-01,\n",
       "        -3.25744605e-01,  7.84349077e-02,  6.17419334e-02,\n",
       "         0.00000000e+00, -5.96730248e-05,  6.75087329e-03,\n",
       "         1.74138896e-01, -7.02299308e-02, -1.49142555e-01,\n",
       "         1.13535299e-01,  1.03835556e-02, -8.82942438e-06,\n",
       "        -2.28662608e-04, -6.45368853e-02,  8.46721305e-02,\n",
       "        -5.01495372e-02,  1.54107063e-01,  1.52108890e-02,\n",
       "        -3.14598945e-03, -1.45685928e-03, -2.59911978e-08,\n",
       "        -2.49924784e-03, -1.09120629e-02,  1.04233050e-01,\n",
       "        -5.55046716e-02, -1.52916279e-02, -4.28712077e-02,\n",
       "        -6.76996152e-03],\n",
       "       [ 0.00000000e+00,  1.68978912e-02, -4.41375383e-03,\n",
       "         1.79130895e-01, -4.85230387e-01,  1.81928838e-01,\n",
       "         9.23422254e-02, -4.36509584e-04, -2.53211373e-03,\n",
       "        -3.49468621e-01, -4.17898916e-01, -1.42935338e-01,\n",
       "         1.14737527e-01,  1.60573991e-01, -2.81812754e-01,\n",
       "        -3.37488132e-05, -2.10557826e-07,  1.89300497e-01,\n",
       "         1.73723960e-02,  5.14817611e-01,  4.92645426e-01,\n",
       "        -6.75038156e-02,  2.20692686e-02, -4.15128490e-04,\n",
       "        -5.31784552e-03, -1.00997086e-01,  9.44990974e-02,\n",
       "         1.82348782e-01,  1.24082976e-01,  3.66881323e-02,\n",
       "         7.04755223e-02, -1.06030402e-07,  0.00000000e+00,\n",
       "         6.30838538e-02,  1.54008854e-01, -8.64623281e-02,\n",
       "         1.05583918e-01,  8.19868935e-02, -1.32173505e-01,\n",
       "         0.00000000e+00, -3.80061614e-07, -1.64756849e-01,\n",
       "         7.39194736e-02,  1.53842615e-01,  9.70459275e-02,\n",
       "        -1.79255140e-01, -2.66172140e-01, -5.33007183e-04,\n",
       "        -2.84989503e-06, -1.82261966e-01, -1.68402214e-01,\n",
       "         1.46428348e-01,  2.77671125e-01, -1.07884751e-01,\n",
       "        -6.42918131e-02,  1.57448878e-01, -8.83413875e-07,\n",
       "         1.35630097e-02, -2.00629692e-01, -4.20577738e-02,\n",
       "         2.80308022e-02,  2.20292512e-01,  2.78390721e-01,\n",
       "         2.00206449e-01],\n",
       "       [ 0.00000000e+00,  1.71277457e-02, -1.27743263e-02,\n",
       "         5.66154169e-02,  5.70788040e-02, -2.93063721e-02,\n",
       "        -3.88373143e-04, -6.68653207e-05, -8.80071939e-05,\n",
       "         2.61428039e-01, -1.39659942e-02, -2.41372079e-01,\n",
       "         2.03882360e-01,  4.60451283e-02,  1.43427511e-02,\n",
       "        -1.45819366e-04,  7.44094070e-04, -4.00849918e-02,\n",
       "        -7.90753664e-02, -2.15354808e-01,  2.18327575e-01,\n",
       "        -5.67733962e-02,  1.72461490e-01, -1.33896028e-06,\n",
       "        -1.98347725e-08, -1.66836228e-01, -4.72397667e-01,\n",
       "        -3.68940857e-01, -2.91816849e-01, -5.13273695e-03,\n",
       "         4.07001297e-02, -5.90717679e-08,  0.00000000e+00,\n",
       "        -1.49054374e-01, -2.86071122e-01, -8.87302511e-02,\n",
       "        -1.12124595e-02, -1.65351406e-01, -2.32086459e-01,\n",
       "         0.00000000e+00, -1.76794177e-07,  7.99987600e-02,\n",
       "         1.59636702e-02,  4.12148368e-01, -3.12979577e-01,\n",
       "        -2.39174971e-01, -1.24219063e-01,  7.69924748e-03,\n",
       "         1.25411287e-03,  1.01962384e-01,  3.91632002e-02,\n",
       "         4.58315165e-01,  2.92930286e-01,  3.43288229e-01,\n",
       "         1.43422508e-01,  7.72231900e-02,  4.18097485e-04,\n",
       "         2.98513764e-02,  1.63436959e-01,  1.01139145e-01,\n",
       "        -1.19966517e-02,  1.85757966e-01,  2.96593882e-01,\n",
       "         1.15762251e-01],\n",
       "       [ 0.00000000e+00,  1.51841667e-01, -1.24296316e-01,\n",
       "         6.56986133e-02,  4.17411480e-01,  1.53370480e-01,\n",
       "         8.13111718e-03,  1.35868799e-03, -8.67413659e-04,\n",
       "         1.39945690e-01,  1.09599117e-01,  8.39954944e-02,\n",
       "         2.08328614e-01,  1.33570830e-01,  1.72554969e-01,\n",
       "        -2.47026467e-02, -7.41992892e-04, -1.19474145e-01,\n",
       "        -2.45582286e-01, -4.56806416e-01,  2.00187134e-02,\n",
       "        -1.81910301e-01, -8.68322467e-03, -5.42207428e-05,\n",
       "        -1.95587381e-08, -1.80793875e-01, -3.74946254e-01,\n",
       "        -1.37175641e-01,  2.73341820e-01, -3.80675912e-01,\n",
       "        -3.08119806e-01, -5.86843180e-08,  0.00000000e+00,\n",
       "        -1.11023512e-01, -1.37859056e-01,  8.52673272e-02,\n",
       "         6.26368407e-02, -5.62212790e-02, -1.54842788e-02,\n",
       "         0.00000000e+00, -1.75956410e-07, -6.63404117e-02,\n",
       "        -2.72659011e-01, -4.40719925e-01,  2.00287723e-01,\n",
       "         1.98629313e-01,  2.47323619e-01, -7.58186650e-03,\n",
       "        -2.48593755e-07, -7.56647956e-02, -2.78598801e-02,\n",
       "        -1.43605464e-01,  4.15488492e-02,  3.19747965e-01,\n",
       "         3.30089793e-01, -9.98997953e-02, -2.41885073e-08,\n",
       "         7.91958761e-02,  2.91298915e-01,  7.61714821e-02,\n",
       "         9.21489471e-02, -3.98582283e-02,  5.79333775e-02,\n",
       "        -1.47565106e-01],\n",
       "       [ 0.00000000e+00, -3.60671896e-02, -2.05251700e-01,\n",
       "        -4.08849475e-01, -2.92485920e-01, -2.74752324e-01,\n",
       "        -2.24258765e-01, -6.61481267e-05, -6.62498431e-05,\n",
       "         5.69991850e-02, -1.45138570e-01, -2.24252439e-01,\n",
       "        -3.41104627e-01, -2.52888746e-01, -1.91733997e-01,\n",
       "         3.19229994e-02, -3.91353660e-08,  3.93386136e-02,\n",
       "         1.20676450e-01,  4.79691501e-02,  2.71399149e-02,\n",
       "         6.36789075e-02, -1.09623541e-01,  4.04556972e-02,\n",
       "         6.18290886e-03,  9.26707648e-02,  2.85729106e-01,\n",
       "         3.21230578e-02, -2.84233838e-02,  3.76567588e-02,\n",
       "         3.51796329e-01,  1.10856125e-03,  0.00000000e+00,\n",
       "         8.59851759e-02,  7.42501327e-02, -9.88491705e-02,\n",
       "         1.54375045e-01,  2.36090581e-01,  3.58124619e-01,\n",
       "         0.00000000e+00,  2.14287703e-04,  3.76661230e-01,\n",
       "         2.51414390e-02,  4.70621616e-01,  1.97716903e-01,\n",
       "        -4.58920583e-03,  6.09735443e-02, -4.93805544e-04,\n",
       "         3.12126952e-04,  1.52746901e-01, -1.87532423e-01,\n",
       "        -2.16887507e-03,  6.13476973e-02, -2.65447476e-01,\n",
       "        -2.72824332e-01, -1.88518812e-03, -1.76039839e-06,\n",
       "        -2.54203995e-02, -7.93586677e-02, -2.76332707e-01,\n",
       "        -1.96405504e-01, -2.55435958e-01, -1.16960436e-01,\n",
       "        -6.49543756e-04],\n",
       "       [ 0.00000000e+00,  1.05556207e-01,  3.31117608e-01,\n",
       "        -1.13869764e-01,  2.23358087e-01,  2.15720933e-01,\n",
       "         2.78695353e-01, -6.04176593e-02,  1.63887094e-05,\n",
       "        -1.90641358e-02,  2.79783958e-01,  2.05219406e-01,\n",
       "         1.45468704e-02, -1.53999253e-01,  5.96614979e-02,\n",
       "        -9.90008940e-03, -4.48024570e-08,  1.58448018e-02,\n",
       "         6.05355753e-02,  3.63940630e-02, -5.30593858e-01,\n",
       "        -3.19080848e-01, -3.73405329e-01, -2.58745958e-03,\n",
       "        -8.27677542e-04,  1.54282085e-01,  2.15281430e-01,\n",
       "        -1.29428557e-01,  2.43528056e-01, -3.49954025e-03,\n",
       "        -2.50897709e-01, -8.48936578e-07,  0.00000000e+00,\n",
       "        -9.87513837e-02,  1.85060533e-01, -6.80685833e-02,\n",
       "        -1.63220697e-01, -2.84374798e-02,  7.14688154e-02,\n",
       "         0.00000000e+00, -1.76374573e-07, -1.95864183e-01,\n",
       "        -1.59435447e-01, -1.63732335e-01, -1.76417857e-02,\n",
       "         2.05185331e-01, -2.33260909e-02, -2.57415099e-06,\n",
       "        -2.39599527e-07,  2.50894010e-02,  5.40277331e-02,\n",
       "        -7.82709080e-02, -5.34838690e-02, -7.15184937e-02,\n",
       "        -9.61781528e-02, -8.91925201e-04, -2.09938700e-08,\n",
       "         6.72091590e-02,  3.34897507e-01,  2.80339672e-01,\n",
       "        -2.74028658e-02,  1.40588196e-02, -2.06727230e-01,\n",
       "        -1.08772780e-02],\n",
       "       [ 0.00000000e+00, -1.12077442e-02, -1.42484157e-01,\n",
       "        -1.00126778e-01, -1.96798736e-02, -2.42597680e-01,\n",
       "        -2.12221521e-02, -3.07330537e-06, -1.12915916e-06,\n",
       "        -1.52917007e-01, -8.68596085e-02, -3.23220434e-02,\n",
       "        -2.37805541e-01, -2.07545800e-01, -1.29684407e-02,\n",
       "        -3.71305278e-05, -3.92049400e-08, -1.02294419e-01,\n",
       "         1.17755466e-01,  1.04051603e-01, -2.38979058e-01,\n",
       "        -4.44762471e-01, -2.80254811e-02, -1.01358660e-04,\n",
       "        -2.95363518e-05,  1.41358077e-01,  2.48535491e-02,\n",
       "         9.77265441e-02,  4.61768029e-02,  3.96226380e-02,\n",
       "        -1.62999583e-01, -1.39014377e-05,  0.00000000e+00,\n",
       "         1.85620714e-01,  1.21841262e-01,  8.22866115e-02,\n",
       "         3.20786328e-02, -7.07413239e-02,  1.39072580e-01,\n",
       "         0.00000000e+00, -1.53156301e-04, -9.08059683e-03,\n",
       "         4.40713932e-01,  9.88708984e-02,  1.00187529e-01,\n",
       "        -1.03357283e-02,  2.05758174e-01,  1.91391716e-03,\n",
       "        -8.70592850e-05, -9.10988898e-02,  1.32705374e-01,\n",
       "         1.16385106e-02, -1.01323945e-01,  2.32057486e-01,\n",
       "         7.01281986e-02, -1.22911316e-01, -2.03484493e-08,\n",
       "        -1.15383811e-02, -1.85136202e-01, -1.02933894e-01,\n",
       "         1.58137661e-02,  1.76274862e-01, -2.78474374e-02,\n",
       "        -8.11679745e-02],\n",
       "       [ 0.00000000e+00,  2.93532160e-02,  5.72352524e-02,\n",
       "         2.08205624e-02,  8.53216551e-02,  2.91278624e-02,\n",
       "         1.94143465e-01,  7.82143299e-02, -1.00331170e-06,\n",
       "         9.68770322e-02,  9.49859768e-02,  7.81529025e-02,\n",
       "         2.53067829e-01, -1.34137700e-02, -1.22106525e-02,\n",
       "         5.38264489e-02, -4.28688869e-08, -1.69458747e-01,\n",
       "        -2.89920449e-01, -1.32080167e-01,  3.09411498e-02,\n",
       "         1.42010474e-01,  1.42415253e-01,  8.90062429e-03,\n",
       "        -1.22592841e-06, -1.49153188e-01, -1.39496196e-02,\n",
       "        -2.90748914e-01, -1.82177456e-02,  6.92809045e-02,\n",
       "         1.47425415e-01, -4.16394956e-05,  0.00000000e+00,\n",
       "         1.06160669e-01,  2.33069698e-02, -9.99342679e-02,\n",
       "         1.56842055e-01,  1.80555081e-01,  2.07662979e-01,\n",
       "         0.00000000e+00, -1.93496529e-07, -1.62676130e-02,\n",
       "         5.43532772e-02,  9.51607835e-02,  4.30301199e-02,\n",
       "         2.71233634e-02, -1.26230152e-02, -7.41528084e-07,\n",
       "        -1.52224366e-05, -6.64067554e-02, -7.26038519e-03,\n",
       "         5.64091711e-02, -2.18792257e-01, -4.04583827e-01,\n",
       "        -1.35348075e-01, -3.70812045e-05, -4.83637185e-06,\n",
       "         8.78227119e-03, -3.46708682e-02, -2.75697549e-01,\n",
       "        -2.25489718e-01, -3.31632240e-01, -1.05015618e-01,\n",
       "        -5.84352749e-03],\n",
       "       [ 0.00000000e+00, -1.39764181e-01,  1.05691967e-01,\n",
       "        -4.31565525e-02, -5.41892914e-02,  1.35695448e-02,\n",
       "        -2.14395131e-01, -1.41268574e-03,  4.11527303e-03,\n",
       "        -1.65405447e-01,  2.48137786e-02, -6.12458421e-02,\n",
       "        -1.20032675e-01,  1.87316888e-01,  1.17545816e-01,\n",
       "        -2.17961291e-03, -5.33129909e-08,  1.21999917e-01,\n",
       "         1.75874128e-01,  3.99135198e-02, -5.63822156e-03,\n",
       "         1.86352095e-01,  9.04387081e-02, -1.64777581e-03,\n",
       "        -6.54211788e-06, -9.31103686e-02, -7.55708575e-02,\n",
       "         3.26014500e-01, -8.88321197e-02, -1.33776078e-02,\n",
       "         3.73180170e-02, -7.93545757e-06,  0.00000000e+00,\n",
       "         1.93889960e-02,  1.79376203e-02,  2.00434847e-01,\n",
       "         1.15902551e-01, -2.97216110e-01, -3.97145809e-01,\n",
       "         0.00000000e+00, -1.79695132e-07, -5.18719579e-02,\n",
       "         1.17016720e-01,  1.98768580e-01,  1.44355284e-01,\n",
       "         9.39295443e-02,  1.40870511e-01, -9.91636293e-04,\n",
       "        -1.23171748e-03,  1.45145541e-01,  1.46192713e-01,\n",
       "        -2.91498988e-01, -3.07097664e-01,  1.12722979e-01,\n",
       "         8.77404879e-02, -1.12232381e-02, -4.10504538e-04,\n",
       "        -2.26476852e-02, -3.26836119e-01, -5.02031852e-03,\n",
       "         2.56209076e-01, -2.84158711e-02, -1.57343127e-01,\n",
       "        -6.89497075e-02],\n",
       "       [ 0.00000000e+00, -1.27411020e-01, -3.41180327e-02,\n",
       "         3.05209200e-01,  4.25787282e-02,  1.98964133e-02,\n",
       "         1.90441605e-02,  1.08301251e-03, -5.63462722e-04,\n",
       "         1.86341529e-01,  1.20802750e-01,  1.53929691e-01,\n",
       "        -1.06502187e-01,  3.64126955e-02,  1.81584289e-01,\n",
       "        -2.96765040e-02, -1.63214453e-06,  3.68435786e-02,\n",
       "         2.89308070e-02,  1.14665766e-01,  2.61820043e-01,\n",
       "         6.31912926e-01,  3.01631228e-02, -3.89211798e-02,\n",
       "        -2.00006931e-08,  1.77644004e-01,  1.99850601e-01,\n",
       "         4.12442181e-01,  1.25361246e-01,  2.36612185e-01,\n",
       "        -3.20540684e-02, -1.00721617e-03,  0.00000000e+00,\n",
       "        -2.72191877e-01, -1.99357279e-01,  2.40265275e-01,\n",
       "        -1.27241281e-01,  4.09001361e-02, -6.11808736e-02,\n",
       "         0.00000000e+00, -1.75998722e-07,  4.07707476e-02,\n",
       "        -4.69152950e-01, -7.54730670e-01, -3.02859568e-01,\n",
       "        -2.05047806e-01, -2.38969095e-01, -7.04013116e-07,\n",
       "        -2.39923613e-07,  5.50250657e-02, -6.57062477e-02,\n",
       "        -1.07097423e-01, -1.46907285e-01, -1.73593000e-01,\n",
       "        -5.95926255e-02,  3.63333537e-03, -2.12405829e-08,\n",
       "        -1.36495979e-01,  4.79102315e-02,  1.40158892e-01,\n",
       "         1.24596819e-01,  7.42497650e-02,  2.38470744e-02,\n",
       "         5.85439781e-03]])"
      ]
     },
     "execution_count": 7,
     "metadata": {},
     "output_type": "execute_result"
    }
   ],
   "source": [
    "from sklearn.linear_model import LogisticRegression\n",
    "\n",
    "clf = LogisticRegression(solver='lbfgs', multi_class='auto', max_iter=5000, random_state=42)\n",
    "clf.fit(X_train, y_train)\n",
    "accuracy = clf.score(X_test, y_test)\n",
    "print('Accuracy score of the {} is {:.2f}'.format(clf.__class__.__name__, accuracy))\n",
    "clf.coef_"
   ]
  },
  {
   "cell_type": "code",
   "execution_count": 7,
   "metadata": {},
   "outputs": [
    {
     "data": {
      "text/plain": [
       "array([ 0.00000000e+00, -6.27161503e-03,  2.92505957e-02,  3.88872465e-02,\n",
       "        2.60297868e-02, -6.64088029e-02, -1.32061761e-01, -1.82940110e-02,\n",
       "       -1.09171934e-05, -5.46694351e-02,  3.41745941e-02,  1.80750485e-01,\n",
       "        1.13534721e-02,  6.43351090e-02, -4.69417056e-02, -1.90816217e-02,\n",
       "        1.54780863e-07,  2.82305586e-02,  9.38144656e-02, -5.33299934e-02,\n",
       "       -2.75424104e-01,  4.68017748e-02,  6.24224574e-02, -5.61621808e-03,\n",
       "        7.49568611e-08,  1.25014711e-01,  1.16899739e-01, -1.24050364e-01,\n",
       "       -3.85035496e-01, -1.70519925e-02,  1.06122312e-01, -3.25236692e-05,\n",
       "        0.00000000e+00,  1.70803087e-01,  4.67557122e-02, -1.65961119e-01,\n",
       "       -3.25987777e-01,  7.83068072e-02,  6.16084585e-02,  0.00000000e+00,\n",
       "       -5.13877533e-05,  6.34994538e-03,  1.74080253e-01, -7.01491077e-02,\n",
       "       -1.49399131e-01,  1.13805201e-01,  1.02268146e-02, -5.52049147e-06,\n",
       "       -1.98181102e-04, -6.48769191e-02,  8.39514606e-02, -5.07788491e-02,\n",
       "        1.54092118e-01,  1.51831616e-02, -3.10635553e-03, -1.44592060e-03,\n",
       "        7.88261182e-08, -2.46105797e-03, -1.08915620e-02,  1.05040055e-01,\n",
       "       -5.55894973e-02, -1.52284325e-02, -4.27618109e-02, -6.76360742e-03])"
      ]
     },
     "execution_count": 7,
     "metadata": {},
     "output_type": "execute_result"
    }
   ],
   "source": [
    "clf.coef_[0]"
   ]
  },
  {
   "cell_type": "code",
   "execution_count": 8,
   "metadata": {},
   "outputs": [
    {
     "data": {
      "text/plain": [
       "(10, 64)"
      ]
     },
     "execution_count": 8,
     "metadata": {},
     "output_type": "execute_result"
    }
   ],
   "source": [
    "clf.coef_.shape"
   ]
  },
  {
   "cell_type": "code",
   "execution_count": 9,
   "metadata": {},
   "outputs": [
    {
     "data": {
      "text/plain": [
       "array([  1.94566798,  -9.8426682 ,   2.06449972,  -3.65975185,\n",
       "        15.7258237 ,  -4.92692388,   1.5577964 ,   8.99028885,\n",
       "        -0.79661405, -11.05811867])"
      ]
     },
     "execution_count": 9,
     "metadata": {},
     "output_type": "execute_result"
    }
   ],
   "source": [
    "clf.intercept_"
   ]
  },
  {
   "cell_type": "markdown",
   "metadata": {},
   "source": [
    "The API of `scikit-learn` is consistent across classifiers. Thus, we can easily replace the `LogisticRegression` classifier by a `RandomForestClassifier`. These changes are minimal and only related to the creation of the classifier instance."
   ]
  },
  {
   "cell_type": "code",
   "execution_count": 10,
   "metadata": {},
   "outputs": [
    {
     "name": "stdout",
     "output_type": "stream",
     "text": [
      "Accuracy score of the RandomForestClassifier is 0.96\n"
     ]
    }
   ],
   "source": [
    "from sklearn.ensemble import RandomForestClassifier\n",
    "\n",
    "clf = RandomForestClassifier(n_estimators=100, n_jobs=-1, random_state=42)\n",
    "clf.fit(X_train, y_train)\n",
    "accuracy = clf.score(X_test, y_test)\n",
    "print('Accuracy score of the {} is {:.2f}'.format(clf.__class__.__name__, accuracy))"
   ]
  },
  {
   "cell_type": "markdown",
   "metadata": {},
   "source": [
    "### Exercise\n",
    "\n",
    "Do the following exercise:"
   ]
  },
  {
   "cell_type": "markdown",
   "metadata": {},
   "source": [
    "* Load the breast cancer dataset. Import the functions `load_breast_cancer` from `sklearn.datasets`"
   ]
  },
  {
   "cell_type": "code",
   "execution_count": 11,
   "metadata": {},
   "outputs": [],
   "source": [
    "from sklearn.datasets import load_breast_cancer\n",
    "\n",
    "X_breast, y_breast = load_breast_cancer(return_X_y=True)"
   ]
  },
  {
   "cell_type": "code",
   "execution_count": 12,
   "metadata": {},
   "outputs": [
    {
     "data": {
      "text/plain": [
       "array([[1.799e+01, 1.038e+01, 1.228e+02, ..., 2.654e-01, 4.601e-01,\n",
       "        1.189e-01],\n",
       "       [2.057e+01, 1.777e+01, 1.329e+02, ..., 1.860e-01, 2.750e-01,\n",
       "        8.902e-02],\n",
       "       [1.969e+01, 2.125e+01, 1.300e+02, ..., 2.430e-01, 3.613e-01,\n",
       "        8.758e-02],\n",
       "       ...,\n",
       "       [1.660e+01, 2.808e+01, 1.083e+02, ..., 1.418e-01, 2.218e-01,\n",
       "        7.820e-02],\n",
       "       [2.060e+01, 2.933e+01, 1.401e+02, ..., 2.650e-01, 4.087e-01,\n",
       "        1.240e-01],\n",
       "       [7.760e+00, 2.454e+01, 4.792e+01, ..., 0.000e+00, 2.871e-01,\n",
       "        7.039e-02]])"
      ]
     },
     "execution_count": 12,
     "metadata": {},
     "output_type": "execute_result"
    }
   ],
   "source": [
    "X_breast"
   ]
  },
  {
   "cell_type": "code",
   "execution_count": 13,
   "metadata": {},
   "outputs": [
    {
     "data": {
      "text/plain": [
       "(569, 30)"
      ]
     },
     "execution_count": 13,
     "metadata": {},
     "output_type": "execute_result"
    }
   ],
   "source": [
    "X_breast.shape"
   ]
  },
  {
   "cell_type": "code",
   "execution_count": 14,
   "metadata": {},
   "outputs": [
    {
     "data": {
      "text/plain": [
       "array([0, 0, 0, 0, 0, 0, 0, 0, 0, 0, 0, 0, 0, 0, 0, 0, 0, 0, 0, 1, 1, 1,\n",
       "       0, 0, 0, 0, 0, 0, 0, 0, 0, 0, 0, 0, 0, 0, 0, 1, 0, 0, 0, 0, 0, 0,\n",
       "       0, 0, 1, 0, 1, 1, 1, 1, 1, 0, 0, 1, 0, 0, 1, 1, 1, 1, 0, 1, 0, 0,\n",
       "       1, 1, 1, 1, 0, 1, 0, 0, 1, 0, 1, 0, 0, 1, 1, 1, 0, 0, 1, 0, 0, 0,\n",
       "       1, 1, 1, 0, 1, 1, 0, 0, 1, 1, 1, 0, 0, 1, 1, 1, 1, 0, 1, 1, 0, 1,\n",
       "       1, 1, 1, 1, 1, 1, 1, 0, 0, 0, 1, 0, 0, 1, 1, 1, 0, 0, 1, 0, 1, 0,\n",
       "       0, 1, 0, 0, 1, 1, 0, 1, 1, 0, 1, 1, 1, 1, 0, 1, 1, 1, 1, 1, 1, 1,\n",
       "       1, 1, 0, 1, 1, 1, 1, 0, 0, 1, 0, 1, 1, 0, 0, 1, 1, 0, 0, 1, 1, 1,\n",
       "       1, 0, 1, 1, 0, 0, 0, 1, 0, 1, 0, 1, 1, 1, 0, 1, 1, 0, 0, 1, 0, 0,\n",
       "       0, 0, 1, 0, 0, 0, 1, 0, 1, 0, 1, 1, 0, 1, 0, 0, 0, 0, 1, 1, 0, 0,\n",
       "       1, 1, 1, 0, 1, 1, 1, 1, 1, 0, 0, 1, 1, 0, 1, 1, 0, 0, 1, 0, 1, 1,\n",
       "       1, 1, 0, 1, 1, 1, 1, 1, 0, 1, 0, 0, 0, 0, 0, 0, 0, 0, 0, 0, 0, 0,\n",
       "       0, 0, 1, 1, 1, 1, 1, 1, 0, 1, 0, 1, 1, 0, 1, 1, 0, 1, 0, 0, 1, 1,\n",
       "       1, 1, 1, 1, 1, 1, 1, 1, 1, 1, 1, 0, 1, 1, 0, 1, 0, 1, 1, 1, 1, 1,\n",
       "       1, 1, 1, 1, 1, 1, 1, 1, 1, 0, 1, 1, 1, 0, 1, 0, 1, 1, 1, 1, 0, 0,\n",
       "       0, 1, 1, 1, 1, 0, 1, 0, 1, 0, 1, 1, 1, 0, 1, 1, 1, 1, 1, 1, 1, 0,\n",
       "       0, 0, 1, 1, 1, 1, 1, 1, 1, 1, 1, 1, 1, 0, 0, 1, 0, 0, 0, 1, 0, 0,\n",
       "       1, 1, 1, 1, 1, 0, 1, 1, 1, 1, 1, 0, 1, 1, 1, 0, 1, 1, 0, 0, 1, 1,\n",
       "       1, 1, 1, 1, 0, 1, 1, 1, 1, 1, 1, 1, 0, 1, 1, 1, 1, 1, 0, 1, 1, 0,\n",
       "       1, 1, 1, 1, 1, 1, 1, 1, 1, 1, 1, 1, 0, 1, 0, 0, 1, 0, 1, 1, 1, 1,\n",
       "       1, 0, 1, 1, 0, 1, 0, 1, 1, 0, 1, 0, 1, 1, 1, 1, 1, 1, 1, 1, 0, 0,\n",
       "       1, 1, 1, 1, 1, 1, 0, 1, 1, 1, 1, 1, 1, 1, 1, 1, 1, 0, 1, 1, 1, 1,\n",
       "       1, 1, 1, 0, 1, 0, 1, 1, 0, 1, 1, 1, 1, 1, 0, 0, 1, 0, 1, 0, 1, 1,\n",
       "       1, 1, 1, 0, 1, 1, 0, 1, 0, 1, 0, 0, 1, 1, 1, 0, 1, 1, 1, 1, 1, 1,\n",
       "       1, 1, 1, 1, 1, 0, 1, 0, 0, 1, 1, 1, 1, 1, 1, 1, 1, 1, 1, 1, 1, 1,\n",
       "       1, 1, 1, 1, 1, 1, 1, 1, 1, 1, 1, 1, 0, 0, 0, 0, 0, 0, 1])"
      ]
     },
     "execution_count": 14,
     "metadata": {},
     "output_type": "execute_result"
    }
   ],
   "source": [
    "y_breast"
   ]
  },
  {
   "cell_type": "markdown",
   "metadata": {},
   "source": [
    "* Split the dataset to keep 30% of it for testing using `sklearn.model_selection.train_test_split`. Make sure to stratify the data (i.e., use the `stratify` parameter) and set the `random_state` to `0`."
   ]
  },
  {
   "cell_type": "code",
   "execution_count": 15,
   "metadata": {},
   "outputs": [],
   "source": [
    "from sklearn.model_selection import train_test_split\n",
    "\n",
    "X_breast_train, X_breast_test, y_breast_train, y_breast_test = train_test_split(X_breast, y_breast, stratify=y_breast, random_state=0, test_size=0.3)\n"
   ]
  },
  {
   "cell_type": "markdown",
   "metadata": {},
   "source": [
    "* Train a supervised classifier using the training data using GradientBoostingClassifier."
   ]
  },
  {
   "cell_type": "code",
   "execution_count": 16,
   "metadata": {},
   "outputs": [
    {
     "data": {
      "text/plain": [
       "GradientBoostingClassifier(ccp_alpha=0.0, criterion='friedman_mse', init=None,\n",
       "                           learning_rate=0.1, loss='deviance', max_depth=3,\n",
       "                           max_features=None, max_leaf_nodes=None,\n",
       "                           min_impurity_decrease=0.0, min_impurity_split=None,\n",
       "                           min_samples_leaf=1, min_samples_split=2,\n",
       "                           min_weight_fraction_leaf=0.0, n_estimators=100,\n",
       "                           n_iter_no_change=None, presort='deprecated',\n",
       "                           random_state=0, subsample=1.0, tol=0.0001,\n",
       "                           validation_fraction=0.1, verbose=0,\n",
       "                           warm_start=False)"
      ]
     },
     "execution_count": 16,
     "metadata": {},
     "output_type": "execute_result"
    }
   ],
   "source": [
    "from sklearn.ensemble import GradientBoostingClassifier\n",
    "\n",
    "clf = GradientBoostingClassifier(n_estimators=100, random_state=0)\n",
    "clf.fit(X_breast_train, y_breast_train)\n"
   ]
  },
  {
   "cell_type": "markdown",
   "metadata": {},
   "source": [
    "* Use the fitted classifier to predict the classification labels for the testing set."
   ]
  },
  {
   "cell_type": "code",
   "execution_count": 17,
   "metadata": {},
   "outputs": [],
   "source": [
    "y_pred = clf.predict(X_breast_test)\n"
   ]
  },
  {
   "cell_type": "markdown",
   "metadata": {},
   "source": [
    "* Compute the balanced accuracy on the testing set. You need to import `balanced_accuracy_score` from `sklearn.metrics`\n",
    "\n",
    "https://en.wikipedia.org/wiki/Precision_and_recall"
   ]
  },
  {
   "cell_type": "code",
   "execution_count": 18,
   "metadata": {},
   "outputs": [
    {
     "name": "stdout",
     "output_type": "stream",
     "text": [
      "Accuracy score of the GradientBoostingClassifier is 0.94\n"
     ]
    }
   ],
   "source": [
    "from sklearn.metrics import balanced_accuracy_score\n",
    "\n",
    "accuracy = balanced_accuracy_score(y_breast_test, y_pred)\n",
    "print('Accuracy score of the {} is {:.2f}'.format(clf.__class__.__name__, accuracy))\n"
   ]
  },
  {
   "cell_type": "markdown",
   "metadata": {},
   "source": [
    "## 2. More advanced use-case: preprocess the data before training and testing a classifier"
   ]
  },
  {
   "cell_type": "markdown",
   "metadata": {},
   "source": [
    "### 2.1 Standardize your data"
   ]
  },
  {
   "cell_type": "markdown",
   "metadata": {},
   "source": [
    "Preprocessing might be required before learning a model. For instance, a user could be interested in creating hand-crafted features or an algorithm might make some apriori assumptions about the data. \n",
    "\n",
    "In our case, the solver used by the `LogisticRegression` expects the data to be normalized. Thus, we need to standardize the data before training the model. To observe this necessary condition, we will check the number of iterations required to train the model."
   ]
  },
  {
   "cell_type": "code",
   "execution_count": 19,
   "metadata": {},
   "outputs": [
    {
     "name": "stdout",
     "output_type": "stream",
     "text": [
      "LogisticRegression required 2900 iterations to be fitted\n"
     ]
    }
   ],
   "source": [
    "from sklearn.linear_model import LogisticRegression\n",
    "\n",
    "clf = LogisticRegression(solver='lbfgs', multi_class='auto', max_iter=5000, random_state=42)\n",
    "clf.fit(X_train, y_train)\n",
    "print('{} required {} iterations to be fitted'.format(clf.__class__.__name__, clf.n_iter_[0]))"
   ]
  },
  {
   "cell_type": "markdown",
   "metadata": {},
   "source": [
    "The `MinMaxScaler` transformer is used to normalise the data. Other scalers include `StandardScaler`, `RobustScaler`, and `Normalizer`. The scaler should be applied in the following way: learn (i.e., `fit` method) the statistics on a training set and standardize (i.e., `transform` method) both the training and testing sets. Finally, we will train and test the model and the scaled datasets."
   ]
  },
  {
   "cell_type": "code",
   "execution_count": 20,
   "metadata": {},
   "outputs": [
    {
     "name": "stdout",
     "output_type": "stream",
     "text": [
      "Accuracy score of the LogisticRegression is 0.96\n",
      "LogisticRegression required 186 iterations to be fitted\n"
     ]
    }
   ],
   "source": [
    "from sklearn.preprocessing import MinMaxScaler\n",
    "\n",
    "scaler = MinMaxScaler()\n",
    "X_train_scaled = scaler.fit_transform(X_train)\n",
    "X_test_scaled = scaler.transform(X_test)\n",
    "\n",
    "clf.fit(X_train_scaled, y_train)\n",
    "accuracy = clf.score(X_test_scaled, y_test)\n",
    "print('Accuracy score of the {} is {:.2f}'.format(clf.__class__.__name__, accuracy))\n",
    "print('{} required {} iterations to be fitted'.format(clf.__class__.__name__, clf.n_iter_[0]))"
   ]
  },
  {
   "cell_type": "code",
   "execution_count": 21,
   "metadata": {},
   "outputs": [
    {
     "name": "stdout",
     "output_type": "stream",
     "text": [
      "Accuracy score of the LogisticRegression is 0.98\n",
      "LogisticRegression required 89 iterations to be fitted\n"
     ]
    }
   ],
   "source": [
    "from sklearn.preprocessing import StandardScaler\n",
    "\n",
    "scaler = StandardScaler()\n",
    "X_train_scaled = scaler.fit_transform(X_train)\n",
    "X_test_scaled = scaler.transform(X_test)\n",
    "\n",
    "clf.fit(X_train_scaled, y_train)\n",
    "accuracy = clf.score(X_test_scaled, y_test)\n",
    "print('Accuracy score of the {} is {:.2f}'.format(clf.__class__.__name__, accuracy))\n",
    "print('{} required {} iterations to be fitted'.format(clf.__class__.__name__, clf.n_iter_[0]))"
   ]
  },
  {
   "cell_type": "markdown",
   "metadata": {},
   "source": [
    "By scaling the data, the convergence of the model happened much faster than with the unscaled data."
   ]
  },
  {
   "cell_type": "markdown",
   "metadata": {},
   "source": [
    "### 2.2 The wrong preprocessing patterns"
   ]
  },
  {
   "cell_type": "markdown",
   "metadata": {},
   "source": [
    "We highlighted how to preprocess and adequately train a machine learning model. It is also interesting to spot what would be the wrong way of preprocessing data. There are two potential mistakes which are easy to make but easy to spot."
   ]
  },
  {
   "cell_type": "markdown",
   "metadata": {},
   "source": [
    "The first pattern is to standardize the data before spliting the full set into training and testing sets."
   ]
  },
  {
   "cell_type": "code",
   "execution_count": 22,
   "metadata": {},
   "outputs": [
    {
     "name": "stdout",
     "output_type": "stream",
     "text": [
      "Accuracy score of the LogisticRegression is 0.96\n"
     ]
    }
   ],
   "source": [
    "scaler = MinMaxScaler()\n",
    "X_scaled = scaler.fit_transform(X)\n",
    "X_train_prescaled, X_test_prescaled, y_train_prescaled, y_test_prescaled = train_test_split(\n",
    "    X_scaled, y, stratify=y, random_state=42)\n",
    "\n",
    "clf = LogisticRegression(solver='lbfgs', multi_class='auto', max_iter=1000, random_state=42)\n",
    "clf.fit(X_train_prescaled, y_train_prescaled)\n",
    "accuracy = clf.score(X_test_prescaled, y_test_prescaled)\n",
    "print('Accuracy score of the {} is {:.2f}'.format(clf.__class__.__name__, accuracy))"
   ]
  },
  {
   "cell_type": "markdown",
   "metadata": {},
   "source": [
    "The second pattern is to standardize the training and testing sets independently. It comes back to call the `fit` methods on both training and testing sets. Thus, the training and testing sets are standardized differently."
   ]
  },
  {
   "cell_type": "code",
   "execution_count": 23,
   "metadata": {},
   "outputs": [
    {
     "name": "stdout",
     "output_type": "stream",
     "text": [
      "Accuracy score of the LogisticRegression is 0.96\n"
     ]
    }
   ],
   "source": [
    "scaler = MinMaxScaler()\n",
    "X_train_prescaled = scaler.fit_transform(X_train)\n",
    "X_test_prescaled = scaler.fit_transform(X_test)\n",
    "\n",
    "clf = LogisticRegression(solver='lbfgs', multi_class='auto', max_iter=1000, random_state=42)\n",
    "clf.fit(X_train_prescaled, y_train)\n",
    "accuracy = clf.score(X_test_prescaled, y_test)\n",
    "print('Accuracy score of the {} is {:.2f}'.format(clf.__class__.__name__, accuracy))"
   ]
  },
  {
   "cell_type": "markdown",
   "metadata": {},
   "source": [
    "### 2.3 Keep it simple, stupid: use the pipeline connector from `scikit-learn`"
   ]
  },
  {
   "cell_type": "markdown",
   "metadata": {},
   "source": [
    "The two previous patterns are an issue with data leaking. However, this is difficult to prevent such a mistake when one has to do the preprocessing by hand. "
   ]
  },
  {
   "cell_type": "code",
   "execution_count": 24,
   "metadata": {},
   "outputs": [
    {
     "name": "stderr",
     "output_type": "stream",
     "text": [
      "C:\\Users\\tli1\\AppData\\Local\\Continuum\\anaconda3\\lib\\site-packages\\sklearn\\externals\\six.py:31: FutureWarning: The module is deprecated in version 0.21 and will be removed in version 0.23 since we've dropped support for Python 2.7. Please rely on the official version of six (https://pypi.org/project/six/).\n",
      "  \"(https://pypi.org/project/six/).\", FutureWarning)\n",
      "C:\\Users\\tli1\\AppData\\Local\\Continuum\\anaconda3\\lib\\site-packages\\sklearn\\externals\\joblib\\__init__.py:15: FutureWarning: sklearn.externals.joblib is deprecated in 0.21 and will be removed in 0.23. Please import this functionality directly from joblib, which can be installed with: pip install joblib. If this warning is raised when loading pickled models, you may need to re-serialize those models with scikit-learn 0.21+.\n",
      "  warnings.warn(msg, category=FutureWarning)\n"
     ]
    },
    {
     "data": {
      "image/png": "[encoded data removed]",
      "text/plain": [
       "<Figure size 1080x720 with 2 Axes>"
      ]
     },
     "metadata": {},
     "output_type": "display_data"
    }
   ],
   "source": [
    "import mglearn\n",
    "mglearn.plots.plot_improper_processing()"
   ]
  },
  {
   "cell_type": "markdown",
   "metadata": {},
   "source": [
    "Thus, `scikit-learn` introduced the `Pipeline` object. It sequentially connects several transformers and a classifier (or a regressor). We can create a pipeline as:"
   ]
  },
  {
   "cell_type": "code",
   "execution_count": 25,
   "metadata": {},
   "outputs": [
    {
     "data": {
      "image/png": "[encoded data removed]",
      "text/plain": [
       "<Figure size 1080x576 with 2 Axes>"
      ]
     },
     "metadata": {},
     "output_type": "display_data"
    }
   ],
   "source": [
    "mglearn.plots.plot_proper_processing()"
   ]
  },
  {
   "cell_type": "code",
   "execution_count": 26,
   "metadata": {},
   "outputs": [],
   "source": [
    "from sklearn.pipeline import Pipeline\n",
    "\n",
    "pipe = Pipeline(steps=[('scaler', MinMaxScaler()),\n",
    "                       ('clf', LogisticRegression(solver='lbfgs', multi_class='auto', random_state=42))])"
   ]
  },
  {
   "cell_type": "markdown",
   "metadata": {},
   "source": [
    "We see that this pipeline contains the parameters of both the scaler and the classifier. The general pipeline can join any number of estimators together. For example, you could build a pipeline containing feature extraction, feature selection, scaling, and classification, for a total of four steps. Similarly, the last step could be regression or clustering instead of classification. \n",
    "\n",
    "Sometimes, it can be tedious to give a name to each estimator in the pipeline. `make_pipeline` will give a name automatically to each estimator which is the lower case of the class name."
   ]
  },
  {
   "cell_type": "code",
   "execution_count": 27,
   "metadata": {},
   "outputs": [],
   "source": [
    "from sklearn.pipeline import make_pipeline\n",
    "pipe = make_pipeline(MinMaxScaler(),\n",
    "                     LogisticRegression(solver='lbfgs', multi_class='auto', random_state=42, max_iter=1000))"
   ]
  },
  {
   "cell_type": "markdown",
   "metadata": {},
   "source": [
    "The pipeline will have an identical API. We use `fit` to train the classifier and `score` to check the accuracy. However, calling `fit` will call the method `fit_transform` of all transformers in the pipeline. Calling `score` (or `predict` and `predict_proba`) will call internally `transform` of all transformers in the pipeline. "
   ]
  },
  {
   "cell_type": "code",
   "execution_count": 28,
   "metadata": {},
   "outputs": [
    {
     "name": "stdout",
     "output_type": "stream",
     "text": [
      "Accuracy score of the Pipeline is 0.96\n"
     ]
    }
   ],
   "source": [
    "pipe.fit(X_train, y_train)\n",
    "accuracy = pipe.score(X_test, y_test)\n",
    "print('Accuracy score of the {} is {:.2f}'.format(pipe.__class__.__name__, accuracy))"
   ]
  },
  {
   "cell_type": "markdown",
   "metadata": {},
   "source": [
    "We can check all the parameters of the pipeline using `get_params()`."
   ]
  },
  {
   "cell_type": "code",
   "execution_count": 29,
   "metadata": {},
   "outputs": [
    {
     "data": {
      "text/plain": [
       "{'memory': None,\n",
       " 'steps': [('minmaxscaler', MinMaxScaler(copy=True, feature_range=(0, 1))),\n",
       "  ('logisticregression',\n",
       "   LogisticRegression(C=1.0, class_weight=None, dual=False, fit_intercept=True,\n",
       "                      intercept_scaling=1, l1_ratio=None, max_iter=1000,\n",
       "                      multi_class='auto', n_jobs=None, penalty='l2',\n",
       "                      random_state=42, solver='lbfgs', tol=0.0001, verbose=0,\n",
       "                      warm_start=False))],\n",
       " 'verbose': False,\n",
       " 'minmaxscaler': MinMaxScaler(copy=True, feature_range=(0, 1)),\n",
       " 'logisticregression': LogisticRegression(C=1.0, class_weight=None, dual=False, fit_intercept=True,\n",
       "                    intercept_scaling=1, l1_ratio=None, max_iter=1000,\n",
       "                    multi_class='auto', n_jobs=None, penalty='l2',\n",
       "                    random_state=42, solver='lbfgs', tol=0.0001, verbose=0,\n",
       "                    warm_start=False),\n",
       " 'minmaxscaler__copy': True,\n",
       " 'minmaxscaler__feature_range': (0, 1),\n",
       " 'logisticregression__C': 1.0,\n",
       " 'logisticregression__class_weight': None,\n",
       " 'logisticregression__dual': False,\n",
       " 'logisticregression__fit_intercept': True,\n",
       " 'logisticregression__intercept_scaling': 1,\n",
       " 'logisticregression__l1_ratio': None,\n",
       " 'logisticregression__max_iter': 1000,\n",
       " 'logisticregression__multi_class': 'auto',\n",
       " 'logisticregression__n_jobs': None,\n",
       " 'logisticregression__penalty': 'l2',\n",
       " 'logisticregression__random_state': 42,\n",
       " 'logisticregression__solver': 'lbfgs',\n",
       " 'logisticregression__tol': 0.0001,\n",
       " 'logisticregression__verbose': 0,\n",
       " 'logisticregression__warm_start': False}"
      ]
     },
     "execution_count": 29,
     "metadata": {},
     "output_type": "execute_result"
    }
   ],
   "source": [
    "pipe.get_params()"
   ]
  },
  {
   "cell_type": "markdown",
   "metadata": {},
   "source": [
    "### 2.4 Exercise\n",
    "\n",
    "Reuse the breast dataset of the first exercise to train a `SGDClassifier` which you can import from `linear_model`. Make a pipeline with this classifier and a `StandardScaler` transformer imported from `sklearn.preprocessing`. Train and test this pipeline."
   ]
  },
  {
   "cell_type": "code",
   "execution_count": 30,
   "metadata": {
    "scrolled": true
   },
   "outputs": [
    {
     "name": "stdout",
     "output_type": "stream",
     "text": [
      "Accuracy score of the Pipeline is 0.97\n"
     ]
    }
   ],
   "source": [
    "from sklearn.preprocessing import StandardScaler\n",
    "from sklearn.linear_model import SGDClassifier\n",
    "\n",
    "pipe = make_pipeline(StandardScaler(), SGDClassifier(max_iter=1000))\n",
    "pipe.fit(X_breast_train, y_breast_train)\n",
    "y_pred = pipe.predict(X_breast_test)\n",
    "accuracy = balanced_accuracy_score(y_breast_test, y_pred)\n",
    "print('Accuracy score of the {} is {:.2f}'.format(pipe.__class__.__name__, accuracy))\n"
   ]
  },
  {
   "cell_type": "markdown",
   "metadata": {},
   "source": [
    "### 2.5 Interactions and polynomials"
   ]
  },
  {
   "cell_type": "code",
   "execution_count": 31,
   "metadata": {},
   "outputs": [],
   "source": [
    "from sklearn.datasets import load_boston\n",
    "from sklearn.preprocessing import PolynomialFeatures\n",
    "from sklearn.model_selection import train_test_split\n",
    "from sklearn.preprocessing import MinMaxScaler\n",
    "\n",
    "boston = load_boston()\n",
    "X_train2, X_test2, y_train2, y_test2 = train_test_split(\n",
    "    boston.data, boston.target, random_state=0)\n",
    "\n",
    "# rescale data\n",
    "scaler = MinMaxScaler()\n",
    "X_train2_scaled = scaler.fit_transform(X_train2)\n",
    "X_test2_scaled = scaler.transform(X_test2)"
   ]
  },
  {
   "cell_type": "code",
   "execution_count": 32,
   "metadata": {},
   "outputs": [
    {
     "name": "stdout",
     "output_type": "stream",
     "text": [
      "X_train.shape: (379, 13)\n",
      "X_train_poly.shape: (379, 105)\n"
     ]
    }
   ],
   "source": [
    "poly = PolynomialFeatures(degree=2).fit(X_train2_scaled)\n",
    "X_train2_poly = poly.transform(X_train2_scaled)\n",
    "X_test2_poly = poly.transform(X_test2_scaled)\n",
    "print(\"X_train.shape: {}\".format(X_train2.shape))\n",
    "print(\"X_train_poly.shape: {}\".format(X_train2_poly.shape))"
   ]
  },
  {
   "cell_type": "code",
   "execution_count": 33,
   "metadata": {},
   "outputs": [
    {
     "name": "stdout",
     "output_type": "stream",
     "text": [
      "Polynomial feature names:\n",
      "['1', 'x0', 'x1', 'x2', 'x3', 'x4', 'x5', 'x6', 'x7', 'x8', 'x9', 'x10', 'x11', 'x12', 'x0^2', 'x0 x1', 'x0 x2', 'x0 x3', 'x0 x4', 'x0 x5', 'x0 x6', 'x0 x7', 'x0 x8', 'x0 x9', 'x0 x10', 'x0 x11', 'x0 x12', 'x1^2', 'x1 x2', 'x1 x3', 'x1 x4', 'x1 x5', 'x1 x6', 'x1 x7', 'x1 x8', 'x1 x9', 'x1 x10', 'x1 x11', 'x1 x12', 'x2^2', 'x2 x3', 'x2 x4', 'x2 x5', 'x2 x6', 'x2 x7', 'x2 x8', 'x2 x9', 'x2 x10', 'x2 x11', 'x2 x12', 'x3^2', 'x3 x4', 'x3 x5', 'x3 x6', 'x3 x7', 'x3 x8', 'x3 x9', 'x3 x10', 'x3 x11', 'x3 x12', 'x4^2', 'x4 x5', 'x4 x6', 'x4 x7', 'x4 x8', 'x4 x9', 'x4 x10', 'x4 x11', 'x4 x12', 'x5^2', 'x5 x6', 'x5 x7', 'x5 x8', 'x5 x9', 'x5 x10', 'x5 x11', 'x5 x12', 'x6^2', 'x6 x7', 'x6 x8', 'x6 x9', 'x6 x10', 'x6 x11', 'x6 x12', 'x7^2', 'x7 x8', 'x7 x9', 'x7 x10', 'x7 x11', 'x7 x12', 'x8^2', 'x8 x9', 'x8 x10', 'x8 x11', 'x8 x12', 'x9^2', 'x9 x10', 'x9 x11', 'x9 x12', 'x10^2', 'x10 x11', 'x10 x12', 'x11^2', 'x11 x12', 'x12^2']\n"
     ]
    }
   ],
   "source": [
    "print(\"Polynomial feature names:\\n{}\".format(poly.get_feature_names()))"
   ]
  },
  {
   "cell_type": "code",
   "execution_count": 34,
   "metadata": {},
   "outputs": [
    {
     "name": "stdout",
     "output_type": "stream",
     "text": [
      "Score without interactions: 0.621\n",
      "Score with interactions: 0.753\n"
     ]
    }
   ],
   "source": [
    "from sklearn.linear_model import Ridge\n",
    "ridge = Ridge().fit(X_train2_scaled, y_train2)\n",
    "print(\"Score without interactions: {:.3f}\".format(\n",
    "    ridge.score(X_test2_scaled, y_test2)))\n",
    "ridge = Ridge().fit(X_train2_poly, y_train2)\n",
    "print(\"Score with interactions: {:.3f}\".format(\n",
    "    ridge.score(X_test2_poly, y_test2)))"
   ]
  },
  {
   "cell_type": "code",
   "execution_count": 35,
   "metadata": {
    "scrolled": true
   },
   "outputs": [
    {
     "name": "stdout",
     "output_type": "stream",
     "text": [
      "Score without interactions: 0.795\n",
      "Score with interactions: 0.768\n"
     ]
    }
   ],
   "source": [
    "from sklearn.ensemble import RandomForestRegressor\n",
    "rf = RandomForestRegressor(n_estimators=100).fit(X_train2_scaled, y_train2)\n",
    "print(\"Score without interactions: {:.3f}\".format(\n",
    "    rf.score(X_test2_scaled, y_test2)))\n",
    "rf = RandomForestRegressor(n_estimators=100).fit(X_train2_poly, y_train2)\n",
    "print(\"Score with interactions: {:.3f}\".format(rf.score(X_test2_poly, y_test2)))"
   ]
  },
  {
   "cell_type": "markdown",
   "metadata": {},
   "source": [
    "## 3. When more is better than less: cross-validation instead of single split"
   ]
  },
  {
   "cell_type": "markdown",
   "metadata": {},
   "source": [
    "Splitting the data is necessary to evaluate the statistical model performance. However, it reduces the number of samples which can be used to learn the model. Therefore, one should use cross-validation whenever possible. Having multiple splits will give information about the model stability as well. "
   ]
  },
  {
   "cell_type": "markdown",
   "metadata": {},
   "source": [
    "### 3.1. How to split"
   ]
  },
  {
   "cell_type": "code",
   "execution_count": 36,
   "metadata": {},
   "outputs": [
    {
     "name": "stdout",
     "output_type": "stream",
     "text": [
      "Iris labels:\n",
      "[0 0 0 0 0 0 0 0 0 0 0 0 0 0 0 0 0 0 0 0 0 0 0 0 0 0 0 0 0 0 0 0 0 0 0 0 0\n",
      " 0 0 0 0 0 0 0 0 0 0 0 0 0 1 1 1 1 1 1 1 1 1 1 1 1 1 1 1 1 1 1 1 1 1 1 1 1\n",
      " 1 1 1 1 1 1 1 1 1 1 1 1 1 1 1 1 1 1 1 1 1 1 1 1 1 1 2 2 2 2 2 2 2 2 2 2 2\n",
      " 2 2 2 2 2 2 2 2 2 2 2 2 2 2 2 2 2 2 2 2 2 2 2 2 2 2 2 2 2 2 2 2 2 2 2 2 2\n",
      " 2 2]\n"
     ]
    }
   ],
   "source": [
    "from sklearn.datasets import load_iris\n",
    "iris = load_iris()\n",
    "print(\"Iris labels:\\n{}\".format(iris.target))"
   ]
  },
  {
   "cell_type": "code",
   "execution_count": 37,
   "metadata": {},
   "outputs": [
    {
     "name": "stdout",
     "output_type": "stream",
     "text": [
      "Requirement already satisfied: mglearn in c:\\users\\tli1\\appdata\\local\\continuum\\anaconda3\\lib\\site-packages (0.1.7)\n",
      "Requirement already satisfied: matplotlib in c:\\users\\tli1\\appdata\\local\\continuum\\anaconda3\\lib\\site-packages (from mglearn) (3.1.1)\n",
      "Requirement already satisfied: scikit-learn in c:\\users\\tli1\\appdata\\local\\continuum\\anaconda3\\lib\\site-packages (from mglearn) (0.22.2.post1)\n",
      "Requirement already satisfied: pandas in c:\\users\\tli1\\appdata\\local\\continuum\\anaconda3\\lib\\site-packages (from mglearn) (0.25.1)\n",
      "Requirement already satisfied: cycler in c:\\users\\tli1\\appdata\\local\\continuum\\anaconda3\\lib\\site-packages (from mglearn) (0.10.0)\n",
      "Requirement already satisfied: imageio in c:\\users\\tli1\\appdata\\local\\continuum\\anaconda3\\lib\\site-packages (from mglearn) (2.6.0)\n",
      "Requirement already satisfied: pillow in c:\\users\\tli1\\appdata\\local\\continuum\\anaconda3\\lib\\site-packages (from mglearn) (6.2.0)\n",
      "Requirement already satisfied: numpy in c:\\users\\tli1\\appdata\\local\\continuum\\anaconda3\\lib\\site-packages (from mglearn) (1.16.5)\n",
      "Requirement already satisfied: kiwisolver>=1.0.1 in c:\\users\\tli1\\appdata\\local\\continuum\\anaconda3\\lib\\site-packages (from matplotlib->mglearn) (1.1.0)\n",
      "Requirement already satisfied: pyparsing!=2.0.4,!=2.1.2,!=2.1.6,>=2.0.1 in c:\\users\\tli1\\appdata\\local\\continuum\\anaconda3\\lib\\site-packages (from matplotlib->mglearn) (2.4.2)\n",
      "Requirement already satisfied: python-dateutil>=2.1 in c:\\users\\tli1\\appdata\\local\\continuum\\anaconda3\\lib\\site-packages (from matplotlib->mglearn) (2.8.0)\n",
      "Requirement already satisfied: joblib>=0.11 in c:\\users\\tli1\\appdata\\local\\continuum\\anaconda3\\lib\\site-packages (from scikit-learn->mglearn) (0.13.2)\n",
      "Requirement already satisfied: scipy>=0.17.0 in c:\\users\\tli1\\appdata\\local\\continuum\\anaconda3\\lib\\site-packages (from scikit-learn->mglearn) (1.4.1)\n",
      "Requirement already satisfied: pytz>=2017.2 in c:\\users\\tli1\\appdata\\local\\continuum\\anaconda3\\lib\\site-packages (from pandas->mglearn) (2019.3)\n",
      "Requirement already satisfied: six in c:\\users\\tli1\\appdata\\local\\continuum\\anaconda3\\lib\\site-packages (from cycler->mglearn) (1.12.0)\n",
      "Requirement already satisfied: setuptools in c:\\users\\tli1\\appdata\\local\\continuum\\anaconda3\\lib\\site-packages (from kiwisolver>=1.0.1->matplotlib->mglearn) (41.4.0)\n",
      "Note: you may need to restart the kernel to use updated packages.\n"
     ]
    }
   ],
   "source": [
    "# pip install mglearn"
   ]
  },
  {
   "cell_type": "code",
   "execution_count": 38,
   "metadata": {
    "scrolled": true
   },
   "outputs": [
    {
     "data": {
      "image/png": "[encoded data removed]",
      "text/plain": [
       "<Figure size 864x360 with 2 Axes>"
      ]
     },
     "metadata": {
      "needs_background": "light"
     },
     "output_type": "display_data"
    }
   ],
   "source": [
    "import mglearn\n",
    "mglearn.plots.plot_stratified_cross_validation()"
   ]
  },
  {
   "cell_type": "markdown",
   "metadata": {},
   "source": [
    "<img src=\"images/kfold_cv.png\">"
   ]
  },
  {
   "cell_type": "code",
   "execution_count": 39,
   "metadata": {},
   "outputs": [
    {
     "name": "stdout",
     "output_type": "stream",
     "text": [
      "Cross-validation scores:\n",
      "[0. 0. 0.]\n"
     ]
    }
   ],
   "source": [
    "from sklearn.model_selection import cross_val_score\n",
    "from sklearn.model_selection import KFold\n",
    "kfold = KFold(n_splits=3)\n",
    "from sklearn.linear_model import LogisticRegression\n",
    "logreg = LogisticRegression()\n",
    "print(\"Cross-validation scores:\\n{}\".format(\n",
    "    cross_val_score(logreg, iris.data, iris.target, cv=kfold)))"
   ]
  },
  {
   "cell_type": "code",
   "execution_count": 40,
   "metadata": {
    "scrolled": false
   },
   "outputs": [
    {
     "name": "stdout",
     "output_type": "stream",
     "text": [
      "Cross-validation scores:\n",
      "[1.         1.         0.86666667 0.93333333 0.83333333]\n"
     ]
    },
    {
     "name": "stderr",
     "output_type": "stream",
     "text": [
      "C:\\Users\\tli1\\AppData\\Local\\Continuum\\anaconda3\\lib\\site-packages\\sklearn\\linear_model\\_logistic.py:940: ConvergenceWarning: lbfgs failed to converge (status=1):\n",
      "STOP: TOTAL NO. of ITERATIONS REACHED LIMIT.\n",
      "\n",
      "Increase the number of iterations (max_iter) or scale the data as shown in:\n",
      "    https://scikit-learn.org/stable/modules/preprocessing.html\n",
      "Please also refer to the documentation for alternative solver options:\n",
      "    https://scikit-learn.org/stable/modules/linear_model.html#logistic-regression\n",
      "  extra_warning_msg=_LOGISTIC_SOLVER_CONVERGENCE_MSG)\n",
      "C:\\Users\\tli1\\AppData\\Local\\Continuum\\anaconda3\\lib\\site-packages\\sklearn\\linear_model\\_logistic.py:940: ConvergenceWarning: lbfgs failed to converge (status=1):\n",
      "STOP: TOTAL NO. of ITERATIONS REACHED LIMIT.\n",
      "\n",
      "Increase the number of iterations (max_iter) or scale the data as shown in:\n",
      "    https://scikit-learn.org/stable/modules/preprocessing.html\n",
      "Please also refer to the documentation for alternative solver options:\n",
      "    https://scikit-learn.org/stable/modules/linear_model.html#logistic-regression\n",
      "  extra_warning_msg=_LOGISTIC_SOLVER_CONVERGENCE_MSG)\n"
     ]
    }
   ],
   "source": [
    "kfold = KFold(n_splits=5)\n",
    "print(\"Cross-validation scores:\\n{}\".format(\n",
    "      cross_val_score(logreg, iris.data, iris.target, cv=kfold)))"
   ]
  },
  {
   "cell_type": "markdown",
   "metadata": {},
   "source": [
    "#### shuffle"
   ]
  },
  {
   "cell_type": "code",
   "execution_count": 41,
   "metadata": {
    "scrolled": true
   },
   "outputs": [
    {
     "name": "stdout",
     "output_type": "stream",
     "text": [
      "Cross-validation scores:\n",
      "[0.98 0.96 0.96]\n"
     ]
    },
    {
     "name": "stderr",
     "output_type": "stream",
     "text": [
      "C:\\Users\\tli1\\AppData\\Local\\Continuum\\anaconda3\\lib\\site-packages\\sklearn\\linear_model\\_logistic.py:940: ConvergenceWarning: lbfgs failed to converge (status=1):\n",
      "STOP: TOTAL NO. of ITERATIONS REACHED LIMIT.\n",
      "\n",
      "Increase the number of iterations (max_iter) or scale the data as shown in:\n",
      "    https://scikit-learn.org/stable/modules/preprocessing.html\n",
      "Please also refer to the documentation for alternative solver options:\n",
      "    https://scikit-learn.org/stable/modules/linear_model.html#logistic-regression\n",
      "  extra_warning_msg=_LOGISTIC_SOLVER_CONVERGENCE_MSG)\n",
      "C:\\Users\\tli1\\AppData\\Local\\Continuum\\anaconda3\\lib\\site-packages\\sklearn\\linear_model\\_logistic.py:940: ConvergenceWarning: lbfgs failed to converge (status=1):\n",
      "STOP: TOTAL NO. of ITERATIONS REACHED LIMIT.\n",
      "\n",
      "Increase the number of iterations (max_iter) or scale the data as shown in:\n",
      "    https://scikit-learn.org/stable/modules/preprocessing.html\n",
      "Please also refer to the documentation for alternative solver options:\n",
      "    https://scikit-learn.org/stable/modules/linear_model.html#logistic-regression\n",
      "  extra_warning_msg=_LOGISTIC_SOLVER_CONVERGENCE_MSG)\n"
     ]
    }
   ],
   "source": [
    "kfold = KFold(n_splits=3, shuffle=True, random_state=0)\n",
    "print(\"Cross-validation scores:\\n{}\".format(\n",
    "    cross_val_score(logreg, iris.data, iris.target, cv=kfold)))"
   ]
  },
  {
   "cell_type": "markdown",
   "metadata": {},
   "source": [
    "#### cv"
   ]
  },
  {
   "cell_type": "code",
   "execution_count": 42,
   "metadata": {
    "scrolled": false
   },
   "outputs": [
    {
     "name": "stdout",
     "output_type": "stream",
     "text": [
      "Cross-validation scores:\n",
      "[0.98 0.96 0.98]\n"
     ]
    },
    {
     "name": "stderr",
     "output_type": "stream",
     "text": [
      "C:\\Users\\tli1\\AppData\\Local\\Continuum\\anaconda3\\lib\\site-packages\\sklearn\\linear_model\\_logistic.py:940: ConvergenceWarning: lbfgs failed to converge (status=1):\n",
      "STOP: TOTAL NO. of ITERATIONS REACHED LIMIT.\n",
      "\n",
      "Increase the number of iterations (max_iter) or scale the data as shown in:\n",
      "    https://scikit-learn.org/stable/modules/preprocessing.html\n",
      "Please also refer to the documentation for alternative solver options:\n",
      "    https://scikit-learn.org/stable/modules/linear_model.html#logistic-regression\n",
      "  extra_warning_msg=_LOGISTIC_SOLVER_CONVERGENCE_MSG)\n"
     ]
    }
   ],
   "source": [
    "print(\"Cross-validation scores:\\n{}\".format(\n",
    "    cross_val_score(logreg, iris.data, iris.target, cv=3)))"
   ]
  },
  {
   "cell_type": "markdown",
   "metadata": {},
   "source": [
    "#### StratifiedKFold"
   ]
  },
  {
   "cell_type": "markdown",
   "metadata": {},
   "source": [
    "<img src=\"images/stratified_cv.png\">"
   ]
  },
  {
   "cell_type": "code",
   "execution_count": 43,
   "metadata": {
    "scrolled": true
   },
   "outputs": [
    {
     "name": "stdout",
     "output_type": "stream",
     "text": [
      "Cross-validation scores:\n",
      "[0.98 0.96 0.98]\n"
     ]
    },
    {
     "name": "stderr",
     "output_type": "stream",
     "text": [
      "C:\\Users\\tli1\\AppData\\Local\\Continuum\\anaconda3\\lib\\site-packages\\sklearn\\linear_model\\_logistic.py:940: ConvergenceWarning: lbfgs failed to converge (status=1):\n",
      "STOP: TOTAL NO. of ITERATIONS REACHED LIMIT.\n",
      "\n",
      "Increase the number of iterations (max_iter) or scale the data as shown in:\n",
      "    https://scikit-learn.org/stable/modules/preprocessing.html\n",
      "Please also refer to the documentation for alternative solver options:\n",
      "    https://scikit-learn.org/stable/modules/linear_model.html#logistic-regression\n",
      "  extra_warning_msg=_LOGISTIC_SOLVER_CONVERGENCE_MSG)\n"
     ]
    }
   ],
   "source": [
    "from sklearn.model_selection import StratifiedKFold\n",
    "kfold = StratifiedKFold(n_splits=3)\n",
    "from sklearn.linear_model import LogisticRegression\n",
    "logreg = LogisticRegression()\n",
    "print(\"Cross-validation scores:\\n{}\".format(\n",
    "    cross_val_score(logreg, iris.data, iris.target, cv=kfold)))"
   ]
  },
  {
   "cell_type": "markdown",
   "metadata": {},
   "source": [
    "#### Leave-one-out cross-validation\n",
    "High variance, takes a long time; Not a good idea"
   ]
  },
  {
   "cell_type": "code",
   "execution_count": 44,
   "metadata": {
    "scrolled": false
   },
   "outputs": [
    {
     "name": "stdout",
     "output_type": "stream",
     "text": [
      "Number of cv iterations:  150\n",
      "Mean accuracy: 0.97\n"
     ]
    }
   ],
   "source": [
    "from sklearn.model_selection import LeaveOneOut\n",
    "loo = LeaveOneOut()\n",
    "logreg = LogisticRegression(max_iter = 5000)\n",
    "scores = cross_val_score(logreg, iris.data, iris.target, cv=loo)\n",
    "print(\"Number of cv iterations: \", len(scores))\n",
    "print(\"Mean accuracy: {:.2f}\".format(scores.mean()))"
   ]
  },
  {
   "cell_type": "markdown",
   "metadata": {},
   "source": [
    "#### Shuffle-split cross-validation\n",
    "Number of iterations and test set size independent"
   ]
  },
  {
   "cell_type": "markdown",
   "metadata": {},
   "source": [
    "<img src=\"images/shuffle_split_cv.png\">"
   ]
  },
  {
   "cell_type": "code",
   "execution_count": 45,
   "metadata": {
    "hide_input": false,
    "scrolled": true
   },
   "outputs": [
    {
     "data": {
      "image/png": "[encoded data removed]",
      "text/plain": [
       "<Figure size 720x144 with 1 Axes>"
      ]
     },
     "metadata": {
      "needs_background": "light"
     },
     "output_type": "display_data"
    }
   ],
   "source": [
    "mglearn.plots.plot_shuffle_split()"
   ]
  },
  {
   "cell_type": "code",
   "execution_count": 46,
   "metadata": {},
   "outputs": [
    {
     "name": "stdout",
     "output_type": "stream",
     "text": [
      "Cross-validation scores:\n",
      "[0.93333333 0.97333333 0.96       0.97333333 0.92       0.93333333\n",
      " 0.94666667 0.97333333 0.97333333 0.93333333]\n"
     ]
    }
   ],
   "source": [
    "from sklearn.model_selection import ShuffleSplit\n",
    "shuffle_split = ShuffleSplit(test_size=.5, train_size=.5, n_splits=10)\n",
    "scores = cross_val_score(logreg, iris.data, iris.target, cv=shuffle_split)\n",
    "print(\"Cross-validation scores:\\n{}\".format(scores))"
   ]
  },
  {
   "cell_type": "code",
   "execution_count": 47,
   "metadata": {},
   "outputs": [
    {
     "name": "stdout",
     "output_type": "stream",
     "text": [
      "Cross-validation scores:\n",
      "0.952\n"
     ]
    }
   ],
   "source": [
    "print(\"Cross-validation scores:\\n{}\".format(scores.mean()))"
   ]
  },
  {
   "cell_type": "code",
   "execution_count": 48,
   "metadata": {},
   "outputs": [
    {
     "name": "stdout",
     "output_type": "stream",
     "text": [
      "Cross-validation scores:\n",
      "[0.96       0.94666667 0.94666667 0.93333333 0.98666667 0.96\n",
      " 0.94666667 0.98666667 0.98666667 0.96      ]\n"
     ]
    }
   ],
   "source": [
    "from sklearn.model_selection import StratifiedShuffleSplit\n",
    "shuffle_split = StratifiedShuffleSplit(test_size=.5, train_size=.5, n_splits=10)\n",
    "scores = cross_val_score(logreg, iris.data, iris.target, cv=shuffle_split)\n",
    "print(\"Cross-validation scores:\\n{}\".format(scores))"
   ]
  },
  {
   "cell_type": "code",
   "execution_count": 49,
   "metadata": {
    "scrolled": false
   },
   "outputs": [
    {
     "name": "stdout",
     "output_type": "stream",
     "text": [
      "Cross-validation scores:\n",
      "0.9613333333333334\n"
     ]
    }
   ],
   "source": [
    "print(\"Cross-validation scores:\\n{}\".format(scores.mean()))"
   ]
  },
  {
   "cell_type": "markdown",
   "metadata": {},
   "source": [
    "##### Cross-validation with groups\n",
    "Cross-validation with non-iid data"
   ]
  },
  {
   "cell_type": "markdown",
   "metadata": {},
   "source": [
    "<img src=\"images/group_kfold.png\">"
   ]
  },
  {
   "cell_type": "code",
   "execution_count": 50,
   "metadata": {
    "hide_input": false,
    "scrolled": false
   },
   "outputs": [
    {
     "data": {
      "image/png": "[encoded data removed]",
      "text/plain": [
       "<Figure size 720x144 with 1 Axes>"
      ]
     },
     "metadata": {
      "needs_background": "light"
     },
     "output_type": "display_data"
    }
   ],
   "source": [
    "mglearn.plots.plot_group_kfold()"
   ]
  },
  {
   "cell_type": "code",
   "execution_count": 51,
   "metadata": {},
   "outputs": [
    {
     "name": "stdout",
     "output_type": "stream",
     "text": [
      "Cross-validation scores:\n",
      "[0.75       0.6        0.66666667]\n"
     ]
    }
   ],
   "source": [
    "from sklearn.datasets import make_blobs\n",
    "from sklearn.model_selection import GroupKFold\n",
    "# create synthetic dataset\n",
    "X3, y3 = make_blobs(n_samples=12, random_state=0)\n",
    "# assume the first three samples belong to the same group,\n",
    "# then the next four, etc.\n",
    "groups = [0, 0, 0, 1, 1, 1, 1, 2, 2, 3, 3, 3]\n",
    "scores = cross_val_score(logreg, X3, y3, groups, cv=GroupKFold(n_splits=3))\n",
    "print(\"Cross-validation scores:\\n{}\".format(scores))"
   ]
  },
  {
   "cell_type": "markdown",
   "metadata": {},
   "source": [
    "### 3.2 Back to the example"
   ]
  },
  {
   "cell_type": "markdown",
   "metadata": {},
   "source": [
    "`scikit-learn` provides three functions: `cross_val_score`, `cross_val_predict`, and [`cross_validate`](https://scikit-learn.org/stable/modules/generated/sklearn.model_selection.cross_validate.html). The latter provides more information regarding fitting time, training and testing scores. I can also return multiple scores at once."
   ]
  },
  {
   "cell_type": "code",
   "execution_count": 52,
   "metadata": {},
   "outputs": [],
   "source": [
    "from sklearn.model_selection import cross_validate\n",
    "\n",
    "pipe = make_pipeline(MinMaxScaler(),\n",
    "                     LogisticRegression(solver='lbfgs', multi_class='auto',\n",
    "                                        max_iter=1000, random_state=42))\n",
    "scores = cross_validate(pipe, X, y, cv=3, return_train_score=True)"
   ]
  },
  {
   "cell_type": "markdown",
   "metadata": {},
   "source": [
    "Using the cross-validate function, we can quickly check the training and testing scores and make a quick plot using `pandas`."
   ]
  },
  {
   "cell_type": "code",
   "execution_count": 53,
   "metadata": {},
   "outputs": [
    {
     "data": {
      "text/html": [
       "<div>\n",
       "<style scoped>\n",
       "    .dataframe tbody tr th:only-of-type {\n",
       "        vertical-align: middle;\n",
       "    }\n",
       "\n",
       "    .dataframe tbody tr th {\n",
       "        vertical-align: top;\n",
       "    }\n",
       "\n",
       "    .dataframe thead th {\n",
       "        text-align: right;\n",
       "    }\n",
       "</style>\n",
       "<table border=\"1\" class=\"dataframe\">\n",
       "  <thead>\n",
       "    <tr style=\"text-align: right;\">\n",
       "      <th></th>\n",
       "      <th>fit_time</th>\n",
       "      <th>score_time</th>\n",
       "      <th>test_score</th>\n",
       "      <th>train_score</th>\n",
       "    </tr>\n",
       "  </thead>\n",
       "  <tbody>\n",
       "    <tr>\n",
       "      <td>0</td>\n",
       "      <td>0.086734</td>\n",
       "      <td>0.000998</td>\n",
       "      <td>0.926544</td>\n",
       "      <td>0.988314</td>\n",
       "    </tr>\n",
       "    <tr>\n",
       "      <td>1</td>\n",
       "      <td>0.086768</td>\n",
       "      <td>0.000997</td>\n",
       "      <td>0.943239</td>\n",
       "      <td>0.984975</td>\n",
       "    </tr>\n",
       "    <tr>\n",
       "      <td>2</td>\n",
       "      <td>0.096742</td>\n",
       "      <td>0.000998</td>\n",
       "      <td>0.924875</td>\n",
       "      <td>0.993322</td>\n",
       "    </tr>\n",
       "  </tbody>\n",
       "</table>\n",
       "</div>"
      ],
      "text/plain": [
       "   fit_time  score_time  test_score  train_score\n",
       "0  0.086734    0.000998    0.926544     0.988314\n",
       "1  0.086768    0.000997    0.943239     0.984975\n",
       "2  0.096742    0.000998    0.924875     0.993322"
      ]
     },
     "execution_count": 53,
     "metadata": {},
     "output_type": "execute_result"
    }
   ],
   "source": [
    "import pandas as pd\n",
    "\n",
    "df_scores = pd.DataFrame(scores)\n",
    "df_scores"
   ]
  },
  {
   "cell_type": "code",
   "execution_count": 54,
   "metadata": {},
   "outputs": [
    {
     "name": "stdout",
     "output_type": "stream",
     "text": [
      "Mean times and scores:\n",
      " fit_time       0.090081\n",
      "score_time     0.000997\n",
      "test_score     0.931553\n",
      "train_score    0.988870\n",
      "dtype: float64\n"
     ]
    }
   ],
   "source": [
    "print(\"Mean times and scores:\\n\", df_scores.mean())"
   ]
  },
  {
   "cell_type": "code",
   "execution_count": 55,
   "metadata": {},
   "outputs": [
    {
     "data": {
      "text/plain": [
       "<matplotlib.axes._subplots.AxesSubplot at 0x2456b4d4c08>"
      ]
     },
     "execution_count": 55,
     "metadata": {},
     "output_type": "execute_result"
    },
    {
     "data": {
      "image/png": "[encoded data removed]",
      "text/plain": [
       "<Figure size 432x288 with 1 Axes>"
      ]
     },
     "metadata": {
      "needs_background": "light"
     },
     "output_type": "display_data"
    }
   ],
   "source": [
    "df_scores[['train_score', 'test_score']].boxplot()"
   ]
  },
  {
   "cell_type": "markdown",
   "metadata": {},
   "source": [
    "### 3.3 Exercise\n",
    "\n",
    "Use the pipeline of the previous exercise and make a cross-validation instead of a single split evaluation."
   ]
  },
  {
   "cell_type": "code",
   "execution_count": 56,
   "metadata": {},
   "outputs": [
    {
     "data": {
      "text/plain": [
       "<matplotlib.axes._subplots.AxesSubplot at 0x2456b4081c8>"
      ]
     },
     "execution_count": 56,
     "metadata": {},
     "output_type": "execute_result"
    },
    {
     "data": {
      "image/png": "[encoded data removed]",
      "text/plain": [
       "<Figure size 432x288 with 1 Axes>"
      ]
     },
     "metadata": {
      "needs_background": "light"
     },
     "output_type": "display_data"
    }
   ],
   "source": [
    "pipe = make_pipeline(StandardScaler(), SGDClassifier(max_iter=1000))\n",
    "scores = cross_validate(pipe, X_breast, y_breast, scoring='balanced_accuracy', cv=3, return_train_score=True)\n",
    "df_scores = pd.DataFrame(scores)\n",
    "df_scores[['train_score', 'test_score']].boxplot()\n"
   ]
  },
  {
   "cell_type": "markdown",
   "metadata": {},
   "source": [
    "## 4. Hyper-parameters optimization: fine-tune the inside of a pipeline using GridSearchCV"
   ]
  },
  {
   "cell_type": "markdown",
   "metadata": {},
   "source": [
    "Sometimes you would like to find the parameters of a component of the pipeline which lead to the best accuracy. We already saw that we could check the parameters of a pipeline using `get_params()`."
   ]
  },
  {
   "cell_type": "code",
   "execution_count": 57,
   "metadata": {},
   "outputs": [
    {
     "data": {
      "text/plain": [
       "{'memory': None,\n",
       " 'steps': [('standardscaler',\n",
       "   StandardScaler(copy=True, with_mean=True, with_std=True)),\n",
       "  ('sgdclassifier',\n",
       "   SGDClassifier(alpha=0.0001, average=False, class_weight=None,\n",
       "                 early_stopping=False, epsilon=0.1, eta0=0.0, fit_intercept=True,\n",
       "                 l1_ratio=0.15, learning_rate='optimal', loss='hinge',\n",
       "                 max_iter=1000, n_iter_no_change=5, n_jobs=None, penalty='l2',\n",
       "                 power_t=0.5, random_state=None, shuffle=True, tol=0.001,\n",
       "                 validation_fraction=0.1, verbose=0, warm_start=False))],\n",
       " 'verbose': False,\n",
       " 'standardscaler': StandardScaler(copy=True, with_mean=True, with_std=True),\n",
       " 'sgdclassifier': SGDClassifier(alpha=0.0001, average=False, class_weight=None,\n",
       "               early_stopping=False, epsilon=0.1, eta0=0.0, fit_intercept=True,\n",
       "               l1_ratio=0.15, learning_rate='optimal', loss='hinge',\n",
       "               max_iter=1000, n_iter_no_change=5, n_jobs=None, penalty='l2',\n",
       "               power_t=0.5, random_state=None, shuffle=True, tol=0.001,\n",
       "               validation_fraction=0.1, verbose=0, warm_start=False),\n",
       " 'standardscaler__copy': True,\n",
       " 'standardscaler__with_mean': True,\n",
       " 'standardscaler__with_std': True,\n",
       " 'sgdclassifier__alpha': 0.0001,\n",
       " 'sgdclassifier__average': False,\n",
       " 'sgdclassifier__class_weight': None,\n",
       " 'sgdclassifier__early_stopping': False,\n",
       " 'sgdclassifier__epsilon': 0.1,\n",
       " 'sgdclassifier__eta0': 0.0,\n",
       " 'sgdclassifier__fit_intercept': True,\n",
       " 'sgdclassifier__l1_ratio': 0.15,\n",
       " 'sgdclassifier__learning_rate': 'optimal',\n",
       " 'sgdclassifier__loss': 'hinge',\n",
       " 'sgdclassifier__max_iter': 1000,\n",
       " 'sgdclassifier__n_iter_no_change': 5,\n",
       " 'sgdclassifier__n_jobs': None,\n",
       " 'sgdclassifier__penalty': 'l2',\n",
       " 'sgdclassifier__power_t': 0.5,\n",
       " 'sgdclassifier__random_state': None,\n",
       " 'sgdclassifier__shuffle': True,\n",
       " 'sgdclassifier__tol': 0.001,\n",
       " 'sgdclassifier__validation_fraction': 0.1,\n",
       " 'sgdclassifier__verbose': 0,\n",
       " 'sgdclassifier__warm_start': False}"
      ]
     },
     "execution_count": 57,
     "metadata": {},
     "output_type": "execute_result"
    }
   ],
   "source": [
    "pipe.get_params()"
   ]
  },
  {
   "cell_type": "markdown",
   "metadata": {},
   "source": [
    "### 4.1 Using pipelines in grid searches"
   ]
  },
  {
   "cell_type": "markdown",
   "metadata": {},
   "source": [
    "Hyper-parameters can be optimized by an exhaustive search. [`GridSearchCV`](https://scikit-learn.org/stable/modules/generated/sklearn.model_selection.GridSearchCV.html) provides such utility and does a cross-validated grid-search over a parameter grid.\n",
    "\n",
    "Let's give an example in which we would like to optimize the `C` and `penalty` parameters of the `LogisticRegression` classifier."
   ]
  },
  {
   "cell_type": "code",
   "execution_count": 58,
   "metadata": {},
   "outputs": [
    {
     "data": {
      "text/plain": [
       "GridSearchCV(cv=3, error_score=nan,\n",
       "             estimator=Pipeline(memory=None,\n",
       "                                steps=[('minmaxscaler',\n",
       "                                        MinMaxScaler(copy=True,\n",
       "                                                     feature_range=(0, 1))),\n",
       "                                       ('logisticregression',\n",
       "                                        LogisticRegression(C=1.0,\n",
       "                                                           class_weight=None,\n",
       "                                                           dual=False,\n",
       "                                                           fit_intercept=True,\n",
       "                                                           intercept_scaling=1,\n",
       "                                                           l1_ratio=None,\n",
       "                                                           max_iter=5000,\n",
       "                                                           multi_class='auto',\n",
       "                                                           n_jobs=None,\n",
       "                                                           penalty='l2',\n",
       "                                                           random_state=42,\n",
       "                                                           solver='saga',\n",
       "                                                           tol=0.0001,\n",
       "                                                           verbose=0,\n",
       "                                                           warm_start=False))],\n",
       "                                verbose=False),\n",
       "             iid='deprecated', n_jobs=-1,\n",
       "             param_grid={'logisticregression__C': [0.1, 1.0, 10],\n",
       "                         'logisticregression__penalty': ['l2', 'l1']},\n",
       "             pre_dispatch='2*n_jobs', refit=True, return_train_score=True,\n",
       "             scoring=None, verbose=0)"
      ]
     },
     "execution_count": 58,
     "metadata": {},
     "output_type": "execute_result"
    }
   ],
   "source": [
    "from sklearn.model_selection import GridSearchCV\n",
    "\n",
    "pipe = make_pipeline(MinMaxScaler(),\n",
    "                     LogisticRegression(solver='saga', multi_class='auto',\n",
    "                                        random_state=42, max_iter=5000))\n",
    "param_grid = {'logisticregression__C': [0.1, 1.0, 10],\n",
    "              'logisticregression__penalty': ['l2', 'l1']}\n",
    "grid = GridSearchCV(pipe, param_grid=param_grid, cv=3, n_jobs=-1, return_train_score=True)\n",
    "grid.fit(X_train, y_train)"
   ]
  },
  {
   "cell_type": "markdown",
   "metadata": {},
   "source": [
    "When fitting the grid-search object, it finds the best possible parameter combination on the training set (using cross-validation). We can introspect the results of the grid-search by accessing the attribute `cv_results_`. It allows us to check the effect of the parameters on the model performance."
   ]
  },
  {
   "cell_type": "code",
   "execution_count": 59,
   "metadata": {},
   "outputs": [
    {
     "data": {
      "text/html": [
       "<div>\n",
       "<style scoped>\n",
       "    .dataframe tbody tr th:only-of-type {\n",
       "        vertical-align: middle;\n",
       "    }\n",
       "\n",
       "    .dataframe tbody tr th {\n",
       "        vertical-align: top;\n",
       "    }\n",
       "\n",
       "    .dataframe thead th {\n",
       "        text-align: right;\n",
       "    }\n",
       "</style>\n",
       "<table border=\"1\" class=\"dataframe\">\n",
       "  <thead>\n",
       "    <tr style=\"text-align: right;\">\n",
       "      <th></th>\n",
       "      <th>mean_fit_time</th>\n",
       "      <th>std_fit_time</th>\n",
       "      <th>mean_score_time</th>\n",
       "      <th>std_score_time</th>\n",
       "      <th>param_logisticregression__C</th>\n",
       "      <th>param_logisticregression__penalty</th>\n",
       "      <th>params</th>\n",
       "      <th>split0_test_score</th>\n",
       "      <th>split1_test_score</th>\n",
       "      <th>split2_test_score</th>\n",
       "      <th>mean_test_score</th>\n",
       "      <th>std_test_score</th>\n",
       "      <th>rank_test_score</th>\n",
       "      <th>split0_train_score</th>\n",
       "      <th>split1_train_score</th>\n",
       "      <th>split2_train_score</th>\n",
       "      <th>mean_train_score</th>\n",
       "      <th>std_train_score</th>\n",
       "    </tr>\n",
       "  </thead>\n",
       "  <tbody>\n",
       "    <tr>\n",
       "      <td>0</td>\n",
       "      <td>0.124334</td>\n",
       "      <td>0.004179</td>\n",
       "      <td>0.003989</td>\n",
       "      <td>0.000814</td>\n",
       "      <td>0.1</td>\n",
       "      <td>l2</td>\n",
       "      <td>{'logisticregression__C': 0.1, 'logisticregres...</td>\n",
       "      <td>0.953229</td>\n",
       "      <td>0.935412</td>\n",
       "      <td>0.942094</td>\n",
       "      <td>0.943578</td>\n",
       "      <td>0.007349</td>\n",
       "      <td>5</td>\n",
       "      <td>0.953229</td>\n",
       "      <td>0.957684</td>\n",
       "      <td>0.952116</td>\n",
       "      <td>0.954343</td>\n",
       "      <td>0.002406</td>\n",
       "    </tr>\n",
       "    <tr>\n",
       "      <td>1</td>\n",
       "      <td>0.366022</td>\n",
       "      <td>0.080955</td>\n",
       "      <td>0.002660</td>\n",
       "      <td>0.000470</td>\n",
       "      <td>0.1</td>\n",
       "      <td>l1</td>\n",
       "      <td>{'logisticregression__C': 0.1, 'logisticregres...</td>\n",
       "      <td>0.886414</td>\n",
       "      <td>0.906459</td>\n",
       "      <td>0.884187</td>\n",
       "      <td>0.892353</td>\n",
       "      <td>0.010015</td>\n",
       "      <td>6</td>\n",
       "      <td>0.903118</td>\n",
       "      <td>0.902004</td>\n",
       "      <td>0.902004</td>\n",
       "      <td>0.902376</td>\n",
       "      <td>0.000525</td>\n",
       "    </tr>\n",
       "    <tr>\n",
       "      <td>2</td>\n",
       "      <td>0.445145</td>\n",
       "      <td>0.014777</td>\n",
       "      <td>0.001662</td>\n",
       "      <td>0.001244</td>\n",
       "      <td>1</td>\n",
       "      <td>l2</td>\n",
       "      <td>{'logisticregression__C': 1.0, 'logisticregres...</td>\n",
       "      <td>0.979955</td>\n",
       "      <td>0.955457</td>\n",
       "      <td>0.957684</td>\n",
       "      <td>0.964365</td>\n",
       "      <td>0.011061</td>\n",
       "      <td>2</td>\n",
       "      <td>0.984410</td>\n",
       "      <td>0.988864</td>\n",
       "      <td>0.986637</td>\n",
       "      <td>0.986637</td>\n",
       "      <td>0.001818</td>\n",
       "    </tr>\n",
       "    <tr>\n",
       "      <td>3</td>\n",
       "      <td>1.524596</td>\n",
       "      <td>0.185711</td>\n",
       "      <td>0.000000</td>\n",
       "      <td>0.000000</td>\n",
       "      <td>1</td>\n",
       "      <td>l1</td>\n",
       "      <td>{'logisticregression__C': 1.0, 'logisticregres...</td>\n",
       "      <td>0.964365</td>\n",
       "      <td>0.951002</td>\n",
       "      <td>0.944321</td>\n",
       "      <td>0.953229</td>\n",
       "      <td>0.008333</td>\n",
       "      <td>4</td>\n",
       "      <td>0.977728</td>\n",
       "      <td>0.978842</td>\n",
       "      <td>0.982183</td>\n",
       "      <td>0.979584</td>\n",
       "      <td>0.001893</td>\n",
       "    </tr>\n",
       "    <tr>\n",
       "      <td>4</td>\n",
       "      <td>1.170541</td>\n",
       "      <td>0.113236</td>\n",
       "      <td>0.000665</td>\n",
       "      <td>0.000470</td>\n",
       "      <td>10</td>\n",
       "      <td>l2</td>\n",
       "      <td>{'logisticregression__C': 10, 'logisticregress...</td>\n",
       "      <td>0.977728</td>\n",
       "      <td>0.964365</td>\n",
       "      <td>0.964365</td>\n",
       "      <td>0.968820</td>\n",
       "      <td>0.006299</td>\n",
       "      <td>1</td>\n",
       "      <td>1.000000</td>\n",
       "      <td>1.000000</td>\n",
       "      <td>1.000000</td>\n",
       "      <td>1.000000</td>\n",
       "      <td>0.000000</td>\n",
       "    </tr>\n",
       "    <tr>\n",
       "      <td>5</td>\n",
       "      <td>5.141626</td>\n",
       "      <td>0.489078</td>\n",
       "      <td>0.000000</td>\n",
       "      <td>0.000000</td>\n",
       "      <td>10</td>\n",
       "      <td>l1</td>\n",
       "      <td>{'logisticregression__C': 10, 'logisticregress...</td>\n",
       "      <td>0.973274</td>\n",
       "      <td>0.957684</td>\n",
       "      <td>0.951002</td>\n",
       "      <td>0.960653</td>\n",
       "      <td>0.009332</td>\n",
       "      <td>3</td>\n",
       "      <td>1.000000</td>\n",
       "      <td>1.000000</td>\n",
       "      <td>1.000000</td>\n",
       "      <td>1.000000</td>\n",
       "      <td>0.000000</td>\n",
       "    </tr>\n",
       "  </tbody>\n",
       "</table>\n",
       "</div>"
      ],
      "text/plain": [
       "   mean_fit_time  std_fit_time  mean_score_time  std_score_time  \\\n",
       "0       0.124334      0.004179         0.003989        0.000814   \n",
       "1       0.366022      0.080955         0.002660        0.000470   \n",
       "2       0.445145      0.014777         0.001662        0.001244   \n",
       "3       1.524596      0.185711         0.000000        0.000000   \n",
       "4       1.170541      0.113236         0.000665        0.000470   \n",
       "5       5.141626      0.489078         0.000000        0.000000   \n",
       "\n",
       "  param_logisticregression__C param_logisticregression__penalty  \\\n",
       "0                         0.1                                l2   \n",
       "1                         0.1                                l1   \n",
       "2                           1                                l2   \n",
       "3                           1                                l1   \n",
       "4                          10                                l2   \n",
       "5                          10                                l1   \n",
       "\n",
       "                                              params  split0_test_score  \\\n",
       "0  {'logisticregression__C': 0.1, 'logisticregres...           0.953229   \n",
       "1  {'logisticregression__C': 0.1, 'logisticregres...           0.886414   \n",
       "2  {'logisticregression__C': 1.0, 'logisticregres...           0.979955   \n",
       "3  {'logisticregression__C': 1.0, 'logisticregres...           0.964365   \n",
       "4  {'logisticregression__C': 10, 'logisticregress...           0.977728   \n",
       "5  {'logisticregression__C': 10, 'logisticregress...           0.973274   \n",
       "\n",
       "   split1_test_score  split2_test_score  mean_test_score  std_test_score  \\\n",
       "0           0.935412           0.942094         0.943578        0.007349   \n",
       "1           0.906459           0.884187         0.892353        0.010015   \n",
       "2           0.955457           0.957684         0.964365        0.011061   \n",
       "3           0.951002           0.944321         0.953229        0.008333   \n",
       "4           0.964365           0.964365         0.968820        0.006299   \n",
       "5           0.957684           0.951002         0.960653        0.009332   \n",
       "\n",
       "   rank_test_score  split0_train_score  split1_train_score  \\\n",
       "0                5            0.953229            0.957684   \n",
       "1                6            0.903118            0.902004   \n",
       "2                2            0.984410            0.988864   \n",
       "3                4            0.977728            0.978842   \n",
       "4                1            1.000000            1.000000   \n",
       "5                3            1.000000            1.000000   \n",
       "\n",
       "   split2_train_score  mean_train_score  std_train_score  \n",
       "0            0.952116          0.954343         0.002406  \n",
       "1            0.902004          0.902376         0.000525  \n",
       "2            0.986637          0.986637         0.001818  \n",
       "3            0.982183          0.979584         0.001893  \n",
       "4            1.000000          1.000000         0.000000  \n",
       "5            1.000000          1.000000         0.000000  "
      ]
     },
     "execution_count": 59,
     "metadata": {},
     "output_type": "execute_result"
    }
   ],
   "source": [
    "df_grid = pd.DataFrame(grid.cv_results_)\n",
    "df_grid"
   ]
  },
  {
   "cell_type": "code",
   "execution_count": 60,
   "metadata": {},
   "outputs": [
    {
     "data": {
      "text/plain": [
       "{'logisticregression__C': [0.1, 1.0, 10],\n",
       " 'logisticregression__penalty': ['l2', 'l1']}"
      ]
     },
     "execution_count": 60,
     "metadata": {},
     "output_type": "execute_result"
    }
   ],
   "source": [
    "param_grid"
   ]
  },
  {
   "cell_type": "code",
   "execution_count": 61,
   "metadata": {},
   "outputs": [
    {
     "data": {
      "text/plain": [
       "<matplotlib.collections.PolyCollection at 0x2456b4a0f88>"
      ]
     },
     "execution_count": 61,
     "metadata": {},
     "output_type": "execute_result"
    },
    {
     "data": {
      "image/png": "[encoded data removed]",
      "text/plain": [
       "<Figure size 432x288 with 1 Axes>"
      ]
     },
     "metadata": {
      "needs_background": "light"
     },
     "output_type": "display_data"
    }
   ],
   "source": [
    "import numpy as np\n",
    "scores = np.array(df_grid.mean_test_score).reshape(3, 2)\n",
    "\n",
    "# plot the mean cross-validation scores\n",
    "mglearn.tools.heatmap(scores, xlabel='Penalty', xticklabels=param_grid['logisticregression__penalty'],\n",
    "                      ylabel='C', yticklabels=param_grid['logisticregression__C'], cmap=\"viridis\")"
   ]
  },
  {
   "cell_type": "markdown",
   "metadata": {},
   "source": [
    "By default, the grid-search object is also behaving as an estimator. Once it is fitted, calling `score` will fix the hyper-parameters to the best parameters found."
   ]
  },
  {
   "cell_type": "code",
   "execution_count": 62,
   "metadata": {},
   "outputs": [
    {
     "data": {
      "text/plain": [
       "{'logisticregression__C': 10, 'logisticregression__penalty': 'l2'}"
      ]
     },
     "execution_count": 62,
     "metadata": {},
     "output_type": "execute_result"
    }
   ],
   "source": [
    "grid.best_params_"
   ]
  },
  {
   "cell_type": "code",
   "execution_count": 63,
   "metadata": {},
   "outputs": [
    {
     "name": "stdout",
     "output_type": "stream",
     "text": [
      "Best estimator:\n",
      "Pipeline(memory=None,\n",
      "         steps=[('minmaxscaler', MinMaxScaler(copy=True, feature_range=(0, 1))),\n",
      "                ('logisticregression',\n",
      "                 LogisticRegression(C=10, class_weight=None, dual=False,\n",
      "                                    fit_intercept=True, intercept_scaling=1,\n",
      "                                    l1_ratio=None, max_iter=5000,\n",
      "                                    multi_class='auto', n_jobs=None,\n",
      "                                    penalty='l2', random_state=42,\n",
      "                                    solver='saga', tol=0.0001, verbose=0,\n",
      "                                    warm_start=False))],\n",
      "         verbose=False)\n"
     ]
    }
   ],
   "source": [
    "print(\"Best estimator:\\n{}\".format(grid.best_estimator_))"
   ]
  },
  {
   "cell_type": "code",
   "execution_count": 64,
   "metadata": {},
   "outputs": [
    {
     "name": "stdout",
     "output_type": "stream",
     "text": [
      "Logistic regression step:\n",
      "LogisticRegression(C=10, class_weight=None, dual=False, fit_intercept=True,\n",
      "                   intercept_scaling=1, l1_ratio=None, max_iter=5000,\n",
      "                   multi_class='auto', n_jobs=None, penalty='l2',\n",
      "                   random_state=42, solver='saga', tol=0.0001, verbose=0,\n",
      "                   warm_start=False)\n"
     ]
    }
   ],
   "source": [
    "print(\"Logistic regression step:\\n{}\".format(\n",
    "      grid.best_estimator_.named_steps[\"logisticregression\"]))"
   ]
  },
  {
   "cell_type": "code",
   "execution_count": 65,
   "metadata": {},
   "outputs": [
    {
     "name": "stdout",
     "output_type": "stream",
     "text": [
      "Logistic regression coefficients:\n",
      "[[ 0.00000000e+00 -1.03876781e-01  9.78175742e-02  6.75104096e-01\n",
      "   1.67449815e-01 -8.91859368e-01 -9.26870306e-01 -1.19321074e-01\n",
      "  -3.68210118e-03 -4.19285459e-01  2.20611842e-01  1.16619671e+00\n",
      "   4.00501029e-01  7.95458012e-01 -3.41012961e-01 -1.47979881e-01\n",
      "  -5.83333273e-06  2.54594401e-01  9.95136382e-01 -4.80175165e-01\n",
      "  -2.19413919e+00  7.85849291e-01  6.03428944e-01 -6.20527350e-02\n",
      "  -5.18594197e-05  1.00543208e+00  1.01228546e+00 -1.16056001e+00\n",
      "  -3.54449354e+00 -1.76728639e-01  1.02753233e+00 -2.66715641e-02\n",
      "   0.00000000e+00  1.50415368e+00  5.88047094e-01 -1.56131655e+00\n",
      "  -2.89806723e+00  3.92655496e-01  7.57661638e-01  0.00000000e+00\n",
      "  -2.68750940e-02  1.01450546e-01  1.65605414e+00 -6.95809252e-01\n",
      "  -1.48416258e+00  8.59487888e-01  3.06213457e-01 -1.40978545e-03\n",
      "  -2.33547147e-02 -5.19665898e-01  7.76694168e-01 -1.88331455e-01\n",
      "   1.00322504e+00  3.70643455e-01 -3.02266038e-01 -3.21687309e-02\n",
      "  -1.61512205e-04 -2.39730524e-02 -1.35409509e-01  8.05202840e-01\n",
      "  -3.39673141e-01 -3.22124584e-01 -5.14446134e-01 -1.04664329e-01]\n",
      " [ 0.00000000e+00 -3.70048795e-02 -2.05991206e-01  8.95989420e-01\n",
      "  -3.76944417e+00  1.83141282e+00  2.96294250e-01 -3.70611650e-02\n",
      "  -1.16166614e-01 -2.42776472e+00 -3.26932681e+00 -8.50610588e-01\n",
      "   8.82638681e-01  1.12271261e+00 -2.02780513e+00 -2.02171641e-02\n",
      "  -1.04428065e-03  9.25474851e-01 -1.21033948e-01  4.39842632e+00\n",
      "   4.04829007e+00 -5.06350439e-01 -1.01422801e-01 -2.20947825e-02\n",
      "  -3.11649700e-01 -4.98208735e-01  8.76759052e-01  1.72751180e+00\n",
      "   9.53999084e-01  4.75914573e-01  5.50584136e-02 -1.45595627e-03\n",
      "   0.00000000e+00  2.93060263e-01  7.86741438e-01 -7.04988923e-01\n",
      "   6.68214360e-01  5.41060081e-01 -9.13780570e-01  0.00000000e+00\n",
      "  -4.44240403e-03 -1.34613191e+00  1.60078549e-01  1.28130333e+00\n",
      "   1.25769010e+00 -1.49894722e+00 -2.18625454e+00 -3.20253025e-02\n",
      "  -6.04963251e-03 -1.06762323e+00 -1.04544010e+00  1.07010512e+00\n",
      "   2.21627448e+00 -7.10804230e-01 -7.05997590e-01  1.35685126e+00\n",
      "  -1.56513331e-02  3.84787367e-02 -1.38508394e+00 -1.61373245e-01\n",
      "   3.61139230e-01  1.81827801e+00  1.99810027e+00  1.80573540e+00]\n",
      " [ 0.00000000e+00  2.55328808e-01  3.29436713e-01  4.42730278e-01\n",
      "   4.09959509e-01 -2.26342092e-01 -2.18145384e-01 -6.54273017e-03\n",
      "  -2.56203518e-02  1.86901784e+00  2.23627564e-01 -1.26643726e+00\n",
      "   1.51293062e+00  1.60079710e-01 -5.52245006e-02 -2.02952332e-02\n",
      "   1.54694451e-01 -1.35613989e-01 -8.83443566e-01 -1.53954839e+00\n",
      "   1.52942095e+00 -3.65858784e-01  1.05922642e+00 -3.05566709e-04\n",
      "  -1.04151136e-05 -1.07067309e+00 -3.77202583e+00 -3.30544824e+00\n",
      "  -1.78775194e+00  5.68392544e-02  2.64043639e-01 -1.04201066e-04\n",
      "   0.00000000e+00 -1.11125791e+00 -2.47049315e+00 -8.11440900e-01\n",
      "  -6.20663727e-02 -1.56353795e+00 -1.66238287e+00  0.00000000e+00\n",
      "  -7.53996292e-05  7.15167493e-01  3.62192449e-01  3.07771423e+00\n",
      "  -2.17805217e+00 -2.38387412e+00 -1.20292899e+00  1.18405509e-01\n",
      "   4.37023773e-02  7.70018349e-01  5.50961717e-01  3.59354837e+00\n",
      "   2.36276396e+00  2.65757174e+00  1.01665020e+00  4.82477054e-01\n",
      "   1.16721633e-01  4.28495857e-01  1.17673513e+00  6.71745032e-01\n",
      "   2.02310371e-01  1.78634915e+00  2.42394027e+00  9.30938046e-01]\n",
      " [ 0.00000000e+00  1.14587543e+00 -8.80408398e-01  5.77641319e-01\n",
      "   3.23390278e+00  1.21621320e+00  1.37603671e-03 -3.44414273e-03\n",
      "  -9.49505967e-02  7.74224597e-01  1.04204875e+00  3.93038567e-01\n",
      "   1.35494200e+00  9.51762509e-01  1.35103955e+00 -1.76080234e-01\n",
      "  -1.44230586e-01 -3.74993595e-01 -2.73016620e+00 -3.26641625e+00\n",
      "   5.57624732e-01 -1.34626372e+00  9.56213839e-02 -2.17344911e-02\n",
      "  -7.23120444e-06 -1.22909503e+00 -3.35608884e+00 -9.79612560e-01\n",
      "   1.97407989e+00 -3.12051667e+00 -2.23701676e+00 -2.40056372e-04\n",
      "   0.00000000e+00 -8.14940143e-01 -1.37171355e+00  4.43384520e-01\n",
      "   9.22397916e-01 -3.94884614e-01 -1.66105209e-01  0.00000000e+00\n",
      "  -1.91446898e-05 -4.17120623e-01 -2.19998115e+00 -3.41662831e+00\n",
      "   1.11030986e+00  1.88419588e+00  2.03296656e+00 -9.94209500e-02\n",
      "  -7.13534248e-05 -3.85484817e-01 -3.14005869e-01 -1.53145046e+00\n",
      "   5.15437204e-01  1.93137173e+00  2.40714631e+00 -6.87493679e-01\n",
      "  -1.60928958e-04  6.58690970e-01  1.61938927e+00  5.10943434e-01\n",
      "   5.34384907e-01 -2.82586012e-02  1.15610708e-01 -1.07682810e+00]\n",
      " [ 0.00000000e+00 -4.83074694e-01 -1.28208395e+00 -3.16000697e+00\n",
      "  -2.15275242e+00 -2.46793390e+00 -1.44475757e+00 -2.54104759e-02\n",
      "  -1.59801512e-02  3.02410455e-01 -1.39953885e+00 -1.74903824e+00\n",
      "  -2.63735922e+00 -1.74380031e+00 -1.30291109e+00  2.05858780e-01\n",
      "  -7.81650923e-06  4.71626542e-02  1.01847750e+00  4.75451480e-01\n",
      "   1.46407280e-01  6.73457097e-01 -5.63833320e-01  4.11410351e-01\n",
      "   5.54114134e-01  5.94449959e-01  2.67809253e+00  2.19746439e-01\n",
      "   2.20205028e-03  9.88198597e-02  2.77532153e+00  2.27129358e-01\n",
      "   0.00000000e+00  1.14010322e+00  9.13265418e-01 -6.24393168e-01\n",
      "   1.36684284e+00  1.83849331e+00  2.64877303e+00  0.00000000e+00\n",
      "   7.99209191e-02  2.95862055e+00 -6.16274960e-02  3.58424472e+00\n",
      "   2.11048777e+00  2.23623731e-01  4.35972980e-01 -1.95637898e-02\n",
      "   3.14679238e-02  1.22933335e+00 -1.24158525e+00  1.62355173e-01\n",
      "   4.12201857e-01 -2.26843191e+00 -2.01245982e+00 -6.02650743e-02\n",
      "  -4.90352613e-03 -2.95982540e-01 -5.26124029e-01 -2.29478728e+00\n",
      "  -1.35564800e+00 -1.95959461e+00 -7.94151740e-01 -2.97814499e-02]\n",
      " [ 0.00000000e+00  1.09568775e+00  2.63699906e+00 -8.11058838e-01\n",
      "   1.26085351e+00  1.97263146e+00  2.34898839e+00 -5.11740939e-01\n",
      "   1.53698000e-02  1.53682264e-02  1.91203452e+00  1.28213660e+00\n",
      "   1.75764118e-01 -1.64923717e+00  2.38100820e-01 -2.17968328e-01\n",
      "  -3.99504376e-04  2.56963926e-01  9.38197412e-01  4.80119232e-02\n",
      "  -3.69429035e+00 -3.07887617e+00 -2.98621463e+00 -1.01652650e-01\n",
      "  -2.20904090e-01  1.37944661e+00  1.61509726e+00 -8.50223378e-01\n",
      "   1.78408222e+00 -2.87928716e-01 -1.83939106e+00 -4.06693746e-03\n",
      "   0.00000000e+00 -6.39209396e-01  1.27109793e+00 -7.66638682e-01\n",
      "  -9.68365912e-01 -1.06022400e-02  6.20550217e-01  0.00000000e+00\n",
      "  -7.60061904e-05 -1.26420806e+00 -1.48491466e+00 -1.39327158e+00\n",
      "  -6.27166341e-01  1.15295029e+00 -1.53144630e-01 -2.17685294e-03\n",
      "  -3.22657791e-05  2.74710947e-02 -1.36786291e-01 -6.83344275e-01\n",
      "  -1.85907622e-01 -3.69687430e-01 -1.08245499e+00 -3.90705406e-02\n",
      "  -6.21563206e-05  6.13275432e-01  2.61527785e+00  1.83760841e+00\n",
      "  -2.62616155e-01 -4.69021390e-01 -1.44260450e+00 -2.00695990e-01]\n",
      " [ 0.00000000e+00 -2.17904168e-01 -1.24897809e+00 -6.75470690e-01\n",
      "  -2.03994269e-01 -1.79664906e+00 -2.30149051e-01 -2.88940554e-04\n",
      "  -1.19107916e-03 -1.24208356e+00 -7.56108770e-01 -1.83278227e-01\n",
      "  -2.11176942e+00 -1.79438378e+00 -1.63738092e-01 -2.27444232e-03\n",
      "  -6.01615877e-06 -9.99247030e-01  8.87550541e-01  6.57747779e-01\n",
      "  -2.12557293e+00 -3.69054637e+00 -3.58072705e-01 -7.36973315e-03\n",
      "  -8.18230770e-03  8.12535924e-01  2.29301228e-01  6.36217952e-01\n",
      "  -2.23040218e-02  6.92293006e-03 -1.36749894e+00 -1.13190441e-02\n",
      "   0.00000000e+00  1.44333321e+00  1.25289127e+00  9.69765779e-01\n",
      "   1.73516743e-01 -1.76943959e-01  7.66867307e-01  0.00000000e+00\n",
      "  -4.77707249e-02 -3.50105519e-01  3.62466857e+00  9.38424927e-01\n",
      "   5.60947078e-01  2.12634692e-01  1.74618957e+00  6.99009492e-02\n",
      "  -9.43604707e-03 -8.44334917e-01  1.11810289e+00  5.85314752e-01\n",
      "  -9.08443871e-01  1.88178565e+00  1.03066775e+00 -1.02807871e+00\n",
      "  -2.64832124e-05 -2.12554731e-01 -1.38810516e+00 -7.33306487e-01\n",
      "   3.50298494e-02  1.83611001e+00  2.99170987e-02 -6.82494925e-01]\n",
      " [ 0.00000000e+00  4.51202028e-01  5.50060901e-01  4.85605596e-01\n",
      "   8.90272026e-01  5.55515041e-01  1.69566700e+00  6.63492797e-01\n",
      "  -1.38482420e-03  6.64122529e-01  5.61181733e-01  7.66461858e-01\n",
      "   2.30941866e+00 -1.06143153e-01  2.49198110e-01  5.78335716e-01\n",
      "  -1.30361600e-04 -1.12378081e+00 -2.40999719e+00 -1.29524487e+00\n",
      "   7.10984752e-02  1.23782282e+00  1.07878751e+00  1.51206484e-01\n",
      "  -4.27062718e-03 -1.34051759e+00 -2.04944253e-01 -2.23868601e+00\n",
      "   4.95816602e-02  1.09962158e+00  1.29361017e+00 -2.40083072e-02\n",
      "   0.00000000e+00  6.40868346e-01  2.21001031e-01 -3.63724246e-01\n",
      "   1.12027675e+00  1.60145832e+00  1.50892405e+00  0.00000000e+00\n",
      "  -4.02567348e-04 -5.83154200e-02  2.30824123e-01  8.93630273e-01\n",
      "   5.91098842e-01  1.00622534e-01 -9.43604597e-02 -5.50048181e-04\n",
      "  -2.60689179e-03 -4.46657234e-01 -3.18595287e-01  6.72314231e-01\n",
      "  -1.94305303e+00 -3.28486165e+00 -9.71796628e-01 -1.17181681e-02\n",
      "  -6.26320022e-03  1.76757537e-02  8.69297039e-02 -1.78396626e+00\n",
      "  -2.15863803e+00 -2.52198065e+00 -7.55080423e-01 -4.31712262e-02]\n",
      " [ 0.00000000e+00 -1.00920740e+00  4.18707964e-01 -7.16487267e-01\n",
      "  -2.96229382e-01 -4.67593961e-02 -1.65255422e+00 -5.00558400e-02\n",
      "   3.00912503e-01 -7.16683110e-01  4.31625928e-01 -5.77134333e-01\n",
      "  -1.19538719e+00  1.70571583e+00  8.74964200e-01 -6.93561729e-02\n",
      "  -2.82658230e-04  7.74714802e-01  1.56616823e+00  1.65711089e-01\n",
      "  -2.66528335e-02  1.53632124e+00  8.16780733e-01 -5.09474070e-02\n",
      "  -8.85830956e-03 -6.11827495e-01 -5.91445652e-01  2.67682777e+00\n",
      "  -6.54723302e-01 -9.56742149e-02 -1.30036795e-01 -5.09799815e-03\n",
      "   0.00000000e+00 -3.78541007e-01 -1.48391013e-01  1.87716858e+00\n",
      "   1.01303910e+00 -2.26096513e+00 -3.04284928e+00  0.00000000e+00\n",
      "  -2.49587818e-04 -9.82616127e-02  1.45224476e+00  1.55838922e+00\n",
      "   1.06208242e+00  9.96752691e-01  2.74489827e-01 -3.29886824e-02\n",
      "  -3.36078135e-02  8.02181112e-01  1.39720961e+00 -2.55790350e+00\n",
      "  -2.39260372e+00  9.01179521e-01  7.95051109e-01 -1.50608067e-01\n",
      "  -8.94822349e-02 -1.94714913e-01 -2.48848690e+00  3.40569704e-01\n",
      "   2.11516151e+00 -2.40201690e-01 -1.21060929e+00 -5.09879921e-01]\n",
      " [ 0.00000000e+00 -1.09702610e+00 -4.15560569e-01  2.28595306e+00\n",
      "   4.59982599e-01 -1.46228709e-01  1.30150849e-01  9.03725094e-02\n",
      "  -5.73065856e-02  1.18067321e+00  1.03384409e+00  1.01866490e+00\n",
      "  -6.91679280e-01  5.57835738e-01  1.17738910e+00 -1.30023040e-01\n",
      "  -8.58739370e-03  3.74724791e-01  7.39110838e-01  8.36036090e-01\n",
      "   1.68781379e+00  4.75444503e+00  3.55698458e-01 -2.96459470e-01\n",
      "  -1.79594436e-04  9.58457362e-01  1.51296905e+00  3.27422624e+00\n",
      "   1.24532790e+00  1.94273004e+00  1.58377468e-01 -1.54165293e-01\n",
      "   0.00000000e+00 -2.07757027e+00 -1.04244647e+00  1.54218359e+00\n",
      "  -1.33578820e+00  3.32666777e-02 -5.17658318e-01  0.00000000e+00\n",
      "  -9.99047141e-06 -2.41095449e-01 -3.73953929e+00 -5.82799754e+00\n",
      "  -2.40323496e+00 -1.54744637e+00 -1.15914376e+00 -1.71047309e-04\n",
      "  -1.15822031e-05  4.34762196e-01 -7.86555585e-01 -1.12260795e+00\n",
      "  -1.07989430e+00 -1.10876689e+00 -1.74540298e-01  1.70074657e-01\n",
      "  -1.02575309e-05 -1.02939151e+00  4.24877584e-01  8.07363850e-01\n",
      "   8.68549459e-01  1.00444358e-01  1.49323740e-01 -8.91575034e-02]]\n"
     ]
    }
   ],
   "source": [
    "print(\"Logistic regression coefficients:\\n{}\".format(\n",
    "      grid.best_estimator_.named_steps[\"logisticregression\"].coef_))"
   ]
  },
  {
   "cell_type": "markdown",
   "metadata": {},
   "source": [
    "Besides this is possible to call the grid-search as any other classifier to make predictions."
   ]
  },
  {
   "cell_type": "code",
   "execution_count": 66,
   "metadata": {},
   "outputs": [
    {
     "name": "stdout",
     "output_type": "stream",
     "text": [
      "Accuracy score of the GridSearchCV is 0.96\n"
     ]
    }
   ],
   "source": [
    "accuracy = grid.score(X_test, y_test)\n",
    "print('Accuracy score of the {} is {:.2f}'.format(grid.__class__.__name__, accuracy))"
   ]
  },
  {
   "cell_type": "markdown",
   "metadata": {},
   "source": [
    "Up to know, we only make the fitting of the grid-search on a single split. However, as previously stated, we might be interested to make an outer cross-validation to estimate the performance of the model and different sample of data and check the potential variation in performance. Since grid-search is an estimator, we can use it directly within the `cross_validate` function. "
   ]
  },
  {
   "cell_type": "code",
   "execution_count": 67,
   "metadata": {
    "scrolled": false
   },
   "outputs": [
    {
     "data": {
      "text/html": [
       "<div>\n",
       "<style scoped>\n",
       "    .dataframe tbody tr th:only-of-type {\n",
       "        vertical-align: middle;\n",
       "    }\n",
       "\n",
       "    .dataframe tbody tr th {\n",
       "        vertical-align: top;\n",
       "    }\n",
       "\n",
       "    .dataframe thead th {\n",
       "        text-align: right;\n",
       "    }\n",
       "</style>\n",
       "<table border=\"1\" class=\"dataframe\">\n",
       "  <thead>\n",
       "    <tr style=\"text-align: right;\">\n",
       "      <th></th>\n",
       "      <th>fit_time</th>\n",
       "      <th>score_time</th>\n",
       "      <th>test_score</th>\n",
       "      <th>train_score</th>\n",
       "    </tr>\n",
       "  </thead>\n",
       "  <tbody>\n",
       "    <tr>\n",
       "      <td>0</td>\n",
       "      <td>12.081745</td>\n",
       "      <td>0.000000</td>\n",
       "      <td>0.928214</td>\n",
       "      <td>0.985810</td>\n",
       "    </tr>\n",
       "    <tr>\n",
       "      <td>1</td>\n",
       "      <td>12.439818</td>\n",
       "      <td>0.000000</td>\n",
       "      <td>0.946578</td>\n",
       "      <td>0.997496</td>\n",
       "    </tr>\n",
       "    <tr>\n",
       "      <td>2</td>\n",
       "      <td>11.378623</td>\n",
       "      <td>0.000997</td>\n",
       "      <td>0.924875</td>\n",
       "      <td>0.993322</td>\n",
       "    </tr>\n",
       "  </tbody>\n",
       "</table>\n",
       "</div>"
      ],
      "text/plain": [
       "    fit_time  score_time  test_score  train_score\n",
       "0  12.081745    0.000000    0.928214     0.985810\n",
       "1  12.439818    0.000000    0.946578     0.997496\n",
       "2  11.378623    0.000997    0.924875     0.993322"
      ]
     },
     "execution_count": 67,
     "metadata": {},
     "output_type": "execute_result"
    }
   ],
   "source": [
    "scores = cross_validate(grid, X, y, cv=3, n_jobs=-1, return_train_score=True)\n",
    "df_scores = pd.DataFrame(scores)\n",
    "df_scores"
   ]
  },
  {
   "cell_type": "markdown",
   "metadata": {},
   "source": [
    "### 4.2 Grid-searching preprocessing steps and model parameters"
   ]
  },
  {
   "cell_type": "code",
   "execution_count": 68,
   "metadata": {},
   "outputs": [],
   "source": [
    "boston = load_boston()\n",
    "X_train2, X_test2, y_train2, y_test2 = train_test_split(\n",
    "    boston.data, boston.target, random_state=0)\n",
    "\n",
    "from sklearn.preprocessing import PolynomialFeatures\n",
    "pipe = make_pipeline(PolynomialFeatures(), StandardScaler(),Ridge())"
   ]
  },
  {
   "cell_type": "code",
   "execution_count": 69,
   "metadata": {},
   "outputs": [],
   "source": [
    "param_grid = {'polynomialfeatures__degree': [1, 2, 3],\n",
    "              'ridge__alpha': [0.001, 0.01, 0.1, 1, 10, 100]}"
   ]
  },
  {
   "cell_type": "code",
   "execution_count": 70,
   "metadata": {},
   "outputs": [
    {
     "data": {
      "text/plain": [
       "GridSearchCV(cv=5, error_score=nan,\n",
       "             estimator=Pipeline(memory=None,\n",
       "                                steps=[('polynomialfeatures',\n",
       "                                        PolynomialFeatures(degree=2,\n",
       "                                                           include_bias=True,\n",
       "                                                           interaction_only=False,\n",
       "                                                           order='C')),\n",
       "                                       ('standardscaler',\n",
       "                                        StandardScaler(copy=True,\n",
       "                                                       with_mean=True,\n",
       "                                                       with_std=True)),\n",
       "                                       ('ridge',\n",
       "                                        Ridge(alpha=1.0, copy_X=True,\n",
       "                                              fit_intercept=True, max_iter=None,\n",
       "                                              normalize=False,\n",
       "                                              random_state=None, solver='auto',\n",
       "                                              tol=0.001))],\n",
       "                                verbose=False),\n",
       "             iid='deprecated', n_jobs=-1,\n",
       "             param_grid={'polynomialfeatures__degree': [1, 2, 3],\n",
       "                         'ridge__alpha': [0.001, 0.01, 0.1, 1, 10, 100]},\n",
       "             pre_dispatch='2*n_jobs', refit=True, return_train_score=False,\n",
       "             scoring=None, verbose=0)"
      ]
     },
     "execution_count": 70,
     "metadata": {},
     "output_type": "execute_result"
    }
   ],
   "source": [
    "grid = GridSearchCV(pipe, param_grid=param_grid, cv=5, n_jobs=-1)\n",
    "grid.fit(X_train2, y_train2)"
   ]
  },
  {
   "cell_type": "code",
   "execution_count": 71,
   "metadata": {},
   "outputs": [
    {
     "data": {
      "text/plain": [
       "array([ 0.72191576,  0.72191928,  0.72195409,  0.72226561,  0.72332595,\n",
       "        0.70795164,  0.76667314,  0.78114173,  0.80418313,  0.82337194,\n",
       "        0.8169144 ,  0.76330951, -6.98771643,  0.06494376,  0.3965189 ,\n",
       "        0.59767658,  0.78730397,  0.79612546])"
      ]
     },
     "execution_count": 71,
     "metadata": {},
     "output_type": "execute_result"
    }
   ],
   "source": [
    "grid.cv_results_['mean_test_score']"
   ]
  },
  {
   "cell_type": "code",
   "execution_count": 72,
   "metadata": {},
   "outputs": [
    {
     "data": {
      "text/plain": [
       "<matplotlib.collections.PolyCollection at 0x2456b72dd08>"
      ]
     },
     "execution_count": 72,
     "metadata": {},
     "output_type": "execute_result"
    },
    {
     "data": {
      "image/png": "[encoded data removed]",
      "text/plain": [
       "<Figure size 432x288 with 1 Axes>"
      ]
     },
     "metadata": {
      "needs_background": "light"
     },
     "output_type": "display_data"
    }
   ],
   "source": [
    "mglearn.tools.heatmap(grid.cv_results_['mean_test_score'].reshape(3, -1),\n",
    "                      xlabel=\"ridge__alpha\", ylabel=\"polynomialfeatures__degree\",\n",
    "                      xticklabels=param_grid['ridge__alpha'],\n",
    "                      yticklabels=param_grid['polynomialfeatures__degree'], vmin=0)"
   ]
  },
  {
   "cell_type": "code",
   "execution_count": 73,
   "metadata": {},
   "outputs": [
    {
     "name": "stdout",
     "output_type": "stream",
     "text": [
      "Best parameters: {'polynomialfeatures__degree': 2, 'ridge__alpha': 1}\n"
     ]
    }
   ],
   "source": [
    "print(\"Best parameters: {}\".format(grid.best_params_))"
   ]
  },
  {
   "cell_type": "code",
   "execution_count": 74,
   "metadata": {},
   "outputs": [
    {
     "name": "stdout",
     "output_type": "stream",
     "text": [
      "Test-set score: 0.76\n"
     ]
    }
   ],
   "source": [
    "print(\"Test-set score: {:.2f}\".format(grid.score(X_test2, y_test2)))"
   ]
  },
  {
   "cell_type": "code",
   "execution_count": 75,
   "metadata": {},
   "outputs": [
    {
     "name": "stdout",
     "output_type": "stream",
     "text": [
      "Score without poly features: 0.63\n"
     ]
    }
   ],
   "source": [
    "param_grid = {'ridge__alpha': [0.001, 0.01, 0.1, 1, 10, 100]}\n",
    "pipe = make_pipeline(StandardScaler(), Ridge())\n",
    "grid = GridSearchCV(pipe, param_grid, cv=5)\n",
    "grid.fit(X_train2, y_train2)\n",
    "print(\"Score without poly features: {:.2f}\".format(grid.score(X_test2, y_test2)))"
   ]
  },
  {
   "cell_type": "markdown",
   "metadata": {},
   "source": [
    "###  4.3 Grid-searching which model to use"
   ]
  },
  {
   "cell_type": "code",
   "execution_count": 76,
   "metadata": {},
   "outputs": [],
   "source": [
    "from sklearn.svm import SVC\n",
    "pipe = Pipeline([('preprocessing', StandardScaler()), ('classifier', SVC())])"
   ]
  },
  {
   "cell_type": "code",
   "execution_count": 77,
   "metadata": {},
   "outputs": [],
   "source": [
    "from sklearn.ensemble import RandomForestClassifier\n",
    "\n",
    "param_grid = [\n",
    "    {'classifier': [SVC()], 'preprocessing': [StandardScaler(), None],\n",
    "     'classifier__gamma': [0.001, 0.01, 0.1, 1, 10, 100],\n",
    "     'classifier__C': [0.001, 0.01, 0.1, 1, 10, 100]},\n",
    "    {'classifier': [RandomForestClassifier(n_estimators=100)],\n",
    "     'preprocessing': [None], 'classifier__max_features': [1, 2, 3]}]"
   ]
  },
  {
   "cell_type": "code",
   "execution_count": 78,
   "metadata": {},
   "outputs": [
    {
     "name": "stdout",
     "output_type": "stream",
     "text": [
      "Best params:\n",
      "{'classifier': SVC(C=10, break_ties=False, cache_size=200, class_weight=None, coef0=0.0,\n",
      "    decision_function_shape='ovr', degree=3, gamma=0.01, kernel='rbf',\n",
      "    max_iter=-1, probability=False, random_state=None, shrinking=True,\n",
      "    tol=0.001, verbose=False), 'classifier__C': 10, 'classifier__gamma': 0.01, 'preprocessing': StandardScaler(copy=True, with_mean=True, with_std=True)}\n",
      "\n",
      "Best cross-validation score: 0.99\n",
      "Test-set score: 0.98\n"
     ]
    }
   ],
   "source": [
    "X_breast_train, X_breast_test, y_breast_train, y_breast_test = train_test_split(\n",
    "    X_breast, y_breast, random_state=0)\n",
    "\n",
    "grid = GridSearchCV(pipe, param_grid, cv=5)\n",
    "grid.fit(X_breast_train, y_breast_train)\n",
    "\n",
    "print(\"Best params:\\n{}\\n\".format(grid.best_params_))\n",
    "print(\"Best cross-validation score: {:.2f}\".format(grid.best_score_))\n",
    "print(\"Test-set score: {:.2f}\".format(grid.score(X_breast_test, y_breast_test)))"
   ]
  },
  {
   "cell_type": "markdown",
   "metadata": {},
   "source": [
    "###  4.4 Exercise\n",
    "\n",
    "Reuse the previous pipeline for the breast dataset and make a grid-search to evaluate the difference between a `hinge` and `log` loss. Besides, fine-tune the `penalty`."
   ]
  },
  {
   "cell_type": "code",
   "execution_count": 79,
   "metadata": {},
   "outputs": [
    {
     "name": "stdout",
     "output_type": "stream",
     "text": [
      "{'sgdclassifier__loss': 'hinge', 'sgdclassifier__penalty': 'l2'}\n"
     ]
    },
    {
     "data": {
      "image/png": "[encoded data removed]",
      "text/plain": [
       "<Figure size 432x288 with 1 Axes>"
      ]
     },
     "metadata": {
      "needs_background": "light"
     },
     "output_type": "display_data"
    }
   ],
   "source": [
    "pipe = make_pipeline(StandardScaler(), SGDClassifier(max_iter=1000))\n",
    "param_grid = {'sgdclassifier__loss': ['hinge', 'log'],\n",
    "              'sgdclassifier__penalty': ['l2', 'l1']}\n",
    "grid = GridSearchCV(pipe, param_grid=param_grid, cv=3, n_jobs=-1)\n",
    "scores = cross_validate(grid, X_breast, y_breast, scoring='balanced_accuracy', cv=3, return_train_score=True)\n",
    "df_scores = pd.DataFrame(scores)\n",
    "df_scores[['train_score', 'test_score']].boxplot()\n",
    "\n",
    "grid.fit(X_breast_train, y_breast_train)\n",
    "print(grid.best_params_)\n"
   ]
  },
  {
   "cell_type": "markdown",
   "metadata": {},
   "source": [
    "## 5. Summary: my scikit-learn pipeline in less than 10 lines of code (skipping the import statements)"
   ]
  },
  {
   "cell_type": "code",
   "execution_count": 80,
   "metadata": {
    "scrolled": true
   },
   "outputs": [
    {
     "data": {
      "text/plain": [
       "<matplotlib.axes._subplots.AxesSubplot at 0x2456b58be88>"
      ]
     },
     "execution_count": 80,
     "metadata": {},
     "output_type": "execute_result"
    },
    {
     "data": {
      "image/png": "[encoded data removed]",
      "text/plain": [
       "<Figure size 432x288 with 1 Axes>"
      ]
     },
     "metadata": {
      "needs_background": "light"
     },
     "output_type": "display_data"
    }
   ],
   "source": [
    "import pandas as pd\n",
    "from sklearn.preprocessing import MinMaxScaler\n",
    "from sklearn.linear_model import LogisticRegression\n",
    "from sklearn.pipeline import make_pipeline\n",
    "from sklearn.model_selection import GridSearchCV\n",
    "from sklearn.model_selection import cross_validate\n",
    "\n",
    "pipe = make_pipeline(MinMaxScaler(),\n",
    "                     LogisticRegression(solver='saga', multi_class='auto', random_state=42, max_iter=5000))\n",
    "param_grid = {'logisticregression__C': [0.1, 1.0, 10],\n",
    "              'logisticregression__penalty': ['l2', 'l1']}\n",
    "grid = GridSearchCV(pipe, param_grid=param_grid, cv=3, n_jobs=-1)\n",
    "scores = pd.DataFrame(cross_validate(grid, X, y, cv=3, n_jobs=-1, return_train_score=True))\n",
    "scores[['train_score', 'test_score']].boxplot()"
   ]
  },
  {
   "cell_type": "code",
   "execution_count": null,
   "metadata": {},
   "outputs": [],
   "source": []
  }
 ],
 "metadata": {
  "kernelspec": {
   "display_name": "Python 3",
   "language": "python",
   "name": "python3"
  },
  "language_info": {
   "codemirror_mode": {
    "name": "ipython",
    "version": 3
   },
   "file_extension": ".py",
   "mimetype": "text/x-python",
   "name": "python",
   "nbconvert_exporter": "python",
   "pygments_lexer": "ipython3",
   "version": "3.8.5"
  }
 },
 "nbformat": 4,
 "nbformat_minor": 2
}