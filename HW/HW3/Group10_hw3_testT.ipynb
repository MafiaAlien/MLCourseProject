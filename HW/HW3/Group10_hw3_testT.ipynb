{
 "cells": [
  {
   "cell_type": "markdown",
   "metadata": {},
   "source": [
    "# Group Member: Lunjing Yuan, Zihao Li, Haorui Cheng, Mengyao Song"
   ]
  },
  {
   "cell_type": "code",
   "execution_count": 1,
   "metadata": {},
   "outputs": [],
   "source": [
    "import pandas as pd\n",
    "from sklearn.neural_network import MLPClassifier\n",
    "from sklearn.model_selection import GridSearchCV, cross_val_score\n",
    "from sklearn.preprocessing import StandardScaler\n",
    "from sklearn.metrics import roc_auc_score\n",
    "from sklearn.model_selection import train_test_split\n",
    "from sklearn.tree import DecisionTreeClassifier\n",
    "from sklearn.model_selection import cross_val_score\n",
    "from sklearn.linear_model import LogisticRegression"
   ]
  },
  {
   "cell_type": "code",
   "execution_count": 2,
   "metadata": {},
   "outputs": [],
   "source": [
    "def data_clean_transfer(df, fillna):\n",
    "    '''\n",
    "    data clean function, which dealing the missed value in embarked and age \n",
    "    and transfer embarked to dummies; we fill nan value in age by mean of age,\n",
    "    and value in Embarked by S based on value_counts of Embarked; then return \n",
    "    the df_d for machine learning.\n",
    "    '''\n",
    "    df.drop(['Name', 'PassengerId', 'Ticket', 'Cabin'], axis=1, inplace=True)\n",
    "    df.Age.fillna(fillna, inplace=True)\n",
    "    df.Embarked.fillna(\"S\", inplace=True)\n",
    "    df_d = pd.get_dummies(df, columns=['Sex', \"Embarked\"]).drop(columns=['Sex_female'])\n",
    "    X = df_d.iloc[:, 1:]\n",
    "    y = df_d.iloc[:, 0]    \n",
    "    \n",
    "    return X, y"
   ]
  },
  {
   "cell_type": "code",
   "execution_count": 3,
   "metadata": {},
   "outputs": [],
   "source": [
    "def scaler_fit(X):\n",
    "    '''\n",
    "    train the scaler and retrun the trained scaler\n",
    "    '''\n",
    "    s = StandardScaler().fit(X)\n",
    "    return s"
   ]
  },
  {
   "cell_type": "code",
   "execution_count": 4,
   "metadata": {},
   "outputs": [],
   "source": [
    "def scaler_trans(fitted_scaler, X):\n",
    "    '''\n",
    "    transform features by fitted scaler\n",
    "    '''\n",
    "    X_scaled = fitted_scaler.transform(X)\n",
    "    return X_scaled"
   ]
  },
  {
   "cell_type": "code",
   "execution_count": 5,
   "metadata": {},
   "outputs": [],
   "source": [
    "def fit_model(X, y, model=MLPClassifier(hidden_layer_sizes=(5,10),activation='relu',alpha=1,learning_rate_init=0.005, max_iter=900)):\n",
    "    '''\n",
    "    we try almost every classifier in sklearn and find MLP get highest roc_auc score with \n",
    "    default hyperparameter we get best params by gridsearchcv method in template, so we use them directly here.\n",
    "    '''\n",
    "    model.fit(X, y)\n",
    "    return model"
   ]
  },
  {
   "cell_type": "code",
   "execution_count": 6,
   "metadata": {},
   "outputs": [],
   "source": [
    "def evaluate_model(X_test, y_test, fitted_model):\n",
    "    '''\n",
    "    return roc_auc score\n",
    "    '''\n",
    "    y_pred = fitted_model.predict(X_test)\n",
    "    score = roc_auc_score(y_test, y_pred)\n",
    "    return score"
   ]
  },
  {
   "cell_type": "code",
   "execution_count": 7,
   "metadata": {},
   "outputs": [
    {
     "name": "stdout",
     "output_type": "stream",
     "text": [
      "0      0\n",
      "1      1\n",
      "2      1\n",
      "3      1\n",
      "4      0\n",
      "      ..\n",
      "708    0\n",
      "709    0\n",
      "710    1\n",
      "711    0\n",
      "712    0\n",
      "Name: Survived, Length: 713, dtype: int64\n",
      "model is MLPClassifier, the titanic score is 0.7915, cross_val_score is 0.8468\n",
      "model is DecisionTreeClassifier, the titanic score is 0.7557, cross_val_score is 0.7653\n",
      "model is LogisticRegression, the titanic score is 0.843, cross_val_score is 0.845\n"
     ]
    }
   ],
   "source": [
    "if __name__ == \"__main__\":\n",
    "    models = [MLPClassifier(hidden_layer_sizes=(5,10),activation='relu',alpha=1,learning_rate_init=0.005, max_iter=900),\n",
    "             DecisionTreeClassifier(criterion = 'entropy'),\n",
    "             LogisticRegression()]\n",
    "    df_t = pd.read_csv(\"Titanic_0.csv\")\n",
    "    df_k = pd.read_csv(\"testk.csv\")\n",
    "    \n",
    "    agemean = df_t.Age.mean()\n",
    "    \n",
    "    X_train, y_train = data_clean_transfer(df_t, agemean)\n",
    "    \n",
    "    df_k.drop(['Name', 'PassengerId', 'Ticket', 'Cabin'], axis=1, inplace=True)\n",
    "    df_k.Age.fillna(agemean, inplace=True)\n",
    "    df_k.Embarked.fillna(\"S\", inplace=True)\n",
    "    X_test = pd.get_dummies(df_k, columns=['Sex', \"Embarked\"]).drop(columns=['Sex_female'])\n",
    "    \n",
    "    \n",
    "   \n",
    "    \n",
    "    s = scaler_fit(X_train)\n",
    "    X_train = scaler_trans(s, X_train)\n",
    "    X_test = scaler_trans(s, X_test)\n",
    "    for model in models:\n",
    "        model.fit(X_train, y_train)\n",
    "        res = evaluate_model(X_test, y_test, model)\n",
    "        res_cross = cross_val_score(model, X_train, y_train, scoring='roc_auc', cv=10, n_jobs=-1)\n",
    "    \n",
    "        print(f\"model is {model.__class__.__name__}, the titanic score is {round(res, 4)}, cross_val_score is {round(res_cross.mean(),4)}\")\n",
    "    "
   ]
  },
  {
   "cell_type": "code",
   "execution_count": null,
   "metadata": {},
   "outputs": [],
   "source": []
  }
 ],
 "metadata": {
  "kernelspec": {
   "display_name": "Python 3",
   "language": "python",
   "name": "python3"
  },
  "language_info": {
   "codemirror_mode": {
    "name": "ipython",
    "version": 3
   },
   "file_extension": ".py",
   "mimetype": "text/x-python",
   "name": "python",
   "nbconvert_exporter": "python",
   "pygments_lexer": "ipython3",
   "version": "3.8.5"
  }
 },
 "nbformat": 4,
 "nbformat_minor": 4
}
