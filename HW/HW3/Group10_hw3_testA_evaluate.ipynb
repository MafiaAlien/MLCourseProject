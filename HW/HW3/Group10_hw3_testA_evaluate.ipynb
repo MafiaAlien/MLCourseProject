{
 "cells": [
  {
   "cell_type": "markdown",
   "metadata": {},
   "source": [
    "# Group Member: Lunjing Yuan, Zihao Li, Haorui Cheng, Mengyao Song"
   ]
  },
  {
   "cell_type": "code",
   "execution_count": 1,
   "metadata": {},
   "outputs": [],
   "source": [
    "import pandas as pd\n",
    "from sklearn.neural_network import MLPClassifier\n",
    "from sklearn.model_selection import GridSearchCV, cross_val_score\n",
    "from sklearn.preprocessing import StandardScaler\n",
    "from sklearn.metrics import roc_auc_score"
   ]
  },
  {
   "cell_type": "code",
   "execution_count": 2,
   "metadata": {},
   "outputs": [],
   "source": [
    "def data_clean_transfer(df):\n",
    "    '''\n",
    "    data clean function, which dealing the missed value in embarked and age \n",
    "    and transfer embarked to dummies; we fill nan value in age by mean of age,\n",
    "    and value in Embarked by S based on value_counts of Embarked; then return \n",
    "    the df_d for machine learning.\n",
    "    '''\n",
    "    df.drop(['Name', 'PassengerId', 'Ticket', 'Cabin'], axis=1, inplace=True)\n",
    "    df.Age.fillna(df.Age.mean(), inplace=True)\n",
    "    df.Embarked.fillna(\"S\", inplace=True)\n",
    "    df_d = pd.get_dummies(df, columns=['Sex', \"Embarked\"]).drop(columns=['Sex_female'])\n",
    "    X = df_d.iloc[:, 1:]\n",
    "    y = df_d.iloc[:, 0]\n",
    "    return X, y"
   ]
  },
  {
   "cell_type": "code",
   "execution_count": 3,
   "metadata": {},
   "outputs": [],
   "source": [
    "def scaler_fit(X):\n",
    "    '''\n",
    "    train the scaler and retrun the trained scaler\n",
    "    '''\n",
    "    s = StandardScaler().fit(X)\n",
    "    return s"
   ]
  },
  {
   "cell_type": "code",
   "execution_count": 4,
   "metadata": {},
   "outputs": [],
   "source": [
    "def scaler_trans(fitted_scaler, X):\n",
    "    '''\n",
    "    transform features by fitted scaler\n",
    "    '''\n",
    "    X_scaled = fitted_scaler.transform(X)\n",
    "    return X_scaled"
   ]
  },
  {
   "cell_type": "code",
   "execution_count": 5,
   "metadata": {},
   "outputs": [],
   "source": [
    "def fit_model(X, y, model=MLPClassifier(hidden_layer_sizes=(5,10),activation='relu')):\n",
    "    '''\n",
    "    we try almost every classifier in sklearn and find MLP get highest roc_auc score with \n",
    "    default hyperparameter we get best params by gridsearchcv method in template, so we use them directly here.\n",
    "    '''\n",
    "    model.fit(X, y)\n",
    "    return model"
   ]
  },
  {
   "cell_type": "code",
   "execution_count": 6,
   "metadata": {},
   "outputs": [],
   "source": [
    "def evaluate_model(X_test, y_test, fitted_model):\n",
    "    '''\n",
    "    return roc_auc score\n",
    "    '''\n",
    "    y_pred = fitted_model.predict(X_test)\n",
    "    score = roc_auc_score(y_test, y_pred)\n",
    "    return score"
   ]
  },
  {
   "cell_type": "code",
   "execution_count": 7,
   "metadata": {},
   "outputs": [
    {
     "name": "stdout",
     "output_type": "stream",
     "text": [
      "0.8030386280386281\n"
     ]
    },
    {
     "name": "stderr",
     "output_type": "stream",
     "text": [
      "/Users/zihaoli/opt/anaconda3/envs/DA/lib/python3.8/site-packages/sklearn/neural_network/_multilayer_perceptron.py:582: ConvergenceWarning: Stochastic Optimizer: Maximum iterations (200) reached and the optimization hasn't converged yet.\n",
      "  warnings.warn(\n"
     ]
    }
   ],
   "source": [
    "if __name__ == \"__main__\":\n",
    "    df_a = pd.read_csv('TestA.csv')\n",
    "    df_t = pd.read_csv(\"Titanic_0.csv\")\n",
    "    \n",
    "    X_t, y_t = data_clean_transfer(df_t)\n",
    "    X_a, y_a = data_clean_transfer(df_a)\n",
    "\n",
    "    s = scaler_fit(X_t)\n",
    "    X_a = scaler_trans(s, X_a)\n",
    "    \n",
    "    model = fit_model(X=X_t, y=y_t)\n",
    "    # res = evaluate_model(X_t, y_t, model)\n",
    "    res_a = evaluate_model(X_a, y_a, model)\n",
    "    print(f\"the TestA score is {res_a}\")\n",
    "    "
   ]
  },
  {
   "cell_type": "code",
   "execution_count": null,
   "metadata": {},
   "outputs": [],
   "source": []
  }
 ],
 "metadata": {
  "kernelspec": {
   "display_name": "Python 3",
   "language": "python",
   "name": "python3"
  },
  "language_info": {
   "codemirror_mode": {
    "name": "ipython",
    "version": 3
   },
   "file_extension": ".py",
   "mimetype": "text/x-python",
   "name": "python",
   "nbconvert_exporter": "python",
   "pygments_lexer": "ipython3",
   "version": "3.8.5"
  }
 },
 "nbformat": 4,
 "nbformat_minor": 4
}
