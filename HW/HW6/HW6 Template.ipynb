{
 "cells": [
  {
   "cell_type": "markdown",
   "metadata": {},
   "source": [
    "# Homework 6:\n",
    "# Principal Component Analysis\n",
    "\n",
    "## Introduction\n",
    "\n",
    "In this exercise, you will use principal component analysis to find a low-dimensional representation of face images. "
   ]
  },
  {
   "cell_type": "code",
   "execution_count": null,
   "metadata": {},
   "outputs": [],
   "source": [
    "# used for manipulating directory paths\n",
    "import os\n",
    "\n",
    "# Scientific and vector computation for python\n",
    "import numpy as np\n",
    "\n",
    "# Plotting library\n",
    "from matplotlib import pyplot\n",
    "from mpl_toolkits.mplot3d import Axes3D\n",
    "import matplotlib as mpl\n",
    "import matplotlib.pyplot as plt\n",
    "\n",
    "# Optimization module in scipy\n",
    "from scipy import optimize\n",
    "import scipy.io as scio\n",
    "import scipy\n",
    "from scipy.io import loadmat\n",
    "\n",
    "# tells matplotlib to embed plots within the notebook\n",
    "%matplotlib inline"
   ]
  },
  {
   "cell_type": "markdown",
   "metadata": {},
   "source": [
    "##  Principal Component Analysis\n",
    "\n",
    "In this exercise, you will use principal component analysis (PCA) to perform dimensionality reduction. You will first experiment with an example 2D dataset to get intuition on how PCA works, and then use it on a bigger dataset of 5000 face image dataset.\n",
    "\n",
    "### 1.1 Example Dataset\n",
    "\n",
    "To help you understand how PCA works, you will first start with a 2D dataset which has one direction of large variation and one of smaller variation. The cell below will plot the training data.\n",
    "\n",
    "In this part of the exercise, you will visualize what happens when you use PCA to reduce the data from 2D to 1D. In practice, you might want to reduce data from 256 to 50 dimensions, say; but using lower dimensional data in this example allows us to visualize the algorithms better."
   ]
  },
  {
   "cell_type": "code",
   "execution_count": null,
   "metadata": {},
   "outputs": [],
   "source": [
    "# Load the dataset into the variable X \n",
    "data = loadmat(os.path.join('Data', 'ex6data1.mat'))\n",
    "X = data['X']"
   ]
  },
  {
   "cell_type": "code",
   "execution_count": null,
   "metadata": {},
   "outputs": [],
   "source": [
    "#  Visualize the example dataset\n",
    "pyplot.plot(X[:, 0], X[:, 1], 'bo', ms=10, mec='k', mew=1)\n",
    "pyplot.axis([0.5, 6.5, 2, 8])\n",
    "pyplot.gca().set_aspect('equal')\n",
    "pyplot.grid(False)"
   ]
  },
  {
   "cell_type": "markdown",
   "metadata": {},
   "source": [
    "<a id=\"section3\"></a>\n",
    "### 1.2 Implementing PCA (20 pts)\n",
    "\n",
    "In this part of the exercise, you will implement PCA. PCA consists of two computational steps: \n",
    "\n",
    "1. Compute the covariance matrix of the data.\n",
    "2. Use SVD (Singular Value Decomposition) to compute the eigenvectors $U_1$, $U_2$, $\\dots$, $U_n$. These will correspond to the principal components of variation in the data.\n",
    "\n",
    "First, you should compute the covariance matrix of the data, which is given by:\n",
    "\n",
    "$$ \\Sigma = \\frac{1}{m} X^T X$$\n",
    "\n",
    "where $X$ is the data matrix with examples in rows, and $m$ is the number of examples. Note that $\\Sigma$ is a $n \\times n$ matrix and not the summation operator. \n",
    "\n",
    "After computing the covariance matrix, you can run SVD on it to compute the principal components. In python and `numpy` (or `scipy`), you can run SVD with the following command: `U, S, V = np.linalg.svd(Sigma)`, where `U` will contain the principal components and `S` will contain a diagonal matrix. Note that the `scipy` library also has a similar function to compute SVD `scipy.linalg.svd`. The functions in the two libraries use the same C-based library (LAPACK) for the SVD computation, but the `scipy` version provides more options and arguments to control SVD computation. \n",
    "\n",
    "Complete the code in the following cell to implemente PCA.\n",
    "<a id=\"pca\"></a>"
   ]
  },
  {
   "cell_type": "code",
   "execution_count": null,
   "metadata": {},
   "outputs": [],
   "source": [
    "def pca(X):\n",
    "    \"\"\"\n",
    "    Run principal component analysis.\n",
    "    \n",
    "    Parameters\n",
    "    ----------\n",
    "    X : array_like\n",
    "        The dataset to be used for computing PCA. It has dimensions (m x n)\n",
    "        where m is the number of examples (observations) and n is \n",
    "        the number of features.\n",
    "    \n",
    "    Returns\n",
    "    -------\n",
    "    U : array_like\n",
    "        The eigenvectors, representing the computed principal components\n",
    "        of X. U has dimensions (n x n) where each column is a single \n",
    "        principal component.\n",
    "    \n",
    "    S : array_like\n",
    "        A vector of size n, contaning the singular values for each\n",
    "        principal component. Note this is the diagonal of the matrix we \n",
    "        mentioned in class.\n",
    "    \n",
    "    Instructions\n",
    "    ------------\n",
    "    You should first compute the covariance matrix. Then, you\n",
    "    should use the \"svd\" function to compute the eigenvectors\n",
    "    and eigenvalues of the covariance matrix. \n",
    "\n",
    "    Notes\n",
    "    -----\n",
    "    When computing the covariance matrix, remember to divide by m (the\n",
    "    number of examples).\n",
    "    \"\"\"\n",
    "    # Useful values\n",
    "    m, n = X.shape\n",
    "\n",
    "    # You need to return the following variables correctly.\n",
    "    U = np.zeros(n)\n",
    "    S = np.zeros(n)\n",
    "\n",
    "    # ====================== YOUR CODE HERE ======================\n",
    "    \n",
    "    \n",
    "    \n",
    "    \n",
    "    # ============================================================\n",
    "    return U, S"
   ]
  },
  {
   "cell_type": "markdown",
   "metadata": {},
   "source": [
    "Before using PCA, it is important to first normalize the data by subtracting the mean value of each feature from the dataset, and scaling each dimension so that they are in the same range.\n",
    "\n",
    "In the next cell, you need to complete the function feature_normalize to perform this normalization. \n",
    "\n",
    "After normalizing the data, you can run PCA to compute the principal components. Your task is to complete the code in the function `pca` to compute the principal components of the dataset. "
   ]
  },
  {
   "cell_type": "code",
   "execution_count": null,
   "metadata": {},
   "outputs": [],
   "source": [
    "def feature_normalize(X):\n",
    "    \n",
    "    # ====================== YOUR CODE HERE ======================\n",
    "    \n",
    "    \n",
    "    \n",
    "    \n",
    "    # ============================================================\n",
    "    \n",
    "    return X_norm, mu, sigma"
   ]
  },
  {
   "cell_type": "code",
   "execution_count": null,
   "metadata": {},
   "outputs": [],
   "source": [
    "#  Before running PCA, it is important to first normalize X\n",
    "X_norm, mu, sigma = feature_normalize(X)"
   ]
  },
  {
   "cell_type": "code",
   "execution_count": null,
   "metadata": {},
   "outputs": [],
   "source": [
    "#  Run PCA\n",
    "U, S = pca(X_norm)"
   ]
  },
  {
   "cell_type": "code",
   "execution_count": null,
   "metadata": {},
   "outputs": [],
   "source": [
    "#  Draw the eigenvectors centered at mean of data. These lines show the\n",
    "#  directions of maximum variations in the dataset.\n",
    "fig, ax = pyplot.subplots()\n",
    "ax.plot(X[:, 0], X[:, 1], 'bo', ms=10, mec='k', mew=0.25)\n",
    "\n",
    "for i in range(2):\n",
    "    ax.arrow(mu[0], mu[1], 1.5 * S[i]*U[0, i], 1.5 * S[i]*U[1, i],\n",
    "             head_width=0.25, head_length=0.2, fc='k', ec='k', lw=2, zorder=1000)\n",
    "\n",
    "ax.axis([0.5, 6.5, 2, 8])\n",
    "ax.set_aspect('equal')\n",
    "ax.grid(False)\n",
    "\n",
    "print('Top eigenvector: U[:, 0] = [{:.6f} {:.6f}]'.format(U[0, 0], U[1, 0]))"
   ]
  },
  {
   "cell_type": "markdown",
   "metadata": {},
   "source": [
    "### 1.3 Dimensionality Reduction with PCA (20 pts)\n",
    "\n",
    "After computing the principal components, you can use them to reduce the feature dimension of your dataset by projecting each example onto a lower dimensional space, $x^{(i)} \\rightarrow z^{(i)}$ (e.g., projecting the data from 2D to 1D). In this part of the exercise, you will use the eigenvectors returned by PCA and\n",
    "project the example dataset into a 1-dimensional space. In practice, if you were using a learning algorithm such as linear regression or perhaps neural networks, you could now use the projected data instead of the original data. By using the projected data, you can train your model faster as there are less dimensions in the input.\n",
    "\n",
    "<a id=\"section4\"></a>\n",
    "\n",
    "#### 1.3.1 Projecting the data onto the principal components (10 pts)\n",
    "\n",
    "You should now complete the code in the function `projectData`. Specifically, you are given a dataset `X`, the principal components `U`, and the desired number of dimensions to reduce to `K`. You should project each example in `X` onto the top `K` components in `U`. Note that the top `K` components in `U` are given by\n",
    "the first `K` columns of `U`, that is `Ureduce = U[:, :K]`.\n",
    "<a id=\"projectData\"></a>"
   ]
  },
  {
   "cell_type": "code",
   "execution_count": null,
   "metadata": {},
   "outputs": [],
   "source": [
    "def projectData(X, U, K):\n",
    "    \"\"\"\n",
    "    Computes the reduced data representation when projecting only \n",
    "    on to the top K eigenvectors.\n",
    "    \n",
    "    Parameters\n",
    "    ----------\n",
    "    X : array_like\n",
    "        The input dataset of shape (m x n). The dataset is assumed to be \n",
    "        normalized.\n",
    "    \n",
    "    U : array_like\n",
    "        The computed eigenvectors using PCA. This is a matrix of \n",
    "        shape (n x n). Each column in the matrix represents a single\n",
    "        eigenvector (or a single principal component).\n",
    "    \n",
    "    K : int\n",
    "        Number of dimensions to project onto. Must be smaller than n.\n",
    "    \n",
    "    Returns\n",
    "    -------\n",
    "    Z : array_like\n",
    "        The projects of the dataset onto the top K eigenvectors. \n",
    "        This will be a matrix of shape (m x k).\n",
    "    \n",
    "    Instructions\n",
    "    ------------\n",
    "    Compute the projection of the data using only the top K \n",
    "    eigenvectors in U (first K columns). \n",
    "    For the i-th example X[i,:], the projection on to the k-th \n",
    "    eigenvector is given as follows:\n",
    "    \n",
    "        x = X[i, :]\n",
    "        projection_k = np.dot(x,  U[:, k])\n",
    "\n",
    "    \"\"\"\n",
    "    # You need to return the following variables correctly.\n",
    "    Z = np.zeros((X.shape[0], K))\n",
    "\n",
    "    # ====================== YOUR CODE HERE ======================\n",
    "\n",
    "    \n",
    "    \n",
    "    # =============================================================\n",
    "    return Z"
   ]
  },
  {
   "cell_type": "markdown",
   "metadata": {},
   "source": [
    "Once you have completed the code in `projectData`, the following cell will project the first example onto the first dimension."
   ]
  },
  {
   "cell_type": "code",
   "execution_count": null,
   "metadata": {},
   "outputs": [],
   "source": [
    "#  Project the data onto K = 1 dimension\n",
    "K = 1\n",
    "Z = projectData(X_norm, U, K)\n",
    "print('Projection of the first example: {:.6f}'.format(Z[0, 0]))"
   ]
  },
  {
   "cell_type": "markdown",
   "metadata": {},
   "source": [
    "<a id=\"section5\"></a>\n",
    "#### 1.3.2 Reconstructing an approximation of the data (10 pts)\n",
    "\n",
    "After projecting the data onto the lower dimensional space, you can approximately recover the data by projecting them back onto the original high dimensional space. Your task is to complete the function `recoverData` to project each example in `Z` back onto the original space and return the recovered approximation in `X_rec`.\n",
    "<a id=\"recoverData\"></a>"
   ]
  },
  {
   "cell_type": "code",
   "execution_count": null,
   "metadata": {},
   "outputs": [],
   "source": [
    "def recoverData(Z, U, K):\n",
    "    \"\"\"\n",
    "    Recovers an approximation of the original data when using the \n",
    "    projected data.\n",
    "    \n",
    "    Parameters\n",
    "    ----------\n",
    "    Z : array_like\n",
    "        The reduced data after applying PCA. This is a matrix\n",
    "        of shape (m x K).\n",
    "    \n",
    "    U : array_like\n",
    "        The eigenvectors (principal components) computed by PCA.\n",
    "        This is a matrix of shape (n x n) where each column represents\n",
    "        a single eigenvector.\n",
    "    \n",
    "    K : int\n",
    "        The number of principal components retained\n",
    "        (should be less than n).\n",
    "    \n",
    "    Returns\n",
    "    -------\n",
    "    X_rec : array_like\n",
    "        The recovered data after transformation back to the original \n",
    "        dataset space. This is a matrix of shape (m x n), where m is \n",
    "        the number of examples and n is the dimensions (number of\n",
    "        features) of original datatset.\n",
    "    \n",
    "    Instructions\n",
    "    ------------\n",
    "    Compute the approximation of the data by projecting back\n",
    "    onto the original space using the top K eigenvectors in U.\n",
    "    For the i-th example Z[i,:], the (approximate)\n",
    "    recovered data for dimension j is given as follows:\n",
    "\n",
    "        v = Z[i, :]\n",
    "        recovered_j = np.dot(v, U[j, :K])\n",
    "\n",
    "    Notice that U[j, :K] is a vector of size K.\n",
    "    \"\"\"\n",
    "    # You need to return the following variables correctly.\n",
    "    X_rec = np.zeros((Z.shape[0], U.shape[0]))\n",
    "\n",
    "    # ====================== YOUR CODE HERE ======================\n",
    "\n",
    "   \n",
    "\n",
    "    # =============================================================\n",
    "    return X_rec"
   ]
  },
  {
   "cell_type": "markdown",
   "metadata": {},
   "source": [
    "Once you have completed the code in `recoverData`, the following cell will recover an approximation of the first example. The code will then plot the data in this reduced dimension space. This will show you what the data looks like when using only the corresponding eigenvectors to reconstruct it. \n",
    "\n",
    "In the figure, the original data points are indicated with the blue circles, while the projected data points are indicated with the red circles. The projection effectively only retains the information in the direction given by $U_1$. The dotted lines show the distance from the data points in original space to the projected space. Those dotted lines represent the error measure due to PCA projection."
   ]
  },
  {
   "cell_type": "code",
   "execution_count": null,
   "metadata": {},
   "outputs": [],
   "source": [
    "X_rec  = recoverData(Z, U, K)\n",
    "print('Approximation of the first example: [{:.6f} {:.6f}]'.format(X_rec[0, 0], X_rec[0, 1]))\n",
    "print('       (this value should be about  [-1.047419 -1.047419])')\n",
    "\n",
    "#  Plot the normalized dataset (returned from featureNormalize)\n",
    "fig, ax = pyplot.subplots(figsize=(5, 5))\n",
    "ax.plot(X_norm[:, 0], X_norm[:, 1], 'bo', ms=8, mec='b', mew=0.5)\n",
    "ax.set_aspect('equal')\n",
    "ax.grid(False)\n",
    "pyplot.axis([-3, 2.75, -3, 2.75])\n",
    "\n",
    "# Draw lines connecting the projected points to the original points\n",
    "ax.plot(X_rec[:, 0], X_rec[:, 1], 'ro', mec='r', mew=2, mfc='none')\n",
    "for xnorm, xrec in zip(X_norm, X_rec):\n",
    "    ax.plot([xnorm[0], xrec[0]], [xnorm[1], xrec[1]], '--k', lw=1)"
   ]
  },
  {
   "cell_type": "markdown",
   "metadata": {},
   "source": [
    "### 1.4 Face Image Dataset (20 pts)\n",
    "\n",
    "In this part of the exercise, you will run PCA on face images to see how it can be used in practice for dimension reduction. The dataset `ex6faces.mat` contains a dataset `X` of face images, each $32 \\times 32$ in grayscale. This dataset was based on a [cropped version](http://conradsanderson.id.au/lfwcrop/) of the [labeled faces in the wild](http://vis-www.cs.umass.edu/lfw/) dataset. Each row of `X` corresponds to one face image (a row vector of length 1024). \n",
    "\n",
    "The next cell will load and visualize the first 100 of these face images."
   ]
  },
  {
   "cell_type": "code",
   "execution_count": null,
   "metadata": {},
   "outputs": [],
   "source": [
    "#  Load Face dataset\n",
    "data = loadmat(os.path.join('Data', 'ex6faces.mat'))\n",
    "X = data['X']"
   ]
  },
  {
   "cell_type": "code",
   "execution_count": null,
   "metadata": {},
   "outputs": [],
   "source": [
    "def display_data(x):\n",
    "    (m, n) = x.shape\n",
    "\n",
    "    # Set example_width automatically if not passed in\n",
    "    example_width = np.round(np.sqrt(n)).astype(int)\n",
    "    example_height = (n / example_width).astype(int)\n",
    "\n",
    "    # Compute the number of items to display\n",
    "    display_rows = np.floor(np.sqrt(m)).astype(int)\n",
    "    display_cols = np.ceil(m / display_rows).astype(int)\n",
    "\n",
    "    # Between images padding\n",
    "    pad = 1\n",
    "\n",
    "    # Setup blank display\n",
    "    display_array = - np.ones((pad + display_rows * (example_height + pad),\n",
    "                              pad + display_rows * (example_height + pad)))\n",
    "\n",
    "    # Copy each example into a patch on the display array\n",
    "    curr_ex = 0\n",
    "    for j in range(display_rows):\n",
    "        for i in range(display_cols):\n",
    "            if curr_ex > m:\n",
    "                break\n",
    "\n",
    "            # Copy the patch\n",
    "            # Get the max value of the patch\n",
    "            max_val = np.max(np.abs(x[curr_ex]))\n",
    "            display_array[pad + j * (example_height + pad) + np.arange(example_height),\n",
    "                          pad + i * (example_width + pad) + np.arange(example_width)[:, np.newaxis]] = \\\n",
    "                          x[curr_ex].reshape((example_height, example_width)) / max_val\n",
    "            curr_ex += 1\n",
    "\n",
    "        if curr_ex > m:\n",
    "            break\n",
    "\n",
    "    # Display image\n",
    "    plt.figure()\n",
    "    plt.imshow(display_array, cmap='gray', extent=[-1, 1, -1, 1])\n",
    "    plt.axis('off')"
   ]
  },
  {
   "cell_type": "code",
   "execution_count": null,
   "metadata": {},
   "outputs": [],
   "source": [
    "#  Display the first 100 faces in the dataset\n",
    "display_data(X[0:100])"
   ]
  },
  {
   "cell_type": "markdown",
   "metadata": {},
   "source": [
    "#### 1.4.1 PCA on Faces (10 pts)\n",
    "\n",
    "To run PCA on the face dataset, we first normalize the dataset by subtracting the mean of each feature from the data matrix `X`.  After running PCA, you will obtain the principal components of the dataset. Notice that each principal component in `U` (each column) is a vector of length $n$ (where for the face dataset, $n = 1024$). It turns out that we can visualize these principal components by reshaping each of them into a $32 \\times 32$ matrix that corresponds to the pixels in the original dataset. \n",
    "\n",
    "In the following cell you should first normalize the dataset and then run your PCA code. Then, the first 36 principal components (conveniently called eigenfaces) that describe the largest variations are displayed. If you want, you can also change the code to display more principal components to see how they capture more and more details."
   ]
  },
  {
   "cell_type": "code",
   "execution_count": null,
   "metadata": {},
   "outputs": [],
   "source": [
    "# ====================== YOUR CODE HERE ======================\n",
    "\n",
    "#  normalize X by subtracting the mean value from each feature\n",
    "\n",
    "    \n",
    "#  Run PCA\n",
    "\n",
    "    \n",
    "#  Visualize the top 36 eigenvectors found\n",
    "\n",
    "\n",
    "# =============================================================\n"
   ]
  },
  {
   "cell_type": "markdown",
   "metadata": {},
   "source": [
    "#### 1.4.2 Dimensionality Reduction (10 pts)\n",
    "\n",
    "Now that you have computed the principal components for the face dataset, you can use it to reduce the dimension of the face dataset. This allows you to use your learning algorithm with a smaller input size (e.g., 100 dimensions) instead of the original 1024 dimensions. This can help speed up your learning algorithm.\n",
    "\n",
    "The next cell will project the face dataset onto only the first 100 principal components. Concretely, each face image is now described by a vector $z^{(i)} \\in \\mathbb{R}^{100}$. To understand what is lost in the dimension reduction, you can recover the data using only the projected dataset."
   ]
  },
  {
   "cell_type": "code",
   "execution_count": null,
   "metadata": {},
   "outputs": [],
   "source": [
    "#  Project images to the eigen space using the top k eigenvectors \n",
    "#  If you are applying a machine learning algorithm \n",
    "\n",
    "# ====================== YOUR CODE HERE ======================\n",
    "\n",
    "\n",
    "\n",
    "# =============================================================\n",
    "\n",
    "\n",
    "print('The projected data Z has a shape of: ', Z.shape)"
   ]
  },
  {
   "cell_type": "markdown",
   "metadata": {},
   "source": [
    "In the next cell, an approximate recovery of the data is performed and the original and projected face images\n",
    "are displayed.\n",
    "\n",
    "From the reconstruction, you can observe that the general structure and appearance of the face are kept while the fine details are lost. This is a remarkable reduction (more than 10x) in the dataset size that can help speed up your learning algorithm significantly. For example, if you were training a neural network to perform person recognition (given a face image, predict the identity of the person), you can use the dimension reduced input of only a 100 dimensions instead of the original pixels."
   ]
  },
  {
   "cell_type": "code",
   "execution_count": null,
   "metadata": {},
   "outputs": [],
   "source": [
    "#  Project images to the eigen space using the top K eigen vectors and \n",
    "#  visualize only using those K dimensions\n",
    "#  Compare to the original input, which is also displayed\n",
    "\n",
    "# ====================== YOUR CODE HERE ======================\n",
    "\n",
    "  \n",
    "\n",
    "# ============================================================="
   ]
  },
  {
   "cell_type": "code",
   "execution_count": null,
   "metadata": {},
   "outputs": [],
   "source": [
    "# Display normalized data\n",
    "display_data(X_norm[:100, :])\n",
    "pyplot.gcf().suptitle('Original faces')\n",
    "\n",
    "# Display reconstructed data from only k eigenfaces\n",
    "display_data(X_rec[:100, :])\n",
    "pyplot.gcf().suptitle('Recovered faces')"
   ]
  },
  {
   "cell_type": "markdown",
   "metadata": {},
   "source": [
    "### 1.5 Scikit-learn (40 pts)\n",
    "\n",
    "In this section, your task is to use Scikit-learn to repeat all the analysis and verify the results above. "
   ]
  },
  {
   "cell_type": "code",
   "execution_count": null,
   "metadata": {},
   "outputs": [],
   "source": []
  }
 ],
 "metadata": {
  "kernelspec": {
   "display_name": "Python 3",
   "language": "python",
   "name": "python3"
  },
  "language_info": {
   "codemirror_mode": {
    "name": "ipython",
    "version": 3
   },
   "file_extension": ".py",
   "mimetype": "text/x-python",
   "name": "python",
   "nbconvert_exporter": "python",
   "pygments_lexer": "ipython3",
   "version": "3.7.4"
  }
 },
 "nbformat": 4,
 "nbformat_minor": 2
}
