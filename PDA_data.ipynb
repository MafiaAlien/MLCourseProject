{
 "cells": [
  {
   "cell_type": "code",
   "execution_count": 10,
   "metadata": {
    "collapsed": true,
    "pycharm": {
     "name": "#%%\n"
    }
   },
   "outputs": [],
   "source": [
    "import pandas as pd\n",
    "import numpy as np\n"
   ]
  },
  {
   "cell_type": "code",
   "execution_count": 11,
   "outputs": [],
   "source": [
    "df_pda  = pd.read_csv('datasets/PDA_Data.csv')"
   ],
   "metadata": {
    "collapsed": false,
    "pycharm": {
     "name": "#%%\n"
    }
   }
  },
  {
   "cell_type": "code",
   "execution_count": 12,
   "outputs": [
    {
     "data": {
      "text/plain": "               ID   Innovator  Use Message    Use Cell     Use PIM  \\\ncount  160.000000  160.000000   160.000000  160.000000  160.000000   \nmean    80.500000    3.475000     4.206250    5.556250    4.006250   \nstd     46.332134    1.605611     1.690137    1.180272    2.035833   \nmin      1.000000    1.000000     1.000000    2.000000    1.000000   \n25%     40.750000    2.000000     3.000000    5.000000    2.000000   \n50%     80.500000    3.000000     4.000000    6.000000    4.000000   \n75%    120.250000    5.000000     5.000000    7.000000    6.000000   \nmax    160.000000    7.000000     7.000000    7.000000    7.000000   \n\n       Inf Passive  Inf Active  Remote Access   Share Inf     Monitor  ...  \\\ncount   160.000000  160.000000     160.000000  160.000000  160.000000  ...   \nmean      4.450000    4.500000       3.987500    3.712500    4.793750  ...   \nstd       1.624498    1.590063       1.859829    1.634485    1.496734  ...   \nmin       1.000000    1.000000       1.000000    1.000000    1.000000  ...   \n25%       3.000000    3.000000       3.000000    3.000000    4.000000  ...   \n50%       4.000000    4.500000       4.000000    3.500000    5.000000  ...   \n75%       6.000000    6.000000       5.000000    5.000000    6.000000  ...   \nmax       7.000000    7.000000       7.000000    7.000000    7.000000  ...   \n\n       Professional   Computers         PDA        Cell          PC  \\\ncount    160.000000  160.000000  160.000000  160.000000  160.000000   \nmean       0.162500    0.231250    0.437500    0.875000    0.981250   \nstd        0.370067    0.422956    0.497636    0.331757    0.136067   \nmin        0.000000    0.000000    0.000000    0.000000    0.000000   \n25%        0.000000    0.000000    0.000000    1.000000    1.000000   \n50%        0.000000    0.000000    0.000000    1.000000    1.000000   \n75%        0.000000    0.000000    1.000000    1.000000    1.000000   \nmax        1.000000    1.000000    1.000000    1.000000    1.000000   \n\n             Away  Business Week  PC Magazine  Field & Stream    Mgourmet  \ncount  160.000000     160.000000   160.000000      160.000000  160.000000  \nmean     4.206250       0.275000     0.243750        0.125000    0.018750  \nstd      1.641049       0.447916     0.430692        0.331757    0.136067  \nmin      1.000000       0.000000     0.000000        0.000000    0.000000  \n25%      3.000000       0.000000     0.000000        0.000000    0.000000  \n50%      4.000000       0.000000     0.000000        0.000000    0.000000  \n75%      5.000000       1.000000     0.000000        0.000000    0.000000  \nmax      7.000000       1.000000     1.000000        1.000000    1.000000  \n\n[8 rows x 33 columns]",
      "text/html": "<div>\n<style scoped>\n    .dataframe tbody tr th:only-of-type {\n        vertical-align: middle;\n    }\n\n    .dataframe tbody tr th {\n        vertical-align: top;\n    }\n\n    .dataframe thead th {\n        text-align: right;\n    }\n</style>\n<table border=\"1\" class=\"dataframe\">\n  <thead>\n    <tr style=\"text-align: right;\">\n      <th></th>\n      <th>ID</th>\n      <th>Innovator</th>\n      <th>Use Message</th>\n      <th>Use Cell</th>\n      <th>Use PIM</th>\n      <th>Inf Passive</th>\n      <th>Inf Active</th>\n      <th>Remote Access</th>\n      <th>Share Inf</th>\n      <th>Monitor</th>\n      <th>...</th>\n      <th>Professional</th>\n      <th>Computers</th>\n      <th>PDA</th>\n      <th>Cell</th>\n      <th>PC</th>\n      <th>Away</th>\n      <th>Business Week</th>\n      <th>PC Magazine</th>\n      <th>Field &amp; Stream</th>\n      <th>Mgourmet</th>\n    </tr>\n  </thead>\n  <tbody>\n    <tr>\n      <th>count</th>\n      <td>160.000000</td>\n      <td>160.000000</td>\n      <td>160.000000</td>\n      <td>160.000000</td>\n      <td>160.000000</td>\n      <td>160.000000</td>\n      <td>160.000000</td>\n      <td>160.000000</td>\n      <td>160.000000</td>\n      <td>160.000000</td>\n      <td>...</td>\n      <td>160.000000</td>\n      <td>160.000000</td>\n      <td>160.000000</td>\n      <td>160.000000</td>\n      <td>160.000000</td>\n      <td>160.000000</td>\n      <td>160.000000</td>\n      <td>160.000000</td>\n      <td>160.000000</td>\n      <td>160.000000</td>\n    </tr>\n    <tr>\n      <th>mean</th>\n      <td>80.500000</td>\n      <td>3.475000</td>\n      <td>4.206250</td>\n      <td>5.556250</td>\n      <td>4.006250</td>\n      <td>4.450000</td>\n      <td>4.500000</td>\n      <td>3.987500</td>\n      <td>3.712500</td>\n      <td>4.793750</td>\n      <td>...</td>\n      <td>0.162500</td>\n      <td>0.231250</td>\n      <td>0.437500</td>\n      <td>0.875000</td>\n      <td>0.981250</td>\n      <td>4.206250</td>\n      <td>0.275000</td>\n      <td>0.243750</td>\n      <td>0.125000</td>\n      <td>0.018750</td>\n    </tr>\n    <tr>\n      <th>std</th>\n      <td>46.332134</td>\n      <td>1.605611</td>\n      <td>1.690137</td>\n      <td>1.180272</td>\n      <td>2.035833</td>\n      <td>1.624498</td>\n      <td>1.590063</td>\n      <td>1.859829</td>\n      <td>1.634485</td>\n      <td>1.496734</td>\n      <td>...</td>\n      <td>0.370067</td>\n      <td>0.422956</td>\n      <td>0.497636</td>\n      <td>0.331757</td>\n      <td>0.136067</td>\n      <td>1.641049</td>\n      <td>0.447916</td>\n      <td>0.430692</td>\n      <td>0.331757</td>\n      <td>0.136067</td>\n    </tr>\n    <tr>\n      <th>min</th>\n      <td>1.000000</td>\n      <td>1.000000</td>\n      <td>1.000000</td>\n      <td>2.000000</td>\n      <td>1.000000</td>\n      <td>1.000000</td>\n      <td>1.000000</td>\n      <td>1.000000</td>\n      <td>1.000000</td>\n      <td>1.000000</td>\n      <td>...</td>\n      <td>0.000000</td>\n      <td>0.000000</td>\n      <td>0.000000</td>\n      <td>0.000000</td>\n      <td>0.000000</td>\n      <td>1.000000</td>\n      <td>0.000000</td>\n      <td>0.000000</td>\n      <td>0.000000</td>\n      <td>0.000000</td>\n    </tr>\n    <tr>\n      <th>25%</th>\n      <td>40.750000</td>\n      <td>2.000000</td>\n      <td>3.000000</td>\n      <td>5.000000</td>\n      <td>2.000000</td>\n      <td>3.000000</td>\n      <td>3.000000</td>\n      <td>3.000000</td>\n      <td>3.000000</td>\n      <td>4.000000</td>\n      <td>...</td>\n      <td>0.000000</td>\n      <td>0.000000</td>\n      <td>0.000000</td>\n      <td>1.000000</td>\n      <td>1.000000</td>\n      <td>3.000000</td>\n      <td>0.000000</td>\n      <td>0.000000</td>\n      <td>0.000000</td>\n      <td>0.000000</td>\n    </tr>\n    <tr>\n      <th>50%</th>\n      <td>80.500000</td>\n      <td>3.000000</td>\n      <td>4.000000</td>\n      <td>6.000000</td>\n      <td>4.000000</td>\n      <td>4.000000</td>\n      <td>4.500000</td>\n      <td>4.000000</td>\n      <td>3.500000</td>\n      <td>5.000000</td>\n      <td>...</td>\n      <td>0.000000</td>\n      <td>0.000000</td>\n      <td>0.000000</td>\n      <td>1.000000</td>\n      <td>1.000000</td>\n      <td>4.000000</td>\n      <td>0.000000</td>\n      <td>0.000000</td>\n      <td>0.000000</td>\n      <td>0.000000</td>\n    </tr>\n    <tr>\n      <th>75%</th>\n      <td>120.250000</td>\n      <td>5.000000</td>\n      <td>5.000000</td>\n      <td>7.000000</td>\n      <td>6.000000</td>\n      <td>6.000000</td>\n      <td>6.000000</td>\n      <td>5.000000</td>\n      <td>5.000000</td>\n      <td>6.000000</td>\n      <td>...</td>\n      <td>0.000000</td>\n      <td>0.000000</td>\n      <td>1.000000</td>\n      <td>1.000000</td>\n      <td>1.000000</td>\n      <td>5.000000</td>\n      <td>1.000000</td>\n      <td>0.000000</td>\n      <td>0.000000</td>\n      <td>0.000000</td>\n    </tr>\n    <tr>\n      <th>max</th>\n      <td>160.000000</td>\n      <td>7.000000</td>\n      <td>7.000000</td>\n      <td>7.000000</td>\n      <td>7.000000</td>\n      <td>7.000000</td>\n      <td>7.000000</td>\n      <td>7.000000</td>\n      <td>7.000000</td>\n      <td>7.000000</td>\n      <td>...</td>\n      <td>1.000000</td>\n      <td>1.000000</td>\n      <td>1.000000</td>\n      <td>1.000000</td>\n      <td>1.000000</td>\n      <td>7.000000</td>\n      <td>1.000000</td>\n      <td>1.000000</td>\n      <td>1.000000</td>\n      <td>1.000000</td>\n    </tr>\n  </tbody>\n</table>\n<p>8 rows × 33 columns</p>\n</div>"
     },
     "execution_count": 12,
     "metadata": {},
     "output_type": "execute_result"
    }
   ],
   "source": [
    "df_pda.describe()"
   ],
   "metadata": {
    "collapsed": false,
    "pycharm": {
     "name": "#%%\n"
    }
   }
  },
  {
   "cell_type": "code",
   "execution_count": 13,
   "outputs": [
    {
     "data": {
      "text/plain": "   ID  Innovator  Use Message  Use Cell  Use PIM  Inf Passive  Inf Active  \\\n0   1          4            1         5        7            4           6   \n1   2          5            4         7        5            6           5   \n2   3          3            5         5        6            3           4   \n3   4          3            1         6        7            5           7   \n4   5          4            1         6        7            7           5   \n\n   Remote Access  Share Inf  Monitor  ...  Professional  Computers  PDA  Cell  \\\n0              3          1        4  ...             0          0    1     1   \n1              6          5        4  ...             0          0    0     1   \n2              7          6        4  ...             0          1    1     1   \n3              3          4        4  ...             0          0    1     1   \n4              5          5        2  ...             0          1    1     1   \n\n   PC  Away  Business Week  PC Magazine  Field & Stream  Mgourmet  \n0   1     3              0            0               0         0  \n1   1     3              1            0               0         0  \n2   1     6              0            0               0         0  \n3   1     7              0            0               0         0  \n4   1     2              1            0               0         0  \n\n[5 rows x 33 columns]",
      "text/html": "<div>\n<style scoped>\n    .dataframe tbody tr th:only-of-type {\n        vertical-align: middle;\n    }\n\n    .dataframe tbody tr th {\n        vertical-align: top;\n    }\n\n    .dataframe thead th {\n        text-align: right;\n    }\n</style>\n<table border=\"1\" class=\"dataframe\">\n  <thead>\n    <tr style=\"text-align: right;\">\n      <th></th>\n      <th>ID</th>\n      <th>Innovator</th>\n      <th>Use Message</th>\n      <th>Use Cell</th>\n      <th>Use PIM</th>\n      <th>Inf Passive</th>\n      <th>Inf Active</th>\n      <th>Remote Access</th>\n      <th>Share Inf</th>\n      <th>Monitor</th>\n      <th>...</th>\n      <th>Professional</th>\n      <th>Computers</th>\n      <th>PDA</th>\n      <th>Cell</th>\n      <th>PC</th>\n      <th>Away</th>\n      <th>Business Week</th>\n      <th>PC Magazine</th>\n      <th>Field &amp; Stream</th>\n      <th>Mgourmet</th>\n    </tr>\n  </thead>\n  <tbody>\n    <tr>\n      <th>0</th>\n      <td>1</td>\n      <td>4</td>\n      <td>1</td>\n      <td>5</td>\n      <td>7</td>\n      <td>4</td>\n      <td>6</td>\n      <td>3</td>\n      <td>1</td>\n      <td>4</td>\n      <td>...</td>\n      <td>0</td>\n      <td>0</td>\n      <td>1</td>\n      <td>1</td>\n      <td>1</td>\n      <td>3</td>\n      <td>0</td>\n      <td>0</td>\n      <td>0</td>\n      <td>0</td>\n    </tr>\n    <tr>\n      <th>1</th>\n      <td>2</td>\n      <td>5</td>\n      <td>4</td>\n      <td>7</td>\n      <td>5</td>\n      <td>6</td>\n      <td>5</td>\n      <td>6</td>\n      <td>5</td>\n      <td>4</td>\n      <td>...</td>\n      <td>0</td>\n      <td>0</td>\n      <td>0</td>\n      <td>1</td>\n      <td>1</td>\n      <td>3</td>\n      <td>1</td>\n      <td>0</td>\n      <td>0</td>\n      <td>0</td>\n    </tr>\n    <tr>\n      <th>2</th>\n      <td>3</td>\n      <td>3</td>\n      <td>5</td>\n      <td>5</td>\n      <td>6</td>\n      <td>3</td>\n      <td>4</td>\n      <td>7</td>\n      <td>6</td>\n      <td>4</td>\n      <td>...</td>\n      <td>0</td>\n      <td>1</td>\n      <td>1</td>\n      <td>1</td>\n      <td>1</td>\n      <td>6</td>\n      <td>0</td>\n      <td>0</td>\n      <td>0</td>\n      <td>0</td>\n    </tr>\n    <tr>\n      <th>3</th>\n      <td>4</td>\n      <td>3</td>\n      <td>1</td>\n      <td>6</td>\n      <td>7</td>\n      <td>5</td>\n      <td>7</td>\n      <td>3</td>\n      <td>4</td>\n      <td>4</td>\n      <td>...</td>\n      <td>0</td>\n      <td>0</td>\n      <td>1</td>\n      <td>1</td>\n      <td>1</td>\n      <td>7</td>\n      <td>0</td>\n      <td>0</td>\n      <td>0</td>\n      <td>0</td>\n    </tr>\n    <tr>\n      <th>4</th>\n      <td>5</td>\n      <td>4</td>\n      <td>1</td>\n      <td>6</td>\n      <td>7</td>\n      <td>7</td>\n      <td>5</td>\n      <td>5</td>\n      <td>5</td>\n      <td>2</td>\n      <td>...</td>\n      <td>0</td>\n      <td>1</td>\n      <td>1</td>\n      <td>1</td>\n      <td>1</td>\n      <td>2</td>\n      <td>1</td>\n      <td>0</td>\n      <td>0</td>\n      <td>0</td>\n    </tr>\n  </tbody>\n</table>\n<p>5 rows × 33 columns</p>\n</div>"
     },
     "execution_count": 13,
     "metadata": {},
     "output_type": "execute_result"
    }
   ],
   "source": [
    "df_pda.head()"
   ],
   "metadata": {
    "collapsed": false,
    "pycharm": {
     "name": "#%%\n"
    }
   }
  },
  {
   "cell_type": "code",
   "execution_count": 14,
   "outputs": [
    {
     "data": {
      "text/plain": "ID                False\nInnovator         False\nUse Message       False\nUse Cell          False\nUse PIM           False\nInf Passive       False\nInf Active        False\nRemote Access     False\nShare Inf         False\nMonitor           False\nEmail             False\nWeb               False\nMmedia            False\nErgonomic         False\nMonthly           False\nPrice             False\nAge               False\nEducation         False\nIncome            False\nConstruction      False\nEmergency         False\nSales             False\nService           False\nProfessional      False\nComputers         False\nPDA               False\nCell              False\nPC                False\nAway              False\nBusiness Week     False\nPC Magazine       False\nField & Stream    False\nMgourmet          False\ndtype: bool"
     },
     "execution_count": 14,
     "metadata": {},
     "output_type": "execute_result"
    }
   ],
   "source": [
    "df_pda.isna().any()"
   ],
   "metadata": {
    "collapsed": false,
    "pycharm": {
     "name": "#%%\n"
    }
   }
  },
  {
   "cell_type": "code",
   "execution_count": 15,
   "outputs": [
    {
     "name": "stdout",
     "output_type": "stream",
     "text": [
      "<class 'pandas.core.frame.DataFrame'>\n",
      "RangeIndex: 160 entries, 0 to 159\n",
      "Data columns (total 33 columns):\n",
      " #   Column          Non-Null Count  Dtype\n",
      "---  ------          --------------  -----\n",
      " 0   ID              160 non-null    int64\n",
      " 1   Innovator       160 non-null    int64\n",
      " 2   Use Message     160 non-null    int64\n",
      " 3   Use Cell        160 non-null    int64\n",
      " 4   Use PIM         160 non-null    int64\n",
      " 5   Inf Passive     160 non-null    int64\n",
      " 6   Inf Active      160 non-null    int64\n",
      " 7   Remote Access   160 non-null    int64\n",
      " 8   Share Inf       160 non-null    int64\n",
      " 9   Monitor         160 non-null    int64\n",
      " 10  Email           160 non-null    int64\n",
      " 11  Web             160 non-null    int64\n",
      " 12  Mmedia          160 non-null    int64\n",
      " 13  Ergonomic       160 non-null    int64\n",
      " 14  Monthly         160 non-null    int64\n",
      " 15  Price           160 non-null    int64\n",
      " 16  Age             160 non-null    int64\n",
      " 17  Education       160 non-null    int64\n",
      " 18  Income          160 non-null    int64\n",
      " 19  Construction    160 non-null    int64\n",
      " 20  Emergency       160 non-null    int64\n",
      " 21  Sales           160 non-null    int64\n",
      " 22  Service         160 non-null    int64\n",
      " 23  Professional    160 non-null    int64\n",
      " 24  Computers       160 non-null    int64\n",
      " 25  PDA             160 non-null    int64\n",
      " 26  Cell            160 non-null    int64\n",
      " 27  PC              160 non-null    int64\n",
      " 28  Away            160 non-null    int64\n",
      " 29  Business Week   160 non-null    int64\n",
      " 30  PC Magazine     160 non-null    int64\n",
      " 31  Field & Stream  160 non-null    int64\n",
      " 32  Mgourmet        160 non-null    int64\n",
      "dtypes: int64(33)\n",
      "memory usage: 41.4 KB\n"
     ]
    }
   ],
   "source": [
    "df_pda.info()"
   ],
   "metadata": {
    "collapsed": false,
    "pycharm": {
     "name": "#%%\n"
    }
   }
  },
  {
   "cell_type": "code",
   "execution_count": 16,
   "outputs": [],
   "source": [
    "from sklearn.cluster import KMeans"
   ],
   "metadata": {
    "collapsed": false,
    "pycharm": {
     "name": "#%%\n"
    }
   }
  },
  {
   "cell_type": "code",
   "execution_count": null,
   "outputs": [],
   "source": [],
   "metadata": {
    "collapsed": false,
    "pycharm": {
     "name": "#%%\n"
    }
   }
  }
 ],
 "metadata": {
  "kernelspec": {
   "display_name": "Python 3",
   "language": "python",
   "name": "python3"
  },
  "language_info": {
   "codemirror_mode": {
    "name": "ipython",
    "version": 2
   },
   "file_extension": ".py",
   "mimetype": "text/x-python",
   "name": "python",
   "nbconvert_exporter": "python",
   "pygments_lexer": "ipython2",
   "version": "2.7.6"
  }
 },
 "nbformat": 4,
 "nbformat_minor": 0
}