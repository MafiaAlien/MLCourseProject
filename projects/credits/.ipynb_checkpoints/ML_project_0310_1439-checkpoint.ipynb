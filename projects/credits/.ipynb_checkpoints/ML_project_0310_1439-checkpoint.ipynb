{
 "cells": [
  {
   "cell_type": "code",
   "execution_count": 1,
   "metadata": {},
   "outputs": [],
   "source": [
    "# pip install -U imbalanced-learn\n",
    "\n",
    "# pip install xgboost\n"
   ]
  },
  {
   "cell_type": "code",
   "execution_count": 2,
   "metadata": {},
   "outputs": [],
   "source": [
    "import pandas as pd\n",
    "from sklearn.model_selection import GridSearchCV, train_test_split\n",
    "from sklearn.pipeline import Pipeline, make_pipeline\n",
    "from sklearn.preprocessing import StandardScaler, OneHotEncoder\n",
    "from sklearn.impute import SimpleImputer\n",
    "from sklearn.svm import *\n",
    "from sklearn.ensemble import *\n",
    "from sklearn.tree import *\n",
    "from sklearn.linear_model import *\n",
    "from sklearn.compose import make_column_transformer\n",
    "import numpy as np\n",
    "from imblearn.over_sampling import SMOTENC\n",
    "import seaborn as sns\n",
    "from sklearn.neighbors import KNeighborsClassifier\n",
    "from sklearn.metrics import *\n",
    "\n",
    "# from xgboost import XGBClassifier\n",
    "\n"
   ]
  },
  {
   "cell_type": "code",
   "execution_count": 3,
   "metadata": {},
   "outputs": [],
   "source": [
    "credit = pd.read_csv('credit_record.csv')"
   ]
  },
  {
   "cell_type": "code",
   "execution_count": 4,
   "metadata": {},
   "outputs": [],
   "source": [
    "application = pd.read_csv('application_record.csv')"
   ]
  },
  {
   "cell_type": "markdown",
   "metadata": {},
   "source": [
    "### data preview"
   ]
  },
  {
   "cell_type": "code",
   "execution_count": 5,
   "metadata": {},
   "outputs": [
    {
     "name": "stdout",
     "output_type": "stream",
     "text": [
      "<class 'pandas.core.frame.DataFrame'>\n",
      "RangeIndex: 1001730 entries, 0 to 1001729\n",
      "Data columns (total 3 columns):\n",
      " #   Column          Non-Null Count    Dtype \n",
      "---  ------          --------------    ----- \n",
      " 0   ID              1001730 non-null  int64 \n",
      " 1   MONTHS_BALANCE  1001730 non-null  int64 \n",
      " 2   STATUS          1001730 non-null  object\n",
      "dtypes: int64(2), object(1)\n",
      "memory usage: 22.9+ MB\n"
     ]
    }
   ],
   "source": [
    "credit.info()"
   ]
  },
  {
   "cell_type": "code",
   "execution_count": 6,
   "metadata": {
    "scrolled": true
   },
   "outputs": [
    {
     "name": "stdout",
     "output_type": "stream",
     "text": [
      "<class 'pandas.core.frame.DataFrame'>\n",
      "RangeIndex: 101658 entries, 0 to 101657\n",
      "Data columns (total 18 columns):\n",
      " #   Column               Non-Null Count   Dtype  \n",
      "---  ------               --------------   -----  \n",
      " 0   ID                   101658 non-null  int64  \n",
      " 1   CODE_GENDER          101658 non-null  object \n",
      " 2   FLAG_OWN_CAR         101658 non-null  object \n",
      " 3   FLAG_OWN_REALTY      101658 non-null  object \n",
      " 4   CNT_CHILDREN         101658 non-null  int64  \n",
      " 5   AMT_INCOME_TOTAL     101658 non-null  float64\n",
      " 6   NAME_INCOME_TYPE     101658 non-null  object \n",
      " 7   NAME_EDUCATION_TYPE  101658 non-null  object \n",
      " 8   NAME_FAMILY_STATUS   101658 non-null  object \n",
      " 9   NAME_HOUSING_TYPE    101658 non-null  object \n",
      " 10  DAYS_BIRTH           101658 non-null  int64  \n",
      " 11  DAYS_EMPLOYED        101658 non-null  int64  \n",
      " 12  FLAG_MOBIL           101658 non-null  int64  \n",
      " 13  FLAG_WORK_PHONE      101658 non-null  int64  \n",
      " 14  FLAG_PHONE           101658 non-null  int64  \n",
      " 15  FLAG_EMAIL           101658 non-null  int64  \n",
      " 16  OCCUPATION_TYPE      69710 non-null   object \n",
      " 17  CNT_FAM_MEMBERS      101657 non-null  float64\n",
      "dtypes: float64(2), int64(8), object(8)\n",
      "memory usage: 14.0+ MB\n"
     ]
    }
   ],
   "source": [
    "application.info()"
   ]
  },
  {
   "cell_type": "code",
   "execution_count": 7,
   "metadata": {
    "scrolled": true
   },
   "outputs": [
    {
     "data": {
      "text/html": [
       "<div>\n",
       "<style scoped>\n",
       "    .dataframe tbody tr th:only-of-type {\n",
       "        vertical-align: middle;\n",
       "    }\n",
       "\n",
       "    .dataframe tbody tr th {\n",
       "        vertical-align: top;\n",
       "    }\n",
       "\n",
       "    .dataframe thead th {\n",
       "        text-align: right;\n",
       "    }\n",
       "</style>\n",
       "<table border=\"1\" class=\"dataframe\">\n",
       "  <thead>\n",
       "    <tr style=\"text-align: right;\">\n",
       "      <th></th>\n",
       "      <th>CNT_CHILDREN</th>\n",
       "      <th>AMT_INCOME_TOTAL</th>\n",
       "      <th>DAYS_BIRTH</th>\n",
       "      <th>DAYS_EMPLOYED</th>\n",
       "      <th>FLAG_MOBIL</th>\n",
       "      <th>FLAG_WORK_PHONE</th>\n",
       "      <th>FLAG_PHONE</th>\n",
       "      <th>FLAG_EMAIL</th>\n",
       "      <th>CNT_FAM_MEMBERS</th>\n",
       "    </tr>\n",
       "  </thead>\n",
       "  <tbody>\n",
       "    <tr>\n",
       "      <th>count</th>\n",
       "      <td>101658.000000</td>\n",
       "      <td>1.016580e+05</td>\n",
       "      <td>101658.000000</td>\n",
       "      <td>101658.000000</td>\n",
       "      <td>101658.0</td>\n",
       "      <td>101658.000000</td>\n",
       "      <td>101658.000000</td>\n",
       "      <td>101658.000000</td>\n",
       "      <td>101657.000000</td>\n",
       "    </tr>\n",
       "    <tr>\n",
       "      <th>mean</th>\n",
       "      <td>0.434073</td>\n",
       "      <td>1.858836e+05</td>\n",
       "      <td>-16066.993803</td>\n",
       "      <td>63155.300449</td>\n",
       "      <td>1.0</td>\n",
       "      <td>0.216451</td>\n",
       "      <td>0.300271</td>\n",
       "      <td>0.086545</td>\n",
       "      <td>2.203567</td>\n",
       "    </tr>\n",
       "    <tr>\n",
       "      <th>std</th>\n",
       "      <td>0.739729</td>\n",
       "      <td>1.046114e+05</td>\n",
       "      <td>4204.728138</td>\n",
       "      <td>141002.279846</td>\n",
       "      <td>0.0</td>\n",
       "      <td>0.411827</td>\n",
       "      <td>0.458378</td>\n",
       "      <td>0.281169</td>\n",
       "      <td>0.909860</td>\n",
       "    </tr>\n",
       "    <tr>\n",
       "      <th>min</th>\n",
       "      <td>0.000000</td>\n",
       "      <td>2.700000e+04</td>\n",
       "      <td>-25201.000000</td>\n",
       "      <td>-16365.000000</td>\n",
       "      <td>1.0</td>\n",
       "      <td>0.000000</td>\n",
       "      <td>0.000000</td>\n",
       "      <td>0.000000</td>\n",
       "      <td>1.000000</td>\n",
       "    </tr>\n",
       "    <tr>\n",
       "      <th>25%</th>\n",
       "      <td>0.000000</td>\n",
       "      <td>1.192500e+05</td>\n",
       "      <td>-19575.000000</td>\n",
       "      <td>-3109.000000</td>\n",
       "      <td>1.0</td>\n",
       "      <td>0.000000</td>\n",
       "      <td>0.000000</td>\n",
       "      <td>0.000000</td>\n",
       "      <td>2.000000</td>\n",
       "    </tr>\n",
       "    <tr>\n",
       "      <th>50%</th>\n",
       "      <td>0.000000</td>\n",
       "      <td>1.575000e+05</td>\n",
       "      <td>-15624.000000</td>\n",
       "      <td>-1493.000000</td>\n",
       "      <td>1.0</td>\n",
       "      <td>0.000000</td>\n",
       "      <td>0.000000</td>\n",
       "      <td>0.000000</td>\n",
       "      <td>2.000000</td>\n",
       "    </tr>\n",
       "    <tr>\n",
       "      <th>75%</th>\n",
       "      <td>1.000000</td>\n",
       "      <td>2.250000e+05</td>\n",
       "      <td>-12564.000000</td>\n",
       "      <td>-357.000000</td>\n",
       "      <td>1.0</td>\n",
       "      <td>0.000000</td>\n",
       "      <td>1.000000</td>\n",
       "      <td>0.000000</td>\n",
       "      <td>3.000000</td>\n",
       "    </tr>\n",
       "    <tr>\n",
       "      <th>max</th>\n",
       "      <td>19.000000</td>\n",
       "      <td>3.825000e+06</td>\n",
       "      <td>-7489.000000</td>\n",
       "      <td>365243.000000</td>\n",
       "      <td>1.0</td>\n",
       "      <td>1.000000</td>\n",
       "      <td>1.000000</td>\n",
       "      <td>1.000000</td>\n",
       "      <td>20.000000</td>\n",
       "    </tr>\n",
       "  </tbody>\n",
       "</table>\n",
       "</div>"
      ],
      "text/plain": [
       "        CNT_CHILDREN  AMT_INCOME_TOTAL     DAYS_BIRTH  DAYS_EMPLOYED  \\\n",
       "count  101658.000000      1.016580e+05  101658.000000  101658.000000   \n",
       "mean        0.434073      1.858836e+05  -16066.993803   63155.300449   \n",
       "std         0.739729      1.046114e+05    4204.728138  141002.279846   \n",
       "min         0.000000      2.700000e+04  -25201.000000  -16365.000000   \n",
       "25%         0.000000      1.192500e+05  -19575.000000   -3109.000000   \n",
       "50%         0.000000      1.575000e+05  -15624.000000   -1493.000000   \n",
       "75%         1.000000      2.250000e+05  -12564.000000    -357.000000   \n",
       "max        19.000000      3.825000e+06   -7489.000000  365243.000000   \n",
       "\n",
       "       FLAG_MOBIL  FLAG_WORK_PHONE     FLAG_PHONE     FLAG_EMAIL  \\\n",
       "count    101658.0    101658.000000  101658.000000  101658.000000   \n",
       "mean          1.0         0.216451       0.300271       0.086545   \n",
       "std           0.0         0.411827       0.458378       0.281169   \n",
       "min           1.0         0.000000       0.000000       0.000000   \n",
       "25%           1.0         0.000000       0.000000       0.000000   \n",
       "50%           1.0         0.000000       0.000000       0.000000   \n",
       "75%           1.0         0.000000       1.000000       0.000000   \n",
       "max           1.0         1.000000       1.000000       1.000000   \n",
       "\n",
       "       CNT_FAM_MEMBERS  \n",
       "count    101657.000000  \n",
       "mean          2.203567  \n",
       "std           0.909860  \n",
       "min           1.000000  \n",
       "25%           2.000000  \n",
       "50%           2.000000  \n",
       "75%           3.000000  \n",
       "max          20.000000  "
      ]
     },
     "execution_count": 7,
     "metadata": {},
     "output_type": "execute_result"
    }
   ],
   "source": [
    "application.describe().drop(columns=['ID'],axis=1)"
   ]
  },
  {
   "cell_type": "markdown",
   "metadata": {},
   "source": [
    "### dealing some invalid values in employed days col and occupation col"
   ]
  },
  {
   "cell_type": "code",
   "execution_count": 8,
   "metadata": {},
   "outputs": [],
   "source": [
    "application.DAYS_EMPLOYED.replace(to_replace=365243, value=np.nan, inplace=True)\n",
    "application.OCCUPATION_TYPE.replace(to_replace=np.nan, value='Unknown', inplace=True)"
   ]
  },
  {
   "cell_type": "code",
   "execution_count": 9,
   "metadata": {},
   "outputs": [],
   "source": [
    "application['DAYS_EMPLOYED']=application.DAYS_EMPLOYED.apply(lambda x: -x/365.25)\n",
    "application['DAYS_BIRTH']=application.DAYS_BIRTH.apply(lambda x: -x/365.25)"
   ]
  },
  {
   "cell_type": "markdown",
   "metadata": {},
   "source": [
    "### use day_birth to train a linear regression model to fill employed days' nan value"
   ]
  },
  {
   "cell_type": "code",
   "execution_count": 10,
   "metadata": {
    "scrolled": false
   },
   "outputs": [
    {
     "data": {
      "text/plain": [
       "<matplotlib.axes._subplots.AxesSubplot at 0x7fbfb6280438>"
      ]
     },
     "execution_count": 10,
     "metadata": {},
     "output_type": "execute_result"
    },
    {
     "data": {
      "image/png": "[encoded data removed]",
      "text/plain": [
       "<Figure size 864x576 with 1 Axes>"
      ]
     },
     "metadata": {
      "needs_background": "light"
     },
     "output_type": "display_data"
    }
   ],
   "source": [
    "import matplotlib.pyplot as plt\n",
    "plt.figure(figsize=(12,8))\n",
    "sns.regplot(x='DAYS_BIRTH', y='DAYS_EMPLOYED', data=application, marker='.',line_kws={'color': 'r'} )\n",
    "# use lm to predict and fill the nan value in employday"
   ]
  },
  {
   "cell_type": "markdown",
   "metadata": {},
   "source": [
    "###  table 1 data preprocess"
   ]
  },
  {
   "cell_type": "code",
   "execution_count": 11,
   "metadata": {},
   "outputs": [],
   "source": [
    "app = application.drop_duplicates(subset=application.columns[1:], keep='first')"
   ]
  },
  {
   "cell_type": "code",
   "execution_count": 12,
   "metadata": {},
   "outputs": [],
   "source": [
    "birth_emp = app[(app.DAYS_BIRTH.notna())&(app.DAYS_EMPLOYED.notna())]"
   ]
  },
  {
   "cell_type": "code",
   "execution_count": 13,
   "metadata": {},
   "outputs": [
    {
     "data": {
      "text/html": [
       "<div>\n",
       "<style scoped>\n",
       "    .dataframe tbody tr th:only-of-type {\n",
       "        vertical-align: middle;\n",
       "    }\n",
       "\n",
       "    .dataframe tbody tr th {\n",
       "        vertical-align: top;\n",
       "    }\n",
       "\n",
       "    .dataframe thead th {\n",
       "        text-align: right;\n",
       "    }\n",
       "</style>\n",
       "<table border=\"1\" class=\"dataframe\">\n",
       "  <thead>\n",
       "    <tr style=\"text-align: right;\">\n",
       "      <th></th>\n",
       "      <th>ID</th>\n",
       "      <th>CODE_GENDER</th>\n",
       "      <th>FLAG_OWN_CAR</th>\n",
       "      <th>FLAG_OWN_REALTY</th>\n",
       "      <th>CNT_CHILDREN</th>\n",
       "      <th>AMT_INCOME_TOTAL</th>\n",
       "      <th>NAME_INCOME_TYPE</th>\n",
       "      <th>NAME_EDUCATION_TYPE</th>\n",
       "      <th>NAME_FAMILY_STATUS</th>\n",
       "      <th>NAME_HOUSING_TYPE</th>\n",
       "      <th>DAYS_BIRTH</th>\n",
       "      <th>DAYS_EMPLOYED</th>\n",
       "      <th>FLAG_MOBIL</th>\n",
       "      <th>FLAG_WORK_PHONE</th>\n",
       "      <th>FLAG_PHONE</th>\n",
       "      <th>FLAG_EMAIL</th>\n",
       "      <th>OCCUPATION_TYPE</th>\n",
       "      <th>CNT_FAM_MEMBERS</th>\n",
       "    </tr>\n",
       "  </thead>\n",
       "  <tbody>\n",
       "    <tr>\n",
       "      <th>0</th>\n",
       "      <td>5008804</td>\n",
       "      <td>M</td>\n",
       "      <td>Y</td>\n",
       "      <td>Y</td>\n",
       "      <td>0</td>\n",
       "      <td>427500.0</td>\n",
       "      <td>Working</td>\n",
       "      <td>Higher education</td>\n",
       "      <td>Civil marriage</td>\n",
       "      <td>Rented apartment</td>\n",
       "      <td>32.867899</td>\n",
       "      <td>12.435318</td>\n",
       "      <td>1</td>\n",
       "      <td>1</td>\n",
       "      <td>0</td>\n",
       "      <td>0</td>\n",
       "      <td>Unknown</td>\n",
       "      <td>2.0</td>\n",
       "    </tr>\n",
       "    <tr>\n",
       "      <th>2</th>\n",
       "      <td>5008806</td>\n",
       "      <td>M</td>\n",
       "      <td>Y</td>\n",
       "      <td>Y</td>\n",
       "      <td>0</td>\n",
       "      <td>112500.0</td>\n",
       "      <td>Working</td>\n",
       "      <td>Secondary / secondary special</td>\n",
       "      <td>Married</td>\n",
       "      <td>House / apartment</td>\n",
       "      <td>58.792608</td>\n",
       "      <td>3.104723</td>\n",
       "      <td>1</td>\n",
       "      <td>0</td>\n",
       "      <td>0</td>\n",
       "      <td>0</td>\n",
       "      <td>Security staff</td>\n",
       "      <td>2.0</td>\n",
       "    </tr>\n",
       "    <tr>\n",
       "      <th>3</th>\n",
       "      <td>5008808</td>\n",
       "      <td>F</td>\n",
       "      <td>N</td>\n",
       "      <td>Y</td>\n",
       "      <td>0</td>\n",
       "      <td>270000.0</td>\n",
       "      <td>Commercial associate</td>\n",
       "      <td>Secondary / secondary special</td>\n",
       "      <td>Single / not married</td>\n",
       "      <td>House / apartment</td>\n",
       "      <td>52.320329</td>\n",
       "      <td>8.353183</td>\n",
       "      <td>1</td>\n",
       "      <td>0</td>\n",
       "      <td>1</td>\n",
       "      <td>1</td>\n",
       "      <td>Sales staff</td>\n",
       "      <td>1.0</td>\n",
       "    </tr>\n",
       "    <tr>\n",
       "      <th>10</th>\n",
       "      <td>5008815</td>\n",
       "      <td>M</td>\n",
       "      <td>Y</td>\n",
       "      <td>Y</td>\n",
       "      <td>0</td>\n",
       "      <td>270000.0</td>\n",
       "      <td>Working</td>\n",
       "      <td>Higher education</td>\n",
       "      <td>Married</td>\n",
       "      <td>House / apartment</td>\n",
       "      <td>46.193018</td>\n",
       "      <td>2.105407</td>\n",
       "      <td>1</td>\n",
       "      <td>1</td>\n",
       "      <td>1</td>\n",
       "      <td>1</td>\n",
       "      <td>Accountants</td>\n",
       "      <td>2.0</td>\n",
       "    </tr>\n",
       "    <tr>\n",
       "      <th>13</th>\n",
       "      <td>5008819</td>\n",
       "      <td>M</td>\n",
       "      <td>Y</td>\n",
       "      <td>Y</td>\n",
       "      <td>0</td>\n",
       "      <td>135000.0</td>\n",
       "      <td>Commercial associate</td>\n",
       "      <td>Secondary / secondary special</td>\n",
       "      <td>Married</td>\n",
       "      <td>House / apartment</td>\n",
       "      <td>48.673511</td>\n",
       "      <td>3.268994</td>\n",
       "      <td>1</td>\n",
       "      <td>0</td>\n",
       "      <td>0</td>\n",
       "      <td>0</td>\n",
       "      <td>Laborers</td>\n",
       "      <td>2.0</td>\n",
       "    </tr>\n",
       "  </tbody>\n",
       "</table>\n",
       "</div>"
      ],
      "text/plain": [
       "         ID CODE_GENDER FLAG_OWN_CAR FLAG_OWN_REALTY  CNT_CHILDREN  \\\n",
       "0   5008804           M            Y               Y             0   \n",
       "2   5008806           M            Y               Y             0   \n",
       "3   5008808           F            N               Y             0   \n",
       "10  5008815           M            Y               Y             0   \n",
       "13  5008819           M            Y               Y             0   \n",
       "\n",
       "    AMT_INCOME_TOTAL      NAME_INCOME_TYPE            NAME_EDUCATION_TYPE  \\\n",
       "0           427500.0               Working               Higher education   \n",
       "2           112500.0               Working  Secondary / secondary special   \n",
       "3           270000.0  Commercial associate  Secondary / secondary special   \n",
       "10          270000.0               Working               Higher education   \n",
       "13          135000.0  Commercial associate  Secondary / secondary special   \n",
       "\n",
       "      NAME_FAMILY_STATUS  NAME_HOUSING_TYPE  DAYS_BIRTH  DAYS_EMPLOYED  \\\n",
       "0         Civil marriage   Rented apartment   32.867899      12.435318   \n",
       "2                Married  House / apartment   58.792608       3.104723   \n",
       "3   Single / not married  House / apartment   52.320329       8.353183   \n",
       "10               Married  House / apartment   46.193018       2.105407   \n",
       "13               Married  House / apartment   48.673511       3.268994   \n",
       "\n",
       "    FLAG_MOBIL  FLAG_WORK_PHONE  FLAG_PHONE  FLAG_EMAIL OCCUPATION_TYPE  \\\n",
       "0            1                1           0           0         Unknown   \n",
       "2            1                0           0           0  Security staff   \n",
       "3            1                0           1           1     Sales staff   \n",
       "10           1                1           1           1     Accountants   \n",
       "13           1                0           0           0        Laborers   \n",
       "\n",
       "    CNT_FAM_MEMBERS  \n",
       "0               2.0  \n",
       "2               2.0  \n",
       "3               1.0  \n",
       "10              2.0  \n",
       "13              2.0  "
      ]
     },
     "execution_count": 13,
     "metadata": {},
     "output_type": "execute_result"
    }
   ],
   "source": [
    "birth_emp.head()"
   ]
  },
  {
   "cell_type": "code",
   "execution_count": 14,
   "metadata": {},
   "outputs": [],
   "source": [
    "X_fillemp= birth_emp['DAYS_BIRTH'].values.reshape(-1 ,1)\n",
    "y_fillemp = birth_emp['DAYS_EMPLOYED'].values.reshape(-1)\n"
   ]
  },
  {
   "cell_type": "code",
   "execution_count": 15,
   "metadata": {},
   "outputs": [],
   "source": [
    "lm = LinearRegression().fit(X_fillemp, y_fillemp)"
   ]
  },
  {
   "cell_type": "code",
   "execution_count": 16,
   "metadata": {},
   "outputs": [
    {
     "data": {
      "text/plain": [
       "3707"
      ]
     },
     "execution_count": 16,
     "metadata": {},
     "output_type": "execute_result"
    }
   ],
   "source": [
    "app.DAYS_EMPLOYED.isna().sum()"
   ]
  },
  {
   "cell_type": "code",
   "execution_count": 17,
   "metadata": {
    "scrolled": true
   },
   "outputs": [
    {
     "data": {
      "text/html": [
       "<div>\n",
       "<style scoped>\n",
       "    .dataframe tbody tr th:only-of-type {\n",
       "        vertical-align: middle;\n",
       "    }\n",
       "\n",
       "    .dataframe tbody tr th {\n",
       "        vertical-align: top;\n",
       "    }\n",
       "\n",
       "    .dataframe thead th {\n",
       "        text-align: right;\n",
       "    }\n",
       "</style>\n",
       "<table border=\"1\" class=\"dataframe\">\n",
       "  <thead>\n",
       "    <tr style=\"text-align: right;\">\n",
       "      <th></th>\n",
       "      <th>DAYS_BIRTH</th>\n",
       "      <th>DAYS_EMPLOYED</th>\n",
       "    </tr>\n",
       "  </thead>\n",
       "  <tbody>\n",
       "    <tr>\n",
       "      <th>7</th>\n",
       "      <td>61.503080</td>\n",
       "      <td>NaN</td>\n",
       "    </tr>\n",
       "    <tr>\n",
       "      <th>76</th>\n",
       "      <td>55.266256</td>\n",
       "      <td>NaN</td>\n",
       "    </tr>\n",
       "    <tr>\n",
       "      <th>160</th>\n",
       "      <td>61.106092</td>\n",
       "      <td>NaN</td>\n",
       "    </tr>\n",
       "    <tr>\n",
       "      <th>216</th>\n",
       "      <td>51.148528</td>\n",
       "      <td>NaN</td>\n",
       "    </tr>\n",
       "    <tr>\n",
       "      <th>239</th>\n",
       "      <td>61.138946</td>\n",
       "      <td>NaN</td>\n",
       "    </tr>\n",
       "    <tr>\n",
       "      <th>...</th>\n",
       "      <td>...</td>\n",
       "      <td>...</td>\n",
       "    </tr>\n",
       "    <tr>\n",
       "      <th>101492</th>\n",
       "      <td>60.076660</td>\n",
       "      <td>NaN</td>\n",
       "    </tr>\n",
       "    <tr>\n",
       "      <th>101530</th>\n",
       "      <td>64.843258</td>\n",
       "      <td>NaN</td>\n",
       "    </tr>\n",
       "    <tr>\n",
       "      <th>101556</th>\n",
       "      <td>56.933607</td>\n",
       "      <td>NaN</td>\n",
       "    </tr>\n",
       "    <tr>\n",
       "      <th>101614</th>\n",
       "      <td>57.596167</td>\n",
       "      <td>NaN</td>\n",
       "    </tr>\n",
       "    <tr>\n",
       "      <th>101641</th>\n",
       "      <td>53.746749</td>\n",
       "      <td>NaN</td>\n",
       "    </tr>\n",
       "  </tbody>\n",
       "</table>\n",
       "<p>3707 rows × 2 columns</p>\n",
       "</div>"
      ],
      "text/plain": [
       "        DAYS_BIRTH  DAYS_EMPLOYED\n",
       "7        61.503080            NaN\n",
       "76       55.266256            NaN\n",
       "160      61.106092            NaN\n",
       "216      51.148528            NaN\n",
       "239      61.138946            NaN\n",
       "...            ...            ...\n",
       "101492   60.076660            NaN\n",
       "101530   64.843258            NaN\n",
       "101556   56.933607            NaN\n",
       "101614   57.596167            NaN\n",
       "101641   53.746749            NaN\n",
       "\n",
       "[3707 rows x 2 columns]"
      ]
     },
     "execution_count": 17,
     "metadata": {},
     "output_type": "execute_result"
    }
   ],
   "source": [
    "app[app['DAYS_EMPLOYED'].isna()][['DAYS_BIRTH', 'DAYS_EMPLOYED']]"
   ]
  },
  {
   "cell_type": "markdown",
   "metadata": {},
   "source": [
    "### use linear model to fill nan value "
   ]
  },
  {
   "cell_type": "code",
   "execution_count": 18,
   "metadata": {},
   "outputs": [
    {
     "name": "stderr",
     "output_type": "stream",
     "text": [
      "/home/ec2-user/anaconda3/envs/python3/lib/python3.6/site-packages/ipykernel/__main__.py:3: SettingWithCopyWarning: \n",
      "A value is trying to be set on a copy of a slice from a DataFrame.\n",
      "Try using .loc[row_indexer,col_indexer] = value instead\n",
      "\n",
      "See the caveats in the documentation: https://pandas.pydata.org/pandas-docs/stable/user_guide/indexing.html#returning-a-view-versus-a-copy\n",
      "  app.launch_new_instance()\n"
     ]
    }
   ],
   "source": [
    "app['DAYS_EMPLOYED'] = app[['DAYS_BIRTH', 'DAYS_EMPLOYED']].apply(\n",
    "    lambda x :lm.predict(np.array([x['DAYS_BIRTH']]).reshape(1,-1))[0] \n",
    "    if pd.isna(x['DAYS_EMPLOYED']) else x[\"DAYS_EMPLOYED\"], axis=1)"
   ]
  },
  {
   "cell_type": "code",
   "execution_count": 19,
   "metadata": {},
   "outputs": [
    {
     "data": {
      "text/plain": [
       "0"
      ]
     },
     "execution_count": 19,
     "metadata": {},
     "output_type": "execute_result"
    }
   ],
   "source": [
    "app.DAYS_EMPLOYED.isna().sum()"
   ]
  },
  {
   "cell_type": "code",
   "execution_count": 20,
   "metadata": {
    "scrolled": true
   },
   "outputs": [
    {
     "data": {
      "text/html": [
       "<div>\n",
       "<style scoped>\n",
       "    .dataframe tbody tr th:only-of-type {\n",
       "        vertical-align: middle;\n",
       "    }\n",
       "\n",
       "    .dataframe tbody tr th {\n",
       "        vertical-align: top;\n",
       "    }\n",
       "\n",
       "    .dataframe thead th {\n",
       "        text-align: right;\n",
       "    }\n",
       "</style>\n",
       "<table border=\"1\" class=\"dataframe\">\n",
       "  <thead>\n",
       "    <tr style=\"text-align: right;\">\n",
       "      <th></th>\n",
       "      <th>DAYS_BIRTH</th>\n",
       "      <th>DAYS_EMPLOYED</th>\n",
       "    </tr>\n",
       "  </thead>\n",
       "  <tbody>\n",
       "    <tr>\n",
       "      <th>0</th>\n",
       "      <td>32.867899</td>\n",
       "      <td>12.435318</td>\n",
       "    </tr>\n",
       "    <tr>\n",
       "      <th>2</th>\n",
       "      <td>58.792608</td>\n",
       "      <td>3.104723</td>\n",
       "    </tr>\n",
       "    <tr>\n",
       "      <th>3</th>\n",
       "      <td>52.320329</td>\n",
       "      <td>8.353183</td>\n",
       "    </tr>\n",
       "    <tr>\n",
       "      <th>7</th>\n",
       "      <td>61.503080</td>\n",
       "      <td>11.568652</td>\n",
       "    </tr>\n",
       "    <tr>\n",
       "      <th>10</th>\n",
       "      <td>46.193018</td>\n",
       "      <td>2.105407</td>\n",
       "    </tr>\n",
       "  </tbody>\n",
       "</table>\n",
       "</div>"
      ],
      "text/plain": [
       "    DAYS_BIRTH  DAYS_EMPLOYED\n",
       "0    32.867899      12.435318\n",
       "2    58.792608       3.104723\n",
       "3    52.320329       8.353183\n",
       "7    61.503080      11.568652\n",
       "10   46.193018       2.105407"
      ]
     },
     "execution_count": 20,
     "metadata": {},
     "output_type": "execute_result"
    }
   ],
   "source": [
    "app[['DAYS_BIRTH', 'DAYS_EMPLOYED']].head()"
   ]
  },
  {
   "cell_type": "code",
   "execution_count": 21,
   "metadata": {},
   "outputs": [
    {
     "name": "stderr",
     "output_type": "stream",
     "text": [
      "/home/ec2-user/anaconda3/envs/python3/lib/python3.6/site-packages/pandas/core/frame.py:4133: SettingWithCopyWarning: \n",
      "A value is trying to be set on a copy of a slice from a DataFrame\n",
      "\n",
      "See the caveats in the documentation: https://pandas.pydata.org/pandas-docs/stable/user_guide/indexing.html#returning-a-view-versus-a-copy\n",
      "  errors=errors,\n"
     ]
    }
   ],
   "source": [
    "app.rename(columns={\n",
    "    'CODE_GENDER': 'gender',\n",
    "    'FLAG_OWN_CAR': 'car',\n",
    "    'FLAG_OWN_REALTY': 'realty',\n",
    "    'CNT_CHILDREN': 'num_of_children',\n",
    "    'AMT_INCOME_TOTAL': 'total_income',\n",
    "    'NAME_INCOME_TYPE': 'income_resource',\n",
    "    'NAME_EDUCATION_TYPE': 'edu_level',\n",
    "    'NAME_FAMILY_STATUS': 'family_status',\n",
    "    'NAME_HOUSING_TYPE': 'housing_type',\n",
    "    'DAYS_BIRTH': 'age',\n",
    "    'DAYS_EMPLOYED': 'employed_years',\n",
    "    'FLAG_MOBIL': 'mobile',\n",
    "    'FLAG_WORK_PHONE': 'work_phone',\n",
    "    'FLAG_PHONE':'phone',\n",
    "    'FLAG_EMAIL': 'email',\n",
    "    'OCCUPATION_TYPE':'occupation',\n",
    "    'CNT_FAM_MEMBERS': 'num_of_fam_member',\n",
    "}, inplace=True)"
   ]
  },
  {
   "cell_type": "code",
   "execution_count": 22,
   "metadata": {},
   "outputs": [
    {
     "name": "stderr",
     "output_type": "stream",
     "text": [
      "/home/ec2-user/anaconda3/envs/python3/lib/python3.6/site-packages/pandas/core/frame.py:3997: SettingWithCopyWarning: \n",
      "A value is trying to be set on a copy of a slice from a DataFrame\n",
      "\n",
      "See the caveats in the documentation: https://pandas.pydata.org/pandas-docs/stable/user_guide/indexing.html#returning-a-view-versus-a-copy\n",
      "  errors=errors,\n"
     ]
    }
   ],
   "source": [
    "app.drop(labels=['mobile'], axis=1, inplace=True)"
   ]
  },
  {
   "cell_type": "code",
   "execution_count": 23,
   "metadata": {},
   "outputs": [
    {
     "data": {
      "text/plain": [
       "ID                   0\n",
       "gender               0\n",
       "car                  0\n",
       "realty               0\n",
       "num_of_children      0\n",
       "total_income         0\n",
       "income_resource      0\n",
       "edu_level            0\n",
       "family_status        0\n",
       "housing_type         0\n",
       "age                  0\n",
       "employed_years       0\n",
       "work_phone           0\n",
       "phone                0\n",
       "email                0\n",
       "occupation           0\n",
       "num_of_fam_member    1\n",
       "dtype: int64"
      ]
     },
     "execution_count": 23,
     "metadata": {},
     "output_type": "execute_result"
    }
   ],
   "source": [
    "app.isna().sum()"
   ]
  },
  {
   "cell_type": "code",
   "execution_count": 24,
   "metadata": {},
   "outputs": [
    {
     "name": "stderr",
     "output_type": "stream",
     "text": [
      "/home/ec2-user/anaconda3/envs/python3/lib/python3.6/site-packages/pandas/core/generic.py:6245: SettingWithCopyWarning: \n",
      "A value is trying to be set on a copy of a slice from a DataFrame\n",
      "\n",
      "See the caveats in the documentation: https://pandas.pydata.org/pandas-docs/stable/user_guide/indexing.html#returning-a-view-versus-a-copy\n",
      "  self._update_inplace(new_data)\n"
     ]
    }
   ],
   "source": [
    "app.num_of_fam_member.fillna(value=app.num_of_fam_member.mean(), inplace=True)"
   ]
  },
  {
   "cell_type": "code",
   "execution_count": 25,
   "metadata": {},
   "outputs": [
    {
     "data": {
      "text/html": [
       "<div>\n",
       "<style scoped>\n",
       "    .dataframe tbody tr th:only-of-type {\n",
       "        vertical-align: middle;\n",
       "    }\n",
       "\n",
       "    .dataframe tbody tr th {\n",
       "        vertical-align: top;\n",
       "    }\n",
       "\n",
       "    .dataframe thead th {\n",
       "        text-align: right;\n",
       "    }\n",
       "</style>\n",
       "<table border=\"1\" class=\"dataframe\">\n",
       "  <thead>\n",
       "    <tr style=\"text-align: right;\">\n",
       "      <th></th>\n",
       "      <th>num_of_children</th>\n",
       "      <th>total_income</th>\n",
       "      <th>age</th>\n",
       "      <th>employed_years</th>\n",
       "      <th>work_phone</th>\n",
       "      <th>phone</th>\n",
       "      <th>email</th>\n",
       "      <th>num_of_fam_member</th>\n",
       "    </tr>\n",
       "  </thead>\n",
       "  <tbody>\n",
       "    <tr>\n",
       "      <th>count</th>\n",
       "      <td>20468.000000</td>\n",
       "      <td>2.046800e+04</td>\n",
       "      <td>20468.000000</td>\n",
       "      <td>20468.000000</td>\n",
       "      <td>20468.000000</td>\n",
       "      <td>20468.000000</td>\n",
       "      <td>20468.000000</td>\n",
       "      <td>20468.000000</td>\n",
       "    </tr>\n",
       "    <tr>\n",
       "      <th>mean</th>\n",
       "      <td>0.425151</td>\n",
       "      <td>1.781549e+05</td>\n",
       "      <td>43.760249</td>\n",
       "      <td>7.531406</td>\n",
       "      <td>0.212673</td>\n",
       "      <td>0.287766</td>\n",
       "      <td>0.081102</td>\n",
       "      <td>2.181121</td>\n",
       "    </tr>\n",
       "    <tr>\n",
       "      <th>std</th>\n",
       "      <td>0.748358</td>\n",
       "      <td>9.888942e+04</td>\n",
       "      <td>11.712675</td>\n",
       "      <td>5.997904</td>\n",
       "      <td>0.409209</td>\n",
       "      <td>0.452733</td>\n",
       "      <td>0.272999</td>\n",
       "      <td>0.922660</td>\n",
       "    </tr>\n",
       "    <tr>\n",
       "      <th>min</th>\n",
       "      <td>0.000000</td>\n",
       "      <td>2.700000e+04</td>\n",
       "      <td>20.503765</td>\n",
       "      <td>0.043806</td>\n",
       "      <td>0.000000</td>\n",
       "      <td>0.000000</td>\n",
       "      <td>0.000000</td>\n",
       "      <td>1.000000</td>\n",
       "    </tr>\n",
       "    <tr>\n",
       "      <th>25%</th>\n",
       "      <td>0.000000</td>\n",
       "      <td>1.125000e+05</td>\n",
       "      <td>33.902122</td>\n",
       "      <td>2.767967</td>\n",
       "      <td>0.000000</td>\n",
       "      <td>0.000000</td>\n",
       "      <td>0.000000</td>\n",
       "      <td>2.000000</td>\n",
       "    </tr>\n",
       "    <tr>\n",
       "      <th>50%</th>\n",
       "      <td>0.000000</td>\n",
       "      <td>1.575000e+05</td>\n",
       "      <td>42.647502</td>\n",
       "      <td>6.433949</td>\n",
       "      <td>0.000000</td>\n",
       "      <td>0.000000</td>\n",
       "      <td>0.000000</td>\n",
       "      <td>2.000000</td>\n",
       "    </tr>\n",
       "    <tr>\n",
       "      <th>75%</th>\n",
       "      <td>1.000000</td>\n",
       "      <td>2.250000e+05</td>\n",
       "      <td>53.572895</td>\n",
       "      <td>11.071049</td>\n",
       "      <td>0.000000</td>\n",
       "      <td>1.000000</td>\n",
       "      <td>0.000000</td>\n",
       "      <td>3.000000</td>\n",
       "    </tr>\n",
       "    <tr>\n",
       "      <th>max</th>\n",
       "      <td>19.000000</td>\n",
       "      <td>3.825000e+06</td>\n",
       "      <td>68.996578</td>\n",
       "      <td>44.804928</td>\n",
       "      <td>1.000000</td>\n",
       "      <td>1.000000</td>\n",
       "      <td>1.000000</td>\n",
       "      <td>20.000000</td>\n",
       "    </tr>\n",
       "  </tbody>\n",
       "</table>\n",
       "</div>"
      ],
      "text/plain": [
       "       num_of_children  total_income           age  employed_years  \\\n",
       "count     20468.000000  2.046800e+04  20468.000000    20468.000000   \n",
       "mean          0.425151  1.781549e+05     43.760249        7.531406   \n",
       "std           0.748358  9.888942e+04     11.712675        5.997904   \n",
       "min           0.000000  2.700000e+04     20.503765        0.043806   \n",
       "25%           0.000000  1.125000e+05     33.902122        2.767967   \n",
       "50%           0.000000  1.575000e+05     42.647502        6.433949   \n",
       "75%           1.000000  2.250000e+05     53.572895       11.071049   \n",
       "max          19.000000  3.825000e+06     68.996578       44.804928   \n",
       "\n",
       "         work_phone         phone         email  num_of_fam_member  \n",
       "count  20468.000000  20468.000000  20468.000000       20468.000000  \n",
       "mean       0.212673      0.287766      0.081102           2.181121  \n",
       "std        0.409209      0.452733      0.272999           0.922660  \n",
       "min        0.000000      0.000000      0.000000           1.000000  \n",
       "25%        0.000000      0.000000      0.000000           2.000000  \n",
       "50%        0.000000      0.000000      0.000000           2.000000  \n",
       "75%        0.000000      1.000000      0.000000           3.000000  \n",
       "max        1.000000      1.000000      1.000000          20.000000  "
      ]
     },
     "execution_count": 25,
     "metadata": {},
     "output_type": "execute_result"
    }
   ],
   "source": [
    "app.describe().drop('ID', axis=1)"
   ]
  },
  {
   "cell_type": "markdown",
   "metadata": {},
   "source": [
    "#### based on min and max value of describe df above , we found that some outlier are in chilren, emplyed_days and family member column"
   ]
  },
  {
   "cell_type": "code",
   "execution_count": 26,
   "metadata": {},
   "outputs": [
    {
     "data": {
      "text/plain": [
       "0.596851     26\n",
       "1.177276     25\n",
       "1.259411     23\n",
       "0.681725     21\n",
       "0.632444     20\n",
       "             ..\n",
       "16.112252     1\n",
       "11.640918     1\n",
       "12.580424     1\n",
       "22.047912     1\n",
       "12.495642     1\n",
       "Name: employed_years, Length: 8254, dtype: int64"
      ]
     },
     "execution_count": 26,
     "metadata": {},
     "output_type": "execute_result"
    }
   ],
   "source": [
    "app.employed_years.value_counts()"
   ]
  },
  {
   "cell_type": "code",
   "execution_count": 27,
   "metadata": {},
   "outputs": [
    {
     "data": {
      "text/plain": [
       "0     14312\n",
       "1      4002\n",
       "2      1849\n",
       "3       260\n",
       "4        32\n",
       "5         9\n",
       "14        1\n",
       "9         1\n",
       "7         1\n",
       "19        1\n",
       "Name: num_of_children, dtype: int64"
      ]
     },
     "execution_count": 27,
     "metadata": {},
     "output_type": "execute_result"
    }
   ],
   "source": [
    "app.num_of_children.value_counts()"
   ]
  },
  {
   "cell_type": "code",
   "execution_count": 28,
   "metadata": {},
   "outputs": [
    {
     "data": {
      "text/plain": [
       "2.000000     10785\n",
       "1.000000      4179\n",
       "3.000000      3490\n",
       "4.000000      1726\n",
       "5.000000       243\n",
       "6.000000        32\n",
       "7.000000         8\n",
       "2.181121         1\n",
       "15.000000        1\n",
       "20.000000        1\n",
       "11.000000        1\n",
       "9.000000         1\n",
       "Name: num_of_fam_member, dtype: int64"
      ]
     },
     "execution_count": 28,
     "metadata": {},
     "output_type": "execute_result"
    }
   ],
   "source": [
    "app.num_of_fam_member.value_counts()"
   ]
  },
  {
   "cell_type": "code",
   "execution_count": 29,
   "metadata": {},
   "outputs": [],
   "source": [
    "app_new = app[(app.employed_years<100)&(app.num_of_children<10)]"
   ]
  },
  {
   "cell_type": "code",
   "execution_count": 30,
   "metadata": {},
   "outputs": [
    {
     "name": "stderr",
     "output_type": "stream",
     "text": [
      "/home/ec2-user/anaconda3/envs/python3/lib/python3.6/site-packages/ipykernel/__main__.py:1: SettingWithCopyWarning: \n",
      "A value is trying to be set on a copy of a slice from a DataFrame.\n",
      "Try using .loc[row_indexer,col_indexer] = value instead\n",
      "\n",
      "See the caveats in the documentation: https://pandas.pydata.org/pandas-docs/stable/user_guide/indexing.html#returning-a-view-versus-a-copy\n",
      "  if __name__ == '__main__':\n"
     ]
    }
   ],
   "source": [
    "app_new['num_of_fam_member']=app_new.num_of_fam_member.astype('int')"
   ]
  },
  {
   "cell_type": "code",
   "execution_count": 31,
   "metadata": {},
   "outputs": [
    {
     "data": {
      "text/html": [
       "<div>\n",
       "<style scoped>\n",
       "    .dataframe tbody tr th:only-of-type {\n",
       "        vertical-align: middle;\n",
       "    }\n",
       "\n",
       "    .dataframe tbody tr th {\n",
       "        vertical-align: top;\n",
       "    }\n",
       "\n",
       "    .dataframe thead th {\n",
       "        text-align: right;\n",
       "    }\n",
       "</style>\n",
       "<table border=\"1\" class=\"dataframe\">\n",
       "  <thead>\n",
       "    <tr style=\"text-align: right;\">\n",
       "      <th></th>\n",
       "      <th>ID</th>\n",
       "      <th>gender</th>\n",
       "      <th>car</th>\n",
       "      <th>realty</th>\n",
       "      <th>num_of_children</th>\n",
       "      <th>total_income</th>\n",
       "      <th>income_resource</th>\n",
       "      <th>edu_level</th>\n",
       "      <th>family_status</th>\n",
       "      <th>housing_type</th>\n",
       "      <th>age</th>\n",
       "      <th>employed_years</th>\n",
       "      <th>work_phone</th>\n",
       "      <th>phone</th>\n",
       "      <th>email</th>\n",
       "      <th>occupation</th>\n",
       "      <th>num_of_fam_member</th>\n",
       "    </tr>\n",
       "  </thead>\n",
       "  <tbody>\n",
       "    <tr>\n",
       "      <th>0</th>\n",
       "      <td>5008804</td>\n",
       "      <td>M</td>\n",
       "      <td>Y</td>\n",
       "      <td>Y</td>\n",
       "      <td>0</td>\n",
       "      <td>427500.0</td>\n",
       "      <td>Working</td>\n",
       "      <td>Higher education</td>\n",
       "      <td>Civil marriage</td>\n",
       "      <td>Rented apartment</td>\n",
       "      <td>32.867899</td>\n",
       "      <td>12.435318</td>\n",
       "      <td>1</td>\n",
       "      <td>0</td>\n",
       "      <td>0</td>\n",
       "      <td>Unknown</td>\n",
       "      <td>2</td>\n",
       "    </tr>\n",
       "    <tr>\n",
       "      <th>2</th>\n",
       "      <td>5008806</td>\n",
       "      <td>M</td>\n",
       "      <td>Y</td>\n",
       "      <td>Y</td>\n",
       "      <td>0</td>\n",
       "      <td>112500.0</td>\n",
       "      <td>Working</td>\n",
       "      <td>Secondary / secondary special</td>\n",
       "      <td>Married</td>\n",
       "      <td>House / apartment</td>\n",
       "      <td>58.792608</td>\n",
       "      <td>3.104723</td>\n",
       "      <td>0</td>\n",
       "      <td>0</td>\n",
       "      <td>0</td>\n",
       "      <td>Security staff</td>\n",
       "      <td>2</td>\n",
       "    </tr>\n",
       "    <tr>\n",
       "      <th>3</th>\n",
       "      <td>5008808</td>\n",
       "      <td>F</td>\n",
       "      <td>N</td>\n",
       "      <td>Y</td>\n",
       "      <td>0</td>\n",
       "      <td>270000.0</td>\n",
       "      <td>Commercial associate</td>\n",
       "      <td>Secondary / secondary special</td>\n",
       "      <td>Single / not married</td>\n",
       "      <td>House / apartment</td>\n",
       "      <td>52.320329</td>\n",
       "      <td>8.353183</td>\n",
       "      <td>0</td>\n",
       "      <td>1</td>\n",
       "      <td>1</td>\n",
       "      <td>Sales staff</td>\n",
       "      <td>1</td>\n",
       "    </tr>\n",
       "    <tr>\n",
       "      <th>7</th>\n",
       "      <td>5008812</td>\n",
       "      <td>F</td>\n",
       "      <td>N</td>\n",
       "      <td>Y</td>\n",
       "      <td>0</td>\n",
       "      <td>283500.0</td>\n",
       "      <td>Pensioner</td>\n",
       "      <td>Higher education</td>\n",
       "      <td>Separated</td>\n",
       "      <td>House / apartment</td>\n",
       "      <td>61.503080</td>\n",
       "      <td>11.568652</td>\n",
       "      <td>0</td>\n",
       "      <td>0</td>\n",
       "      <td>0</td>\n",
       "      <td>Unknown</td>\n",
       "      <td>1</td>\n",
       "    </tr>\n",
       "    <tr>\n",
       "      <th>10</th>\n",
       "      <td>5008815</td>\n",
       "      <td>M</td>\n",
       "      <td>Y</td>\n",
       "      <td>Y</td>\n",
       "      <td>0</td>\n",
       "      <td>270000.0</td>\n",
       "      <td>Working</td>\n",
       "      <td>Higher education</td>\n",
       "      <td>Married</td>\n",
       "      <td>House / apartment</td>\n",
       "      <td>46.193018</td>\n",
       "      <td>2.105407</td>\n",
       "      <td>1</td>\n",
       "      <td>1</td>\n",
       "      <td>1</td>\n",
       "      <td>Accountants</td>\n",
       "      <td>2</td>\n",
       "    </tr>\n",
       "    <tr>\n",
       "      <th>...</th>\n",
       "      <td>...</td>\n",
       "      <td>...</td>\n",
       "      <td>...</td>\n",
       "      <td>...</td>\n",
       "      <td>...</td>\n",
       "      <td>...</td>\n",
       "      <td>...</td>\n",
       "      <td>...</td>\n",
       "      <td>...</td>\n",
       "      <td>...</td>\n",
       "      <td>...</td>\n",
       "      <td>...</td>\n",
       "      <td>...</td>\n",
       "      <td>...</td>\n",
       "      <td>...</td>\n",
       "      <td>...</td>\n",
       "      <td>...</td>\n",
       "    </tr>\n",
       "    <tr>\n",
       "      <th>101646</th>\n",
       "      <td>5417226</td>\n",
       "      <td>F</td>\n",
       "      <td>N</td>\n",
       "      <td>Y</td>\n",
       "      <td>0</td>\n",
       "      <td>148500.0</td>\n",
       "      <td>Working</td>\n",
       "      <td>Secondary / secondary special</td>\n",
       "      <td>Civil marriage</td>\n",
       "      <td>House / apartment</td>\n",
       "      <td>48.958248</td>\n",
       "      <td>2.409309</td>\n",
       "      <td>0</td>\n",
       "      <td>0</td>\n",
       "      <td>0</td>\n",
       "      <td>Sales staff</td>\n",
       "      <td>2</td>\n",
       "    </tr>\n",
       "    <tr>\n",
       "      <th>101650</th>\n",
       "      <td>5417230</td>\n",
       "      <td>M</td>\n",
       "      <td>Y</td>\n",
       "      <td>Y</td>\n",
       "      <td>1</td>\n",
       "      <td>180000.0</td>\n",
       "      <td>Working</td>\n",
       "      <td>Higher education</td>\n",
       "      <td>Married</td>\n",
       "      <td>House / apartment</td>\n",
       "      <td>54.258727</td>\n",
       "      <td>28.495551</td>\n",
       "      <td>0</td>\n",
       "      <td>0</td>\n",
       "      <td>0</td>\n",
       "      <td>Unknown</td>\n",
       "      <td>3</td>\n",
       "    </tr>\n",
       "    <tr>\n",
       "      <th>101653</th>\n",
       "      <td>5417233</td>\n",
       "      <td>M</td>\n",
       "      <td>Y</td>\n",
       "      <td>Y</td>\n",
       "      <td>0</td>\n",
       "      <td>225000.0</td>\n",
       "      <td>Working</td>\n",
       "      <td>Secondary / secondary special</td>\n",
       "      <td>Single / not married</td>\n",
       "      <td>House / apartment</td>\n",
       "      <td>34.464066</td>\n",
       "      <td>2.746064</td>\n",
       "      <td>1</td>\n",
       "      <td>0</td>\n",
       "      <td>0</td>\n",
       "      <td>Drivers</td>\n",
       "      <td>1</td>\n",
       "    </tr>\n",
       "    <tr>\n",
       "      <th>101656</th>\n",
       "      <td>5417236</td>\n",
       "      <td>F</td>\n",
       "      <td>N</td>\n",
       "      <td>Y</td>\n",
       "      <td>0</td>\n",
       "      <td>270000.0</td>\n",
       "      <td>Working</td>\n",
       "      <td>Secondary / secondary special</td>\n",
       "      <td>Separated</td>\n",
       "      <td>House / apartment</td>\n",
       "      <td>56.169747</td>\n",
       "      <td>7.748118</td>\n",
       "      <td>0</td>\n",
       "      <td>1</td>\n",
       "      <td>0</td>\n",
       "      <td>Laborers</td>\n",
       "      <td>1</td>\n",
       "    </tr>\n",
       "    <tr>\n",
       "      <th>101657</th>\n",
       "      <td>5417237</td>\n",
       "      <td>F</td>\n",
       "      <td>N</td>\n",
       "      <td>Y</td>\n",
       "      <td>0</td>\n",
       "      <td>270000.0</td>\n",
       "      <td>Working</td>\n",
       "      <td>Secondary / secondary special</td>\n",
       "      <td>Separated</td>\n",
       "      <td>House / apartment</td>\n",
       "      <td>56.169747</td>\n",
       "      <td>7.748118</td>\n",
       "      <td>0</td>\n",
       "      <td>1</td>\n",
       "      <td>0</td>\n",
       "      <td>Lab</td>\n",
       "      <td>2</td>\n",
       "    </tr>\n",
       "  </tbody>\n",
       "</table>\n",
       "<p>20466 rows × 17 columns</p>\n",
       "</div>"
      ],
      "text/plain": [
       "             ID gender car realty  num_of_children  total_income  \\\n",
       "0       5008804      M   Y      Y                0      427500.0   \n",
       "2       5008806      M   Y      Y                0      112500.0   \n",
       "3       5008808      F   N      Y                0      270000.0   \n",
       "7       5008812      F   N      Y                0      283500.0   \n",
       "10      5008815      M   Y      Y                0      270000.0   \n",
       "...         ...    ...  ..    ...              ...           ...   \n",
       "101646  5417226      F   N      Y                0      148500.0   \n",
       "101650  5417230      M   Y      Y                1      180000.0   \n",
       "101653  5417233      M   Y      Y                0      225000.0   \n",
       "101656  5417236      F   N      Y                0      270000.0   \n",
       "101657  5417237      F   N      Y                0      270000.0   \n",
       "\n",
       "             income_resource                      edu_level  \\\n",
       "0                    Working               Higher education   \n",
       "2                    Working  Secondary / secondary special   \n",
       "3       Commercial associate  Secondary / secondary special   \n",
       "7                  Pensioner               Higher education   \n",
       "10                   Working               Higher education   \n",
       "...                      ...                            ...   \n",
       "101646               Working  Secondary / secondary special   \n",
       "101650               Working               Higher education   \n",
       "101653               Working  Secondary / secondary special   \n",
       "101656               Working  Secondary / secondary special   \n",
       "101657               Working  Secondary / secondary special   \n",
       "\n",
       "               family_status       housing_type        age  employed_years  \\\n",
       "0             Civil marriage   Rented apartment  32.867899       12.435318   \n",
       "2                    Married  House / apartment  58.792608        3.104723   \n",
       "3       Single / not married  House / apartment  52.320329        8.353183   \n",
       "7                  Separated  House / apartment  61.503080       11.568652   \n",
       "10                   Married  House / apartment  46.193018        2.105407   \n",
       "...                      ...                ...        ...             ...   \n",
       "101646        Civil marriage  House / apartment  48.958248        2.409309   \n",
       "101650               Married  House / apartment  54.258727       28.495551   \n",
       "101653  Single / not married  House / apartment  34.464066        2.746064   \n",
       "101656             Separated  House / apartment  56.169747        7.748118   \n",
       "101657             Separated  House / apartment  56.169747        7.748118   \n",
       "\n",
       "        work_phone  phone  email      occupation  num_of_fam_member  \n",
       "0                1      0      0         Unknown                  2  \n",
       "2                0      0      0  Security staff                  2  \n",
       "3                0      1      1     Sales staff                  1  \n",
       "7                0      0      0         Unknown                  1  \n",
       "10               1      1      1     Accountants                  2  \n",
       "...            ...    ...    ...             ...                ...  \n",
       "101646           0      0      0     Sales staff                  2  \n",
       "101650           0      0      0         Unknown                  3  \n",
       "101653           1      0      0         Drivers                  1  \n",
       "101656           0      1      0        Laborers                  1  \n",
       "101657           0      1      0             Lab                  2  \n",
       "\n",
       "[20466 rows x 17 columns]"
      ]
     },
     "execution_count": 31,
     "metadata": {},
     "output_type": "execute_result"
    }
   ],
   "source": [
    "app_new"
   ]
  },
  {
   "cell_type": "markdown",
   "metadata": {},
   "source": [
    "### table 2 data preprocess"
   ]
  },
  {
   "cell_type": "code",
   "execution_count": 32,
   "metadata": {},
   "outputs": [
    {
     "data": {
      "text/html": [
       "<div>\n",
       "<style scoped>\n",
       "    .dataframe tbody tr th:only-of-type {\n",
       "        vertical-align: middle;\n",
       "    }\n",
       "\n",
       "    .dataframe tbody tr th {\n",
       "        vertical-align: top;\n",
       "    }\n",
       "\n",
       "    .dataframe thead th {\n",
       "        text-align: right;\n",
       "    }\n",
       "</style>\n",
       "<table border=\"1\" class=\"dataframe\">\n",
       "  <thead>\n",
       "    <tr style=\"text-align: right;\">\n",
       "      <th></th>\n",
       "      <th>ID</th>\n",
       "      <th>MONTHS_BALANCE</th>\n",
       "    </tr>\n",
       "  </thead>\n",
       "  <tbody>\n",
       "    <tr>\n",
       "      <th>count</th>\n",
       "      <td>1.001730e+06</td>\n",
       "      <td>1.001730e+06</td>\n",
       "    </tr>\n",
       "    <tr>\n",
       "      <th>mean</th>\n",
       "      <td>5.064549e+06</td>\n",
       "      <td>-1.912650e+01</td>\n",
       "    </tr>\n",
       "    <tr>\n",
       "      <th>std</th>\n",
       "      <td>4.377899e+04</td>\n",
       "      <td>1.402844e+01</td>\n",
       "    </tr>\n",
       "    <tr>\n",
       "      <th>min</th>\n",
       "      <td>5.001711e+06</td>\n",
       "      <td>-6.000000e+01</td>\n",
       "    </tr>\n",
       "    <tr>\n",
       "      <th>25%</th>\n",
       "      <td>5.022932e+06</td>\n",
       "      <td>-2.900000e+01</td>\n",
       "    </tr>\n",
       "    <tr>\n",
       "      <th>50%</th>\n",
       "      <td>5.061029e+06</td>\n",
       "      <td>-1.700000e+01</td>\n",
       "    </tr>\n",
       "    <tr>\n",
       "      <th>75%</th>\n",
       "      <td>5.105551e+06</td>\n",
       "      <td>-7.000000e+00</td>\n",
       "    </tr>\n",
       "    <tr>\n",
       "      <th>max</th>\n",
       "      <td>5.143536e+06</td>\n",
       "      <td>0.000000e+00</td>\n",
       "    </tr>\n",
       "  </tbody>\n",
       "</table>\n",
       "</div>"
      ],
      "text/plain": [
       "                 ID  MONTHS_BALANCE\n",
       "count  1.001730e+06    1.001730e+06\n",
       "mean   5.064549e+06   -1.912650e+01\n",
       "std    4.377899e+04    1.402844e+01\n",
       "min    5.001711e+06   -6.000000e+01\n",
       "25%    5.022932e+06   -2.900000e+01\n",
       "50%    5.061029e+06   -1.700000e+01\n",
       "75%    5.105551e+06   -7.000000e+00\n",
       "max    5.143536e+06    0.000000e+00"
      ]
     },
     "execution_count": 32,
     "metadata": {},
     "output_type": "execute_result"
    }
   ],
   "source": [
    "credit.describe()"
   ]
  },
  {
   "cell_type": "code",
   "execution_count": 33,
   "metadata": {},
   "outputs": [
    {
     "name": "stdout",
     "output_type": "stream",
     "text": [
      "<class 'pandas.core.frame.DataFrame'>\n",
      "RangeIndex: 1001730 entries, 0 to 1001729\n",
      "Data columns (total 3 columns):\n",
      " #   Column          Non-Null Count    Dtype \n",
      "---  ------          --------------    ----- \n",
      " 0   ID              1001730 non-null  int64 \n",
      " 1   MONTHS_BALANCE  1001730 non-null  int64 \n",
      " 2   STATUS          1001730 non-null  object\n",
      "dtypes: int64(2), object(1)\n",
      "memory usage: 22.9+ MB\n"
     ]
    }
   ],
   "source": [
    "credit.info()"
   ]
  },
  {
   "cell_type": "markdown",
   "metadata": {},
   "source": [
    "### looks like there is no outlier value. We seperate the potential applicants of high and low risk by STATUS == 3 that the customers did not pay credit card bill after 3 months later of the due day. we can ignore the month feature and only reference the status feature"
   ]
  },
  {
   "cell_type": "code",
   "execution_count": 34,
   "metadata": {},
   "outputs": [],
   "source": [
    "# credit['STATUS'] = credit.STATUS.apply(lambda x : 0 if x in ('X' 'C'))\n",
    "credit.STATUS.replace('X', 0, inplace=True)\n",
    "credit.STATUS.replace('C', 0, inplace=True)\n",
    "\n",
    "credit['STATUS'] = credit.STATUS.astype('int')\n",
    "credit_record = credit.groupby('ID').STATUS.max()"
   ]
  },
  {
   "cell_type": "code",
   "execution_count": 35,
   "metadata": {},
   "outputs": [],
   "source": [
    "df = app_new.merge(credit_record, how='inner', on='ID')"
   ]
  },
  {
   "cell_type": "code",
   "execution_count": 36,
   "metadata": {},
   "outputs": [
    {
     "data": {
      "text/html": [
       "<div>\n",
       "<style scoped>\n",
       "    .dataframe tbody tr th:only-of-type {\n",
       "        vertical-align: middle;\n",
       "    }\n",
       "\n",
       "    .dataframe tbody tr th {\n",
       "        vertical-align: top;\n",
       "    }\n",
       "\n",
       "    .dataframe thead th {\n",
       "        text-align: right;\n",
       "    }\n",
       "</style>\n",
       "<table border=\"1\" class=\"dataframe\">\n",
       "  <thead>\n",
       "    <tr style=\"text-align: right;\">\n",
       "      <th></th>\n",
       "      <th>ID</th>\n",
       "      <th>gender</th>\n",
       "      <th>car</th>\n",
       "      <th>realty</th>\n",
       "      <th>num_of_children</th>\n",
       "      <th>total_income</th>\n",
       "      <th>income_resource</th>\n",
       "      <th>edu_level</th>\n",
       "      <th>family_status</th>\n",
       "      <th>housing_type</th>\n",
       "      <th>age</th>\n",
       "      <th>employed_years</th>\n",
       "      <th>work_phone</th>\n",
       "      <th>phone</th>\n",
       "      <th>email</th>\n",
       "      <th>occupation</th>\n",
       "      <th>num_of_fam_member</th>\n",
       "      <th>STATUS</th>\n",
       "    </tr>\n",
       "  </thead>\n",
       "  <tbody>\n",
       "    <tr>\n",
       "      <th>0</th>\n",
       "      <td>5008804</td>\n",
       "      <td>M</td>\n",
       "      <td>Y</td>\n",
       "      <td>Y</td>\n",
       "      <td>0</td>\n",
       "      <td>427500.0</td>\n",
       "      <td>Working</td>\n",
       "      <td>Higher education</td>\n",
       "      <td>Civil marriage</td>\n",
       "      <td>Rented apartment</td>\n",
       "      <td>32.867899</td>\n",
       "      <td>12.435318</td>\n",
       "      <td>1</td>\n",
       "      <td>0</td>\n",
       "      <td>0</td>\n",
       "      <td>Unknown</td>\n",
       "      <td>2</td>\n",
       "      <td>1</td>\n",
       "    </tr>\n",
       "    <tr>\n",
       "      <th>1</th>\n",
       "      <td>5008806</td>\n",
       "      <td>M</td>\n",
       "      <td>Y</td>\n",
       "      <td>Y</td>\n",
       "      <td>0</td>\n",
       "      <td>112500.0</td>\n",
       "      <td>Working</td>\n",
       "      <td>Secondary / secondary special</td>\n",
       "      <td>Married</td>\n",
       "      <td>House / apartment</td>\n",
       "      <td>58.792608</td>\n",
       "      <td>3.104723</td>\n",
       "      <td>0</td>\n",
       "      <td>0</td>\n",
       "      <td>0</td>\n",
       "      <td>Security staff</td>\n",
       "      <td>2</td>\n",
       "      <td>0</td>\n",
       "    </tr>\n",
       "    <tr>\n",
       "      <th>2</th>\n",
       "      <td>5008808</td>\n",
       "      <td>F</td>\n",
       "      <td>N</td>\n",
       "      <td>Y</td>\n",
       "      <td>0</td>\n",
       "      <td>270000.0</td>\n",
       "      <td>Commercial associate</td>\n",
       "      <td>Secondary / secondary special</td>\n",
       "      <td>Single / not married</td>\n",
       "      <td>House / apartment</td>\n",
       "      <td>52.320329</td>\n",
       "      <td>8.353183</td>\n",
       "      <td>0</td>\n",
       "      <td>1</td>\n",
       "      <td>1</td>\n",
       "      <td>Sales staff</td>\n",
       "      <td>1</td>\n",
       "      <td>0</td>\n",
       "    </tr>\n",
       "    <tr>\n",
       "      <th>3</th>\n",
       "      <td>5008812</td>\n",
       "      <td>F</td>\n",
       "      <td>N</td>\n",
       "      <td>Y</td>\n",
       "      <td>0</td>\n",
       "      <td>283500.0</td>\n",
       "      <td>Pensioner</td>\n",
       "      <td>Higher education</td>\n",
       "      <td>Separated</td>\n",
       "      <td>House / apartment</td>\n",
       "      <td>61.503080</td>\n",
       "      <td>11.568652</td>\n",
       "      <td>0</td>\n",
       "      <td>0</td>\n",
       "      <td>0</td>\n",
       "      <td>Unknown</td>\n",
       "      <td>1</td>\n",
       "      <td>0</td>\n",
       "    </tr>\n",
       "    <tr>\n",
       "      <th>4</th>\n",
       "      <td>5008815</td>\n",
       "      <td>M</td>\n",
       "      <td>Y</td>\n",
       "      <td>Y</td>\n",
       "      <td>0</td>\n",
       "      <td>270000.0</td>\n",
       "      <td>Working</td>\n",
       "      <td>Higher education</td>\n",
       "      <td>Married</td>\n",
       "      <td>House / apartment</td>\n",
       "      <td>46.193018</td>\n",
       "      <td>2.105407</td>\n",
       "      <td>1</td>\n",
       "      <td>1</td>\n",
       "      <td>1</td>\n",
       "      <td>Accountants</td>\n",
       "      <td>2</td>\n",
       "      <td>0</td>\n",
       "    </tr>\n",
       "    <tr>\n",
       "      <th>5</th>\n",
       "      <td>5008819</td>\n",
       "      <td>M</td>\n",
       "      <td>Y</td>\n",
       "      <td>Y</td>\n",
       "      <td>0</td>\n",
       "      <td>135000.0</td>\n",
       "      <td>Commercial associate</td>\n",
       "      <td>Secondary / secondary special</td>\n",
       "      <td>Married</td>\n",
       "      <td>House / apartment</td>\n",
       "      <td>48.673511</td>\n",
       "      <td>3.268994</td>\n",
       "      <td>0</td>\n",
       "      <td>0</td>\n",
       "      <td>0</td>\n",
       "      <td>Laborers</td>\n",
       "      <td>2</td>\n",
       "      <td>0</td>\n",
       "    </tr>\n",
       "    <tr>\n",
       "      <th>6</th>\n",
       "      <td>5008825</td>\n",
       "      <td>F</td>\n",
       "      <td>Y</td>\n",
       "      <td>N</td>\n",
       "      <td>0</td>\n",
       "      <td>130500.0</td>\n",
       "      <td>Working</td>\n",
       "      <td>Incomplete higher</td>\n",
       "      <td>Married</td>\n",
       "      <td>House / apartment</td>\n",
       "      <td>29.210130</td>\n",
       "      <td>3.019849</td>\n",
       "      <td>0</td>\n",
       "      <td>0</td>\n",
       "      <td>0</td>\n",
       "      <td>Accountants</td>\n",
       "      <td>2</td>\n",
       "      <td>1</td>\n",
       "    </tr>\n",
       "    <tr>\n",
       "      <th>7</th>\n",
       "      <td>5008830</td>\n",
       "      <td>F</td>\n",
       "      <td>N</td>\n",
       "      <td>Y</td>\n",
       "      <td>0</td>\n",
       "      <td>157500.0</td>\n",
       "      <td>Working</td>\n",
       "      <td>Secondary / secondary special</td>\n",
       "      <td>Married</td>\n",
       "      <td>House / apartment</td>\n",
       "      <td>27.463381</td>\n",
       "      <td>4.021903</td>\n",
       "      <td>0</td>\n",
       "      <td>1</td>\n",
       "      <td>0</td>\n",
       "      <td>Laborers</td>\n",
       "      <td>2</td>\n",
       "      <td>1</td>\n",
       "    </tr>\n",
       "    <tr>\n",
       "      <th>8</th>\n",
       "      <td>5008834</td>\n",
       "      <td>F</td>\n",
       "      <td>N</td>\n",
       "      <td>Y</td>\n",
       "      <td>1</td>\n",
       "      <td>112500.0</td>\n",
       "      <td>Working</td>\n",
       "      <td>Secondary / secondary special</td>\n",
       "      <td>Single / not married</td>\n",
       "      <td>House / apartment</td>\n",
       "      <td>30.028747</td>\n",
       "      <td>4.435318</td>\n",
       "      <td>0</td>\n",
       "      <td>0</td>\n",
       "      <td>0</td>\n",
       "      <td>Unknown</td>\n",
       "      <td>2</td>\n",
       "      <td>0</td>\n",
       "    </tr>\n",
       "    <tr>\n",
       "      <th>9</th>\n",
       "      <td>5008836</td>\n",
       "      <td>M</td>\n",
       "      <td>Y</td>\n",
       "      <td>Y</td>\n",
       "      <td>3</td>\n",
       "      <td>270000.0</td>\n",
       "      <td>Working</td>\n",
       "      <td>Secondary / secondary special</td>\n",
       "      <td>Married</td>\n",
       "      <td>House / apartment</td>\n",
       "      <td>34.740589</td>\n",
       "      <td>3.184120</td>\n",
       "      <td>0</td>\n",
       "      <td>0</td>\n",
       "      <td>0</td>\n",
       "      <td>Laborers</td>\n",
       "      <td>5</td>\n",
       "      <td>0</td>\n",
       "    </tr>\n",
       "    <tr>\n",
       "      <th>10</th>\n",
       "      <td>5008838</td>\n",
       "      <td>M</td>\n",
       "      <td>N</td>\n",
       "      <td>Y</td>\n",
       "      <td>1</td>\n",
       "      <td>405000.0</td>\n",
       "      <td>Commercial associate</td>\n",
       "      <td>Higher education</td>\n",
       "      <td>Married</td>\n",
       "      <td>House / apartment</td>\n",
       "      <td>32.421629</td>\n",
       "      <td>5.519507</td>\n",
       "      <td>0</td>\n",
       "      <td>0</td>\n",
       "      <td>0</td>\n",
       "      <td>Managers</td>\n",
       "      <td>3</td>\n",
       "      <td>0</td>\n",
       "    </tr>\n",
       "    <tr>\n",
       "      <th>11</th>\n",
       "      <td>5008844</td>\n",
       "      <td>M</td>\n",
       "      <td>Y</td>\n",
       "      <td>Y</td>\n",
       "      <td>0</td>\n",
       "      <td>112500.0</td>\n",
       "      <td>Commercial associate</td>\n",
       "      <td>Secondary / secondary special</td>\n",
       "      <td>Married</td>\n",
       "      <td>House / apartment</td>\n",
       "      <td>56.131417</td>\n",
       "      <td>12.183436</td>\n",
       "      <td>0</td>\n",
       "      <td>1</td>\n",
       "      <td>0</td>\n",
       "      <td>Drivers</td>\n",
       "      <td>2</td>\n",
       "      <td>0</td>\n",
       "    </tr>\n",
       "    <tr>\n",
       "      <th>12</th>\n",
       "      <td>5008854</td>\n",
       "      <td>F</td>\n",
       "      <td>Y</td>\n",
       "      <td>Y</td>\n",
       "      <td>2</td>\n",
       "      <td>135000.0</td>\n",
       "      <td>Working</td>\n",
       "      <td>Secondary / secondary special</td>\n",
       "      <td>Married</td>\n",
       "      <td>House / apartment</td>\n",
       "      <td>43.151266</td>\n",
       "      <td>8.687201</td>\n",
       "      <td>0</td>\n",
       "      <td>0</td>\n",
       "      <td>0</td>\n",
       "      <td>Laborers</td>\n",
       "      <td>4</td>\n",
       "      <td>0</td>\n",
       "    </tr>\n",
       "    <tr>\n",
       "      <th>13</th>\n",
       "      <td>5008868</td>\n",
       "      <td>F</td>\n",
       "      <td>N</td>\n",
       "      <td>Y</td>\n",
       "      <td>1</td>\n",
       "      <td>211500.0</td>\n",
       "      <td>State servant</td>\n",
       "      <td>Secondary / secondary special</td>\n",
       "      <td>Civil marriage</td>\n",
       "      <td>House / apartment</td>\n",
       "      <td>44.386037</td>\n",
       "      <td>19.436003</td>\n",
       "      <td>0</td>\n",
       "      <td>0</td>\n",
       "      <td>0</td>\n",
       "      <td>Core staff</td>\n",
       "      <td>3</td>\n",
       "      <td>0</td>\n",
       "    </tr>\n",
       "    <tr>\n",
       "      <th>14</th>\n",
       "      <td>5008872</td>\n",
       "      <td>M</td>\n",
       "      <td>Y</td>\n",
       "      <td>Y</td>\n",
       "      <td>0</td>\n",
       "      <td>360000.0</td>\n",
       "      <td>Commercial associate</td>\n",
       "      <td>Secondary / secondary special</td>\n",
       "      <td>Married</td>\n",
       "      <td>House / apartment</td>\n",
       "      <td>45.639973</td>\n",
       "      <td>14.685832</td>\n",
       "      <td>0</td>\n",
       "      <td>1</td>\n",
       "      <td>0</td>\n",
       "      <td>Security staff</td>\n",
       "      <td>2</td>\n",
       "      <td>1</td>\n",
       "    </tr>\n",
       "    <tr>\n",
       "      <th>15</th>\n",
       "      <td>5008873</td>\n",
       "      <td>F</td>\n",
       "      <td>N</td>\n",
       "      <td>Y</td>\n",
       "      <td>2</td>\n",
       "      <td>126000.0</td>\n",
       "      <td>Commercial associate</td>\n",
       "      <td>Higher education</td>\n",
       "      <td>Married</td>\n",
       "      <td>House / apartment</td>\n",
       "      <td>33.979466</td>\n",
       "      <td>4.854209</td>\n",
       "      <td>0</td>\n",
       "      <td>0</td>\n",
       "      <td>1</td>\n",
       "      <td>Managers</td>\n",
       "      <td>4</td>\n",
       "      <td>0</td>\n",
       "    </tr>\n",
       "    <tr>\n",
       "      <th>16</th>\n",
       "      <td>5008884</td>\n",
       "      <td>F</td>\n",
       "      <td>N</td>\n",
       "      <td>Y</td>\n",
       "      <td>0</td>\n",
       "      <td>315000.0</td>\n",
       "      <td>Pensioner</td>\n",
       "      <td>Secondary / secondary special</td>\n",
       "      <td>Widow</td>\n",
       "      <td>House / apartment</td>\n",
       "      <td>55.266256</td>\n",
       "      <td>10.149510</td>\n",
       "      <td>0</td>\n",
       "      <td>0</td>\n",
       "      <td>0</td>\n",
       "      <td>Unknown</td>\n",
       "      <td>1</td>\n",
       "      <td>0</td>\n",
       "    </tr>\n",
       "    <tr>\n",
       "      <th>17</th>\n",
       "      <td>5008888</td>\n",
       "      <td>F</td>\n",
       "      <td>N</td>\n",
       "      <td>Y</td>\n",
       "      <td>0</td>\n",
       "      <td>247500.0</td>\n",
       "      <td>Commercial associate</td>\n",
       "      <td>Higher education</td>\n",
       "      <td>Separated</td>\n",
       "      <td>Rented apartment</td>\n",
       "      <td>46.587269</td>\n",
       "      <td>3.687885</td>\n",
       "      <td>0</td>\n",
       "      <td>0</td>\n",
       "      <td>0</td>\n",
       "      <td>Core staff</td>\n",
       "      <td>1</td>\n",
       "      <td>0</td>\n",
       "    </tr>\n",
       "    <tr>\n",
       "      <th>18</th>\n",
       "      <td>5008891</td>\n",
       "      <td>F</td>\n",
       "      <td>N</td>\n",
       "      <td>Y</td>\n",
       "      <td>0</td>\n",
       "      <td>297000.0</td>\n",
       "      <td>Commercial associate</td>\n",
       "      <td>Secondary / secondary special</td>\n",
       "      <td>Single / not married</td>\n",
       "      <td>Rented apartment</td>\n",
       "      <td>42.488706</td>\n",
       "      <td>8.854209</td>\n",
       "      <td>0</td>\n",
       "      <td>0</td>\n",
       "      <td>0</td>\n",
       "      <td>Laborers</td>\n",
       "      <td>1</td>\n",
       "      <td>0</td>\n",
       "    </tr>\n",
       "    <tr>\n",
       "      <th>19</th>\n",
       "      <td>5008942</td>\n",
       "      <td>F</td>\n",
       "      <td>N</td>\n",
       "      <td>N</td>\n",
       "      <td>0</td>\n",
       "      <td>157500.0</td>\n",
       "      <td>Commercial associate</td>\n",
       "      <td>Higher education</td>\n",
       "      <td>Married</td>\n",
       "      <td>House / apartment</td>\n",
       "      <td>37.349760</td>\n",
       "      <td>13.267625</td>\n",
       "      <td>0</td>\n",
       "      <td>1</td>\n",
       "      <td>0</td>\n",
       "      <td>High skill tech staff</td>\n",
       "      <td>2</td>\n",
       "      <td>1</td>\n",
       "    </tr>\n",
       "  </tbody>\n",
       "</table>\n",
       "</div>"
      ],
      "text/plain": [
       "         ID gender car realty  num_of_children  total_income  \\\n",
       "0   5008804      M   Y      Y                0      427500.0   \n",
       "1   5008806      M   Y      Y                0      112500.0   \n",
       "2   5008808      F   N      Y                0      270000.0   \n",
       "3   5008812      F   N      Y                0      283500.0   \n",
       "4   5008815      M   Y      Y                0      270000.0   \n",
       "5   5008819      M   Y      Y                0      135000.0   \n",
       "6   5008825      F   Y      N                0      130500.0   \n",
       "7   5008830      F   N      Y                0      157500.0   \n",
       "8   5008834      F   N      Y                1      112500.0   \n",
       "9   5008836      M   Y      Y                3      270000.0   \n",
       "10  5008838      M   N      Y                1      405000.0   \n",
       "11  5008844      M   Y      Y                0      112500.0   \n",
       "12  5008854      F   Y      Y                2      135000.0   \n",
       "13  5008868      F   N      Y                1      211500.0   \n",
       "14  5008872      M   Y      Y                0      360000.0   \n",
       "15  5008873      F   N      Y                2      126000.0   \n",
       "16  5008884      F   N      Y                0      315000.0   \n",
       "17  5008888      F   N      Y                0      247500.0   \n",
       "18  5008891      F   N      Y                0      297000.0   \n",
       "19  5008942      F   N      N                0      157500.0   \n",
       "\n",
       "         income_resource                      edu_level         family_status  \\\n",
       "0                Working               Higher education        Civil marriage   \n",
       "1                Working  Secondary / secondary special               Married   \n",
       "2   Commercial associate  Secondary / secondary special  Single / not married   \n",
       "3              Pensioner               Higher education             Separated   \n",
       "4                Working               Higher education               Married   \n",
       "5   Commercial associate  Secondary / secondary special               Married   \n",
       "6                Working              Incomplete higher               Married   \n",
       "7                Working  Secondary / secondary special               Married   \n",
       "8                Working  Secondary / secondary special  Single / not married   \n",
       "9                Working  Secondary / secondary special               Married   \n",
       "10  Commercial associate               Higher education               Married   \n",
       "11  Commercial associate  Secondary / secondary special               Married   \n",
       "12               Working  Secondary / secondary special               Married   \n",
       "13         State servant  Secondary / secondary special        Civil marriage   \n",
       "14  Commercial associate  Secondary / secondary special               Married   \n",
       "15  Commercial associate               Higher education               Married   \n",
       "16             Pensioner  Secondary / secondary special                 Widow   \n",
       "17  Commercial associate               Higher education             Separated   \n",
       "18  Commercial associate  Secondary / secondary special  Single / not married   \n",
       "19  Commercial associate               Higher education               Married   \n",
       "\n",
       "         housing_type        age  employed_years  work_phone  phone  email  \\\n",
       "0    Rented apartment  32.867899       12.435318           1      0      0   \n",
       "1   House / apartment  58.792608        3.104723           0      0      0   \n",
       "2   House / apartment  52.320329        8.353183           0      1      1   \n",
       "3   House / apartment  61.503080       11.568652           0      0      0   \n",
       "4   House / apartment  46.193018        2.105407           1      1      1   \n",
       "5   House / apartment  48.673511        3.268994           0      0      0   \n",
       "6   House / apartment  29.210130        3.019849           0      0      0   \n",
       "7   House / apartment  27.463381        4.021903           0      1      0   \n",
       "8   House / apartment  30.028747        4.435318           0      0      0   \n",
       "9   House / apartment  34.740589        3.184120           0      0      0   \n",
       "10  House / apartment  32.421629        5.519507           0      0      0   \n",
       "11  House / apartment  56.131417       12.183436           0      1      0   \n",
       "12  House / apartment  43.151266        8.687201           0      0      0   \n",
       "13  House / apartment  44.386037       19.436003           0      0      0   \n",
       "14  House / apartment  45.639973       14.685832           0      1      0   \n",
       "15  House / apartment  33.979466        4.854209           0      0      1   \n",
       "16  House / apartment  55.266256       10.149510           0      0      0   \n",
       "17   Rented apartment  46.587269        3.687885           0      0      0   \n",
       "18   Rented apartment  42.488706        8.854209           0      0      0   \n",
       "19  House / apartment  37.349760       13.267625           0      1      0   \n",
       "\n",
       "               occupation  num_of_fam_member  STATUS  \n",
       "0                 Unknown                  2       1  \n",
       "1          Security staff                  2       0  \n",
       "2             Sales staff                  1       0  \n",
       "3                 Unknown                  1       0  \n",
       "4             Accountants                  2       0  \n",
       "5                Laborers                  2       0  \n",
       "6             Accountants                  2       1  \n",
       "7                Laborers                  2       1  \n",
       "8                 Unknown                  2       0  \n",
       "9                Laborers                  5       0  \n",
       "10               Managers                  3       0  \n",
       "11                Drivers                  2       0  \n",
       "12               Laborers                  4       0  \n",
       "13             Core staff                  3       0  \n",
       "14         Security staff                  2       1  \n",
       "15               Managers                  4       0  \n",
       "16                Unknown                  1       0  \n",
       "17             Core staff                  1       0  \n",
       "18               Laborers                  1       0  \n",
       "19  High skill tech staff                  2       1  "
      ]
     },
     "execution_count": 36,
     "metadata": {},
     "output_type": "execute_result"
    }
   ],
   "source": [
    "df.head(20)"
   ]
  },
  {
   "cell_type": "code",
   "execution_count": 37,
   "metadata": {},
   "outputs": [
    {
     "name": "stdout",
     "output_type": "stream",
     "text": [
      "<class 'pandas.core.frame.DataFrame'>\n",
      "Int64Index: 9144 entries, 0 to 9143\n",
      "Data columns (total 18 columns):\n",
      " #   Column             Non-Null Count  Dtype  \n",
      "---  ------             --------------  -----  \n",
      " 0   ID                 9144 non-null   int64  \n",
      " 1   gender             9144 non-null   object \n",
      " 2   car                9144 non-null   object \n",
      " 3   realty             9144 non-null   object \n",
      " 4   num_of_children    9144 non-null   int64  \n",
      " 5   total_income       9144 non-null   float64\n",
      " 6   income_resource    9144 non-null   object \n",
      " 7   edu_level          9144 non-null   object \n",
      " 8   family_status      9144 non-null   object \n",
      " 9   housing_type       9144 non-null   object \n",
      " 10  age                9144 non-null   float64\n",
      " 11  employed_years     9144 non-null   float64\n",
      " 12  work_phone         9144 non-null   int64  \n",
      " 13  phone              9144 non-null   int64  \n",
      " 14  email              9144 non-null   int64  \n",
      " 15  occupation         9144 non-null   object \n",
      " 16  num_of_fam_member  9144 non-null   int64  \n",
      " 17  STATUS             9144 non-null   int64  \n",
      "dtypes: float64(3), int64(7), object(8)\n",
      "memory usage: 1.3+ MB\n"
     ]
    }
   ],
   "source": [
    "df.info()"
   ]
  },
  {
   "cell_type": "code",
   "execution_count": 38,
   "metadata": {},
   "outputs": [
    {
     "data": {
      "text/html": [
       "<div>\n",
       "<style scoped>\n",
       "    .dataframe tbody tr th:only-of-type {\n",
       "        vertical-align: middle;\n",
       "    }\n",
       "\n",
       "    .dataframe tbody tr th {\n",
       "        vertical-align: top;\n",
       "    }\n",
       "\n",
       "    .dataframe thead th {\n",
       "        text-align: right;\n",
       "    }\n",
       "</style>\n",
       "<table border=\"1\" class=\"dataframe\">\n",
       "  <thead>\n",
       "    <tr style=\"text-align: right;\">\n",
       "      <th></th>\n",
       "      <th>ID</th>\n",
       "      <th>num_of_children</th>\n",
       "      <th>total_income</th>\n",
       "      <th>age</th>\n",
       "      <th>employed_years</th>\n",
       "      <th>work_phone</th>\n",
       "      <th>phone</th>\n",
       "      <th>email</th>\n",
       "      <th>num_of_fam_member</th>\n",
       "      <th>STATUS</th>\n",
       "    </tr>\n",
       "  </thead>\n",
       "  <tbody>\n",
       "    <tr>\n",
       "      <th>count</th>\n",
       "      <td>9.144000e+03</td>\n",
       "      <td>9144.000000</td>\n",
       "      <td>9.144000e+03</td>\n",
       "      <td>9144.000000</td>\n",
       "      <td>9144.000000</td>\n",
       "      <td>9144.000000</td>\n",
       "      <td>9144.000000</td>\n",
       "      <td>9144.000000</td>\n",
       "      <td>9144.000000</td>\n",
       "      <td>9144.000000</td>\n",
       "    </tr>\n",
       "    <tr>\n",
       "      <th>mean</th>\n",
       "      <td>5.072532e+06</td>\n",
       "      <td>0.419291</td>\n",
       "      <td>1.813865e+05</td>\n",
       "      <td>43.818275</td>\n",
       "      <td>7.622506</td>\n",
       "      <td>0.223535</td>\n",
       "      <td>0.293088</td>\n",
       "      <td>0.088145</td>\n",
       "      <td>2.180774</td>\n",
       "      <td>0.144685</td>\n",
       "    </tr>\n",
       "    <tr>\n",
       "      <th>std</th>\n",
       "      <td>3.843653e+04</td>\n",
       "      <td>0.730609</td>\n",
       "      <td>9.979142e+04</td>\n",
       "      <td>11.619115</td>\n",
       "      <td>6.020649</td>\n",
       "      <td>0.416636</td>\n",
       "      <td>0.455204</td>\n",
       "      <td>0.283521</td>\n",
       "      <td>0.906318</td>\n",
       "      <td>0.469755</td>\n",
       "    </tr>\n",
       "    <tr>\n",
       "      <th>min</th>\n",
       "      <td>5.008804e+06</td>\n",
       "      <td>0.000000</td>\n",
       "      <td>2.700000e+04</td>\n",
       "      <td>20.503765</td>\n",
       "      <td>0.046543</td>\n",
       "      <td>0.000000</td>\n",
       "      <td>0.000000</td>\n",
       "      <td>0.000000</td>\n",
       "      <td>1.000000</td>\n",
       "      <td>0.000000</td>\n",
       "    </tr>\n",
       "    <tr>\n",
       "      <th>25%</th>\n",
       "      <td>5.036696e+06</td>\n",
       "      <td>0.000000</td>\n",
       "      <td>1.125000e+05</td>\n",
       "      <td>34.112252</td>\n",
       "      <td>2.855578</td>\n",
       "      <td>0.000000</td>\n",
       "      <td>0.000000</td>\n",
       "      <td>0.000000</td>\n",
       "      <td>2.000000</td>\n",
       "      <td>0.000000</td>\n",
       "    </tr>\n",
       "    <tr>\n",
       "      <th>50%</th>\n",
       "      <td>5.068192e+06</td>\n",
       "      <td>0.000000</td>\n",
       "      <td>1.575000e+05</td>\n",
       "      <td>42.770705</td>\n",
       "      <td>6.527036</td>\n",
       "      <td>0.000000</td>\n",
       "      <td>0.000000</td>\n",
       "      <td>0.000000</td>\n",
       "      <td>2.000000</td>\n",
       "      <td>0.000000</td>\n",
       "    </tr>\n",
       "    <tr>\n",
       "      <th>75%</th>\n",
       "      <td>5.105202e+06</td>\n",
       "      <td>1.000000</td>\n",
       "      <td>2.250000e+05</td>\n",
       "      <td>53.601643</td>\n",
       "      <td>11.104723</td>\n",
       "      <td>0.000000</td>\n",
       "      <td>1.000000</td>\n",
       "      <td>0.000000</td>\n",
       "      <td>3.000000</td>\n",
       "      <td>0.000000</td>\n",
       "    </tr>\n",
       "    <tr>\n",
       "      <th>max</th>\n",
       "      <td>5.143532e+06</td>\n",
       "      <td>7.000000</td>\n",
       "      <td>1.575000e+06</td>\n",
       "      <td>68.862423</td>\n",
       "      <td>43.019849</td>\n",
       "      <td>1.000000</td>\n",
       "      <td>1.000000</td>\n",
       "      <td>1.000000</td>\n",
       "      <td>9.000000</td>\n",
       "      <td>5.000000</td>\n",
       "    </tr>\n",
       "  </tbody>\n",
       "</table>\n",
       "</div>"
      ],
      "text/plain": [
       "                 ID  num_of_children  total_income          age  \\\n",
       "count  9.144000e+03      9144.000000  9.144000e+03  9144.000000   \n",
       "mean   5.072532e+06         0.419291  1.813865e+05    43.818275   \n",
       "std    3.843653e+04         0.730609  9.979142e+04    11.619115   \n",
       "min    5.008804e+06         0.000000  2.700000e+04    20.503765   \n",
       "25%    5.036696e+06         0.000000  1.125000e+05    34.112252   \n",
       "50%    5.068192e+06         0.000000  1.575000e+05    42.770705   \n",
       "75%    5.105202e+06         1.000000  2.250000e+05    53.601643   \n",
       "max    5.143532e+06         7.000000  1.575000e+06    68.862423   \n",
       "\n",
       "       employed_years   work_phone        phone        email  \\\n",
       "count     9144.000000  9144.000000  9144.000000  9144.000000   \n",
       "mean         7.622506     0.223535     0.293088     0.088145   \n",
       "std          6.020649     0.416636     0.455204     0.283521   \n",
       "min          0.046543     0.000000     0.000000     0.000000   \n",
       "25%          2.855578     0.000000     0.000000     0.000000   \n",
       "50%          6.527036     0.000000     0.000000     0.000000   \n",
       "75%         11.104723     0.000000     1.000000     0.000000   \n",
       "max         43.019849     1.000000     1.000000     1.000000   \n",
       "\n",
       "       num_of_fam_member       STATUS  \n",
       "count        9144.000000  9144.000000  \n",
       "mean            2.180774     0.144685  \n",
       "std             0.906318     0.469755  \n",
       "min             1.000000     0.000000  \n",
       "25%             2.000000     0.000000  \n",
       "50%             2.000000     0.000000  \n",
       "75%             3.000000     0.000000  \n",
       "max             9.000000     5.000000  "
      ]
     },
     "execution_count": 38,
     "metadata": {},
     "output_type": "execute_result"
    }
   ],
   "source": [
    "df.describe()"
   ]
  },
  {
   "cell_type": "code",
   "execution_count": 39,
   "metadata": {},
   "outputs": [],
   "source": [
    "df['decline'] = df.STATUS.apply(lambda x : 1 if x in (3, 4, 5) else 0)"
   ]
  },
  {
   "cell_type": "code",
   "execution_count": 40,
   "metadata": {},
   "outputs": [
    {
     "data": {
      "text/plain": [
       "0    9091\n",
       "1      53\n",
       "Name: decline, dtype: int64"
      ]
     },
     "execution_count": 40,
     "metadata": {},
     "output_type": "execute_result"
    }
   ],
   "source": [
    "df.decline.value_counts()"
   ]
  },
  {
   "cell_type": "markdown",
   "metadata": {},
   "source": [
    "### so we can see this is inbalance datasets, which may cause some bias when the data implemented in ML training; hence we can use SMOTE NC algorithm to \"create\" some data to make sure that we can even labels"
   ]
  },
  {
   "cell_type": "code",
   "execution_count": 41,
   "metadata": {},
   "outputs": [],
   "source": [
    "df_new = pd.get_dummies(data=df, columns=['gender', 'car', 'realty', 'income_resource', 'edu_level', 'family_status','housing_type','occupation'])"
   ]
  },
  {
   "cell_type": "code",
   "execution_count": 42,
   "metadata": {
    "scrolled": true
   },
   "outputs": [
    {
     "data": {
      "text/html": [
       "<div>\n",
       "<style scoped>\n",
       "    .dataframe tbody tr th:only-of-type {\n",
       "        vertical-align: middle;\n",
       "    }\n",
       "\n",
       "    .dataframe tbody tr th {\n",
       "        vertical-align: top;\n",
       "    }\n",
       "\n",
       "    .dataframe thead th {\n",
       "        text-align: right;\n",
       "    }\n",
       "</style>\n",
       "<table border=\"1\" class=\"dataframe\">\n",
       "  <thead>\n",
       "    <tr style=\"text-align: right;\">\n",
       "      <th></th>\n",
       "      <th>ID</th>\n",
       "      <th>num_of_children</th>\n",
       "      <th>total_income</th>\n",
       "      <th>age</th>\n",
       "      <th>employed_years</th>\n",
       "      <th>work_phone</th>\n",
       "      <th>phone</th>\n",
       "      <th>email</th>\n",
       "      <th>num_of_fam_member</th>\n",
       "      <th>STATUS</th>\n",
       "      <th>...</th>\n",
       "      <th>occupation_Low-skill Laborers</th>\n",
       "      <th>occupation_Managers</th>\n",
       "      <th>occupation_Medicine staff</th>\n",
       "      <th>occupation_Private service staff</th>\n",
       "      <th>occupation_Realty agents</th>\n",
       "      <th>occupation_Sales staff</th>\n",
       "      <th>occupation_Secretaries</th>\n",
       "      <th>occupation_Security staff</th>\n",
       "      <th>occupation_Unknown</th>\n",
       "      <th>occupation_Waiters/barmen staff</th>\n",
       "    </tr>\n",
       "  </thead>\n",
       "  <tbody>\n",
       "    <tr>\n",
       "      <th>0</th>\n",
       "      <td>5008804</td>\n",
       "      <td>0</td>\n",
       "      <td>427500.0</td>\n",
       "      <td>32.867899</td>\n",
       "      <td>12.435318</td>\n",
       "      <td>1</td>\n",
       "      <td>0</td>\n",
       "      <td>0</td>\n",
       "      <td>2</td>\n",
       "      <td>1</td>\n",
       "      <td>...</td>\n",
       "      <td>0</td>\n",
       "      <td>0</td>\n",
       "      <td>0</td>\n",
       "      <td>0</td>\n",
       "      <td>0</td>\n",
       "      <td>0</td>\n",
       "      <td>0</td>\n",
       "      <td>0</td>\n",
       "      <td>1</td>\n",
       "      <td>0</td>\n",
       "    </tr>\n",
       "    <tr>\n",
       "      <th>1</th>\n",
       "      <td>5008806</td>\n",
       "      <td>0</td>\n",
       "      <td>112500.0</td>\n",
       "      <td>58.792608</td>\n",
       "      <td>3.104723</td>\n",
       "      <td>0</td>\n",
       "      <td>0</td>\n",
       "      <td>0</td>\n",
       "      <td>2</td>\n",
       "      <td>0</td>\n",
       "      <td>...</td>\n",
       "      <td>0</td>\n",
       "      <td>0</td>\n",
       "      <td>0</td>\n",
       "      <td>0</td>\n",
       "      <td>0</td>\n",
       "      <td>0</td>\n",
       "      <td>0</td>\n",
       "      <td>1</td>\n",
       "      <td>0</td>\n",
       "      <td>0</td>\n",
       "    </tr>\n",
       "    <tr>\n",
       "      <th>2</th>\n",
       "      <td>5008808</td>\n",
       "      <td>0</td>\n",
       "      <td>270000.0</td>\n",
       "      <td>52.320329</td>\n",
       "      <td>8.353183</td>\n",
       "      <td>0</td>\n",
       "      <td>1</td>\n",
       "      <td>1</td>\n",
       "      <td>1</td>\n",
       "      <td>0</td>\n",
       "      <td>...</td>\n",
       "      <td>0</td>\n",
       "      <td>0</td>\n",
       "      <td>0</td>\n",
       "      <td>0</td>\n",
       "      <td>0</td>\n",
       "      <td>1</td>\n",
       "      <td>0</td>\n",
       "      <td>0</td>\n",
       "      <td>0</td>\n",
       "      <td>0</td>\n",
       "    </tr>\n",
       "    <tr>\n",
       "      <th>3</th>\n",
       "      <td>5008812</td>\n",
       "      <td>0</td>\n",
       "      <td>283500.0</td>\n",
       "      <td>61.503080</td>\n",
       "      <td>11.568652</td>\n",
       "      <td>0</td>\n",
       "      <td>0</td>\n",
       "      <td>0</td>\n",
       "      <td>1</td>\n",
       "      <td>0</td>\n",
       "      <td>...</td>\n",
       "      <td>0</td>\n",
       "      <td>0</td>\n",
       "      <td>0</td>\n",
       "      <td>0</td>\n",
       "      <td>0</td>\n",
       "      <td>0</td>\n",
       "      <td>0</td>\n",
       "      <td>0</td>\n",
       "      <td>1</td>\n",
       "      <td>0</td>\n",
       "    </tr>\n",
       "    <tr>\n",
       "      <th>4</th>\n",
       "      <td>5008815</td>\n",
       "      <td>0</td>\n",
       "      <td>270000.0</td>\n",
       "      <td>46.193018</td>\n",
       "      <td>2.105407</td>\n",
       "      <td>1</td>\n",
       "      <td>1</td>\n",
       "      <td>1</td>\n",
       "      <td>2</td>\n",
       "      <td>0</td>\n",
       "      <td>...</td>\n",
       "      <td>0</td>\n",
       "      <td>0</td>\n",
       "      <td>0</td>\n",
       "      <td>0</td>\n",
       "      <td>0</td>\n",
       "      <td>0</td>\n",
       "      <td>0</td>\n",
       "      <td>0</td>\n",
       "      <td>0</td>\n",
       "      <td>0</td>\n",
       "    </tr>\n",
       "  </tbody>\n",
       "</table>\n",
       "<p>5 rows × 57 columns</p>\n",
       "</div>"
      ],
      "text/plain": [
       "        ID  num_of_children  total_income        age  employed_years  \\\n",
       "0  5008804                0      427500.0  32.867899       12.435318   \n",
       "1  5008806                0      112500.0  58.792608        3.104723   \n",
       "2  5008808                0      270000.0  52.320329        8.353183   \n",
       "3  5008812                0      283500.0  61.503080       11.568652   \n",
       "4  5008815                0      270000.0  46.193018        2.105407   \n",
       "\n",
       "   work_phone  phone  email  num_of_fam_member  STATUS  ...  \\\n",
       "0           1      0      0                  2       1  ...   \n",
       "1           0      0      0                  2       0  ...   \n",
       "2           0      1      1                  1       0  ...   \n",
       "3           0      0      0                  1       0  ...   \n",
       "4           1      1      1                  2       0  ...   \n",
       "\n",
       "   occupation_Low-skill Laborers  occupation_Managers  \\\n",
       "0                              0                    0   \n",
       "1                              0                    0   \n",
       "2                              0                    0   \n",
       "3                              0                    0   \n",
       "4                              0                    0   \n",
       "\n",
       "   occupation_Medicine staff  occupation_Private service staff  \\\n",
       "0                          0                                 0   \n",
       "1                          0                                 0   \n",
       "2                          0                                 0   \n",
       "3                          0                                 0   \n",
       "4                          0                                 0   \n",
       "\n",
       "   occupation_Realty agents  occupation_Sales staff  occupation_Secretaries  \\\n",
       "0                         0                       0                       0   \n",
       "1                         0                       0                       0   \n",
       "2                         0                       1                       0   \n",
       "3                         0                       0                       0   \n",
       "4                         0                       0                       0   \n",
       "\n",
       "   occupation_Security staff  occupation_Unknown  \\\n",
       "0                          0                   1   \n",
       "1                          1                   0   \n",
       "2                          0                   0   \n",
       "3                          0                   1   \n",
       "4                          0                   0   \n",
       "\n",
       "   occupation_Waiters/barmen staff  \n",
       "0                                0  \n",
       "1                                0  \n",
       "2                                0  \n",
       "3                                0  \n",
       "4                                0  \n",
       "\n",
       "[5 rows x 57 columns]"
      ]
     },
     "execution_count": 42,
     "metadata": {},
     "output_type": "execute_result"
    }
   ],
   "source": [
    "df_new.head()"
   ]
  },
  {
   "cell_type": "markdown",
   "metadata": {},
   "source": [
    "### IV begin"
   ]
  },
  {
   "cell_type": "code",
   "execution_count": null,
   "metadata": {},
   "outputs": [],
   "source": []
  },
  {
   "cell_type": "code",
   "execution_count": null,
   "metadata": {},
   "outputs": [],
   "source": []
  },
  {
   "cell_type": "code",
   "execution_count": null,
   "metadata": {},
   "outputs": [],
   "source": []
  },
  {
   "cell_type": "code",
   "execution_count": null,
   "metadata": {},
   "outputs": [],
   "source": []
  },
  {
   "cell_type": "code",
   "execution_count": null,
   "metadata": {},
   "outputs": [],
   "source": []
  },
  {
   "cell_type": "code",
   "execution_count": 43,
   "metadata": {},
   "outputs": [],
   "source": [
    "X = df_new.drop(columns=['ID','STATUS','decline'])\n",
    "y = df_new.decline"
   ]
  },
  {
   "cell_type": "code",
   "execution_count": 44,
   "metadata": {
    "scrolled": true
   },
   "outputs": [
    {
     "data": {
      "text/plain": [
       "Index(['num_of_children', 'total_income', 'age', 'employed_years',\n",
       "       'work_phone', 'phone', 'email', 'num_of_fam_member', 'gender_F',\n",
       "       'gender_M', 'car_N', 'car_Y', 'realty_N', 'realty_Y',\n",
       "       'income_resource_Commercial associate', 'income_resource_Pensioner',\n",
       "       'income_resource_State servant', 'income_resource_Student',\n",
       "       'income_resource_Working', 'edu_level_Academic degree',\n",
       "       'edu_level_Higher education', 'edu_level_Incomplete higher',\n",
       "       'edu_level_Lower secondary', 'edu_level_Secondary / secondary special',\n",
       "       'family_status_Civil marriage', 'family_status_Married',\n",
       "       'family_status_Separated', 'family_status_Single / not married',\n",
       "       'family_status_Widow', 'housing_type_Co-op apartment',\n",
       "       'housing_type_House / apartment', 'housing_type_Municipal apartment',\n",
       "       'housing_type_Office apartment', 'housing_type_Rented apartment',\n",
       "       'housing_type_With parents', 'occupation_Accountants',\n",
       "       'occupation_Cleaning staff', 'occupation_Cooking staff',\n",
       "       'occupation_Core staff', 'occupation_Drivers', 'occupation_HR staff',\n",
       "       'occupation_High skill tech staff', 'occupation_IT staff',\n",
       "       'occupation_Laborers', 'occupation_Low-skill Laborers',\n",
       "       'occupation_Managers', 'occupation_Medicine staff',\n",
       "       'occupation_Private service staff', 'occupation_Realty agents',\n",
       "       'occupation_Sales staff', 'occupation_Secretaries',\n",
       "       'occupation_Security staff', 'occupation_Unknown',\n",
       "       'occupation_Waiters/barmen staff'],\n",
       "      dtype='object')"
      ]
     },
     "execution_count": 44,
     "metadata": {},
     "output_type": "execute_result"
    }
   ],
   "source": [
    "X.columns"
   ]
  },
  {
   "cell_type": "code",
   "execution_count": 45,
   "metadata": {},
   "outputs": [
    {
     "data": {
      "text/plain": [
       "54"
      ]
     },
     "execution_count": 45,
     "metadata": {},
     "output_type": "execute_result"
    }
   ],
   "source": [
    "len(X.columns)"
   ]
  },
  {
   "cell_type": "code",
   "execution_count": 46,
   "metadata": {},
   "outputs": [
    {
     "data": {
      "text/plain": [
       "0    0\n",
       "1    0\n",
       "2    0\n",
       "3    0\n",
       "4    0\n",
       "Name: decline, dtype: int64"
      ]
     },
     "execution_count": 46,
     "metadata": {},
     "output_type": "execute_result"
    }
   ],
   "source": [
    "y.head()"
   ]
  },
  {
   "cell_type": "code",
   "execution_count": 47,
   "metadata": {},
   "outputs": [],
   "source": [
    "X_train, X_test, y_train, y_test = train_test_split(X, y, stratify=y, test_size=0.3, random_state=42)"
   ]
  },
  {
   "cell_type": "code",
   "execution_count": 48,
   "metadata": {},
   "outputs": [],
   "source": [
    "smotenc = SMOTENC([4, 5, 6, 8, 9, 10, 11, 12, 13, 14, 15, 16, 17, 18, 19, 20, 21, 22, 23, 24, 25, 26, 27, 28, 29, 30, 31, 32, 33, 34, 35, 36, 37, 38, 39, 40, 41, 42, 43, 44, 45, 46, 47, 48, 49, 50, 51, 52, 53],random_state = 42) "
   ]
  },
  {
   "cell_type": "code",
   "execution_count": 49,
   "metadata": {},
   "outputs": [],
   "source": [
    "X_over, y_over = smotenc.fit_resample(X_train, y_train)"
   ]
  },
  {
   "cell_type": "code",
   "execution_count": 50,
   "metadata": {},
   "outputs": [],
   "source": [
    "s1 = StandardScaler().fit(X_over)"
   ]
  },
  {
   "cell_type": "code",
   "execution_count": 51,
   "metadata": {},
   "outputs": [],
   "source": [
    "X_over = s1.transform(X_over)"
   ]
  },
  {
   "cell_type": "code",
   "execution_count": 52,
   "metadata": {},
   "outputs": [],
   "source": [
    "X_overtest = s1.transform(X_test)"
   ]
  },
  {
   "cell_type": "code",
   "execution_count": 53,
   "metadata": {},
   "outputs": [],
   "source": [
    "s2 = StandardScaler().fit(X_train)"
   ]
  },
  {
   "cell_type": "code",
   "execution_count": 54,
   "metadata": {},
   "outputs": [],
   "source": [
    "X_train = s2.transform(X_train)"
   ]
  },
  {
   "cell_type": "code",
   "execution_count": 55,
   "metadata": {},
   "outputs": [],
   "source": [
    "X_train_test = s2.transform(X_test)"
   ]
  },
  {
   "cell_type": "markdown",
   "metadata": {},
   "source": [
    "### first we try some single classifier such as Ridge and logistic regression"
   ]
  },
  {
   "cell_type": "code",
   "execution_count": 56,
   "metadata": {},
   "outputs": [],
   "source": [
    "classifiers = {\n",
    "    'Ridge': RidgeClassifier(),\n",
    "    \"LogisticRegression\" : LogisticRegression(),\n",
    "    \"KNeighbors\" : KNeighborsClassifier(),\n",
    "    \"DecisionTree\" : DecisionTreeClassifier(),\n",
    "    \"RandomForest\" : RandomForestClassifier(),\n",
    "    'Adaboost':AdaBoostClassifier(),\n",
    "    'Voting': VotingClassifier(estimators=[\n",
    "        ('lr', LogisticRegression(random_state=42)), \n",
    "        ('rf', RandomForestClassifier(n_estimators=50, random_state=42)), \n",
    "        ('tree', DecisionTreeClassifier(random_state=42)),\n",
    "        ], voting='hard'),\n",
    "        }    "
   ]
  },
  {
   "cell_type": "markdown",
   "metadata": {},
   "source": [
    "# 用metric recall score 去查准。确保准确率"
   ]
  },
  {
   "cell_type": "code",
   "execution_count": 57,
   "metadata": {},
   "outputs": [
    {
     "name": "stdout",
     "output_type": "stream",
     "text": [
      "current clf: Ridge\n",
      "test data score: 0.1875\n"
     ]
    },
    {
     "data": {
      "image/png": "[encoded data removed]",
      "text/plain": [
       "<Figure size 432x288 with 2 Axes>"
      ]
     },
     "metadata": {
      "needs_background": "light"
     },
     "output_type": "display_data"
    },
    {
     "name": "stdout",
     "output_type": "stream",
     "text": [
      "----------------------------------------\n",
      "current clf: LogisticRegression\n",
      "test data score: 0.0625\n"
     ]
    },
    {
     "data": {
      "image/png": "[encoded data removed]",
      "text/plain": [
       "<Figure size 432x288 with 2 Axes>"
      ]
     },
     "metadata": {
      "needs_background": "light"
     },
     "output_type": "display_data"
    },
    {
     "name": "stdout",
     "output_type": "stream",
     "text": [
      "----------------------------------------\n",
      "current clf: KNeighbors\n",
      "test data score: 0.0\n"
     ]
    },
    {
     "data": {
      "image/png": "[encoded data removed]",
      "text/plain": [
       "<Figure size 432x288 with 2 Axes>"
      ]
     },
     "metadata": {
      "needs_background": "light"
     },
     "output_type": "display_data"
    },
    {
     "name": "stdout",
     "output_type": "stream",
     "text": [
      "----------------------------------------\n",
      "current clf: DecisionTree\n",
      "test data score: 0.0625\n"
     ]
    },
    {
     "data": {
      "image/png": "[encoded data removed]",
      "text/plain": [
       "<Figure size 432x288 with 2 Axes>"
      ]
     },
     "metadata": {
      "needs_background": "light"
     },
     "output_type": "display_data"
    },
    {
     "name": "stdout",
     "output_type": "stream",
     "text": [
      "----------------------------------------\n",
      "current clf: RandomForest\n",
      "test data score: 0.0\n"
     ]
    },
    {
     "data": {
      "image/png": "[encoded data removed]",
      "text/plain": [
       "<Figure size 432x288 with 2 Axes>"
      ]
     },
     "metadata": {
      "needs_background": "light"
     },
     "output_type": "display_data"
    },
    {
     "name": "stdout",
     "output_type": "stream",
     "text": [
      "----------------------------------------\n",
      "current clf: Adaboost\n",
      "test data score: 0.0625\n"
     ]
    },
    {
     "data": {
      "image/png": "[encoded data removed]",
      "text/plain": [
       "<Figure size 432x288 with 2 Axes>"
      ]
     },
     "metadata": {
      "needs_background": "light"
     },
     "output_type": "display_data"
    },
    {
     "name": "stdout",
     "output_type": "stream",
     "text": [
      "----------------------------------------\n",
      "current clf: Voting\n",
      "test data score: 0.0625\n"
     ]
    },
    {
     "data": {
      "image/png": "[encoded data removed]",
      "text/plain": [
       "<Figure size 432x288 with 2 Axes>"
      ]
     },
     "metadata": {
      "needs_background": "light"
     },
     "output_type": "display_data"
    },
    {
     "name": "stdout",
     "output_type": "stream",
     "text": [
      "----------------------------------------\n"
     ]
    }
   ],
   "source": [
    "for key, classifier in classifiers.items():\n",
    "    classifier.fit(X_over, y_over)\n",
    "    y_pred = classifier.predict(X_overtest)\n",
    "    score = recall_score(y_test, y_pred)\n",
    "    print(f'current clf: {key}')\n",
    "    print(f'test data score: {score}')\n",
    "    plot_confusion_matrix(classifier, X_overtest, y_test)\n",
    "    plt.show()\n",
    "    print('-'*40)"
   ]
  },
  {
   "cell_type": "code",
   "execution_count": 58,
   "metadata": {},
   "outputs": [
    {
     "name": "stdout",
     "output_type": "stream",
     "text": [
      "current clf: Ridge\n",
      "test data score: 0.0\n"
     ]
    },
    {
     "data": {
      "image/png": "[encoded data removed]",
      "text/plain": [
       "<Figure size 432x288 with 2 Axes>"
      ]
     },
     "metadata": {
      "needs_background": "light"
     },
     "output_type": "display_data"
    },
    {
     "name": "stdout",
     "output_type": "stream",
     "text": [
      "----------------------------------------\n",
      "current clf: LogisticRegression\n",
      "test data score: 0.0\n"
     ]
    },
    {
     "data": {
      "image/png": "[encoded data removed]",
      "text/plain": [
       "<Figure size 432x288 with 2 Axes>"
      ]
     },
     "metadata": {
      "needs_background": "light"
     },
     "output_type": "display_data"
    },
    {
     "name": "stdout",
     "output_type": "stream",
     "text": [
      "----------------------------------------\n",
      "current clf: KNeighbors\n",
      "test data score: 0.0\n"
     ]
    },
    {
     "data": {
      "image/png": "[encoded data removed]",
      "text/plain": [
       "<Figure size 432x288 with 2 Axes>"
      ]
     },
     "metadata": {
      "needs_background": "light"
     },
     "output_type": "display_data"
    },
    {
     "name": "stdout",
     "output_type": "stream",
     "text": [
      "----------------------------------------\n",
      "current clf: DecisionTree\n",
      "test data score: 0.0\n"
     ]
    },
    {
     "data": {
      "image/png": "[encoded data removed]",
      "text/plain": [
       "<Figure size 432x288 with 2 Axes>"
      ]
     },
     "metadata": {
      "needs_background": "light"
     },
     "output_type": "display_data"
    },
    {
     "name": "stdout",
     "output_type": "stream",
     "text": [
      "----------------------------------------\n",
      "current clf: RandomForest\n",
      "test data score: 0.0\n"
     ]
    },
    {
     "data": {
      "image/png": "[encoded data removed]",
      "text/plain": [
       "<Figure size 432x288 with 2 Axes>"
      ]
     },
     "metadata": {
      "needs_background": "light"
     },
     "output_type": "display_data"
    },
    {
     "name": "stdout",
     "output_type": "stream",
     "text": [
      "----------------------------------------\n",
      "current clf: Adaboost\n",
      "test data score: 0.0\n"
     ]
    },
    {
     "data": {
      "image/png": "[encoded data removed]",
      "text/plain": [
       "<Figure size 432x288 with 2 Axes>"
      ]
     },
     "metadata": {
      "needs_background": "light"
     },
     "output_type": "display_data"
    },
    {
     "name": "stdout",
     "output_type": "stream",
     "text": [
      "----------------------------------------\n",
      "current clf: Voting\n",
      "test data score: 0.0\n"
     ]
    },
    {
     "data": {
      "image/png": "[encoded data removed]",
      "text/plain": [
       "<Figure size 432x288 with 2 Axes>"
      ]
     },
     "metadata": {
      "needs_background": "light"
     },
     "output_type": "display_data"
    },
    {
     "name": "stdout",
     "output_type": "stream",
     "text": [
      "----------------------------------------\n"
     ]
    }
   ],
   "source": [
    "for key, classifier in classifiers.items():\n",
    "    classifier.fit(X_train, y_train)\n",
    "    \n",
    "    y_pred = classifier.predict(X_train_test)\n",
    "    score = recall_score(y_test, y_pred)\n",
    "    print(f'current clf: {key}')\n",
    "    print(f'test data score: {score}')\n",
    "    plot_confusion_matrix(classifier, X_train_test, y_test)\n",
    "    plt.show()\n",
    "    print('-'*40)"
   ]
  },
  {
   "cell_type": "code",
   "execution_count": null,
   "metadata": {},
   "outputs": [],
   "source": []
  },
  {
   "cell_type": "code",
   "execution_count": null,
   "metadata": {},
   "outputs": [],
   "source": []
  }
 ],
 "metadata": {
  "kernelspec": {
   "display_name": "Python 3",
   "language": "python",
   "name": "python3"
  },
  "language_info": {
   "codemirror_mode": {
    "name": "ipython",
    "version": 3
   },
   "file_extension": ".py",
   "mimetype": "text/x-python",
   "name": "python",
   "nbconvert_exporter": "python",
   "pygments_lexer": "ipython3",
   "version": "3.8.5"
  }
 },
 "nbformat": 4,
 "nbformat_minor": 5
}
